{
  "nbformat": 4,
  "nbformat_minor": 0,
  "metadata": {
    "colab": {
      "provenance": [],
      "authorship_tag": "ABX9TyNM5eg13MowN9zyUhgWaJms",
      "include_colab_link": true
    },
    "kernelspec": {
      "name": "python3",
      "display_name": "Python 3"
    },
    "language_info": {
      "name": "python"
    }
  },
  "cells": [
    {
      "cell_type": "markdown",
      "metadata": {
        "id": "view-in-github",
        "colab_type": "text"
      },
      "source": [
        "<a href=\"https://colab.research.google.com/github/CodeKunj/MLinternship/blob/main/Movie_Recommendation_System.ipynb\" target=\"_parent\"><img src=\"https://colab.research.google.com/assets/colab-badge.svg\" alt=\"Open In Colab\"/></a>"
      ]
    },
    {
      "cell_type": "markdown",
      "source": [
        "# **Movie Recommendation System**\n",
        "**Recommender System** is a system that seeks to predict or filter preferences according to the user's choices. Recommender system are utilized in a variety of areas including movies, news, books, research articles, search queries, social tags, ang products in general Recommender systems produce a list of recommendations in any of the two ways -\n",
        "\n",
        "**Collaborative filtering:** Collaborative filtering approaches build a model from the user's past behavior (i.e. items purchased or searched by the user) as well as similar decisions model by other users. This model is then used to predict items (or ratings for items) that users may have an interest in.\n",
        "\n",
        "**Content-based filtering:** Content based filtering approaches user a series characteristics of an item in oeder to recommend additional items with similar properties. Content based filtering methods are totally based on a description of the item and a profile of the user's preferences. It recommends items based on the user's past preferences. Let's develop a basic recommendation system using Pythonn and Pandas.\n",
        "\n",
        "Let's develop a basic recommendation system by suggesting items that are most similar to a particular item, in this case, movies. It just tells what movies/items are most similar to the user's movie choice."
      ],
      "metadata": {
        "id": "1XfZPBBl-SaX"
      }
    },
    {
      "cell_type": "markdown",
      "source": [
        "### **Import Library**"
      ],
      "metadata": {
        "id": "fwzSZmWKCesf"
      }
    },
    {
      "cell_type": "code",
      "execution_count": 1,
      "metadata": {
        "id": "jNHPlQJr6dCH"
      },
      "outputs": [],
      "source": [
        "import pandas as pd"
      ]
    },
    {
      "cell_type": "code",
      "source": [
        "import numpy as np"
      ],
      "metadata": {
        "id": "ZbzbsLW1CryD"
      },
      "execution_count": 2,
      "outputs": []
    },
    {
      "cell_type": "markdown",
      "source": [
        "### **Import Dataset**"
      ],
      "metadata": {
        "id": "3DdM4NDoCv3Z"
      }
    },
    {
      "cell_type": "code",
      "source": [
        "MR = pd.read_csv('https://github.com/YBI-Foundation/Dataset/raw/main/Movies%20Recommendation.csv')"
      ],
      "metadata": {
        "id": "TXvDObA6CzxD"
      },
      "execution_count": 3,
      "outputs": []
    },
    {
      "cell_type": "code",
      "source": [
        "MR.head()"
      ],
      "metadata": {
        "colab": {
          "base_uri": "https://localhost:8080/",
          "height": 716
        },
        "id": "-M6fXq1RGYor",
        "outputId": "8281b5e7-5dc8-4b9a-f262-901d05c2793a"
      },
      "execution_count": 4,
      "outputs": [
        {
          "output_type": "execute_result",
          "data": {
            "text/plain": [
              "   Movie_ID      Movie_Title                       Movie_Genre Movie_Language  \\\n",
              "0         1       Four Rooms                      Crime Comedy             en   \n",
              "1         2        Star Wars  Adventure Action Science Fiction             en   \n",
              "2         3     Finding Nemo                  Animation Family             en   \n",
              "3         4     Forrest Gump              Comedy Drama Romance             en   \n",
              "4         5  American Beauty                             Drama             en   \n",
              "\n",
              "   Movie_Budget  Movie_Popularity Movie_Release_Date  Movie_Revenue  \\\n",
              "0       4000000         22.876230         09-12-1995        4300000   \n",
              "1      11000000        126.393695         25-05-1977      775398007   \n",
              "2      94000000         85.688789         30-05-2003      940335536   \n",
              "3      55000000        138.133331         06-07-1994      677945399   \n",
              "4      15000000         80.878605         15-09-1999      356296601   \n",
              "\n",
              "   Movie_Runtime  Movie_Vote  ...  \\\n",
              "0           98.0         6.5  ...   \n",
              "1          121.0         8.1  ...   \n",
              "2          100.0         7.6  ...   \n",
              "3          142.0         8.2  ...   \n",
              "4          122.0         7.9  ...   \n",
              "\n",
              "                                      Movie_Homepage  \\\n",
              "0                                                NaN   \n",
              "1  http://www.starwars.com/films/star-wars-episod...   \n",
              "2              http://movies.disney.com/finding-nemo   \n",
              "3                                                NaN   \n",
              "4                      http://www.dreamworks.com/ab/   \n",
              "\n",
              "                                      Movie_Keywords  \\\n",
              "0          hotel new year's eve witch bet hotel room   \n",
              "1        android galaxy hermit death star lightsaber   \n",
              "2  father son relationship harbor underwater fish...   \n",
              "3  vietnam veteran hippie mentally disabled runni...   \n",
              "4  male nudity female nudity adultery midlife cri...   \n",
              "\n",
              "                                      Movie_Overview  \\\n",
              "0  It's Ted the Bellhop's first night on the job....   \n",
              "1  Princess Leia is captured and held hostage by ...   \n",
              "2  Nemo, an adventurous young clownfish, is unexp...   \n",
              "3  A man with a low IQ has accomplished great thi...   \n",
              "4  Lester Burnham, a depressed suburban father in...   \n",
              "\n",
              "                              Movie_Production_House  \\\n",
              "0  [{\"name\": \"Miramax Films\", \"id\": 14}, {\"name\":...   \n",
              "1  [{\"name\": \"Lucasfilm\", \"id\": 1}, {\"name\": \"Twe...   \n",
              "2     [{\"name\": \"Pixar Animation Studios\", \"id\": 3}]   \n",
              "3          [{\"name\": \"Paramount Pictures\", \"id\": 4}]   \n",
              "4  [{\"name\": \"DreamWorks SKG\", \"id\": 27}, {\"name\"...   \n",
              "\n",
              "                            Movie_Production_Country  \\\n",
              "0  [{\"iso_3166_1\": \"US\", \"name\": \"United States o...   \n",
              "1  [{\"iso_3166_1\": \"US\", \"name\": \"United States o...   \n",
              "2  [{\"iso_3166_1\": \"US\", \"name\": \"United States o...   \n",
              "3  [{\"iso_3166_1\": \"US\", \"name\": \"United States o...   \n",
              "4  [{\"iso_3166_1\": \"US\", \"name\": \"United States o...   \n",
              "\n",
              "                      Movie_Spoken_Language  \\\n",
              "0  [{\"iso_639_1\": \"en\", \"name\": \"English\"}]   \n",
              "1  [{\"iso_639_1\": \"en\", \"name\": \"English\"}]   \n",
              "2  [{\"iso_639_1\": \"en\", \"name\": \"English\"}]   \n",
              "3  [{\"iso_639_1\": \"en\", \"name\": \"English\"}]   \n",
              "4  [{\"iso_639_1\": \"en\", \"name\": \"English\"}]   \n",
              "\n",
              "                                       Movie_Tagline  \\\n",
              "0  Twelve outrageous guests. Four scandalous requ...   \n",
              "1       A long time ago in a galaxy far, far away...   \n",
              "2  There are 3.7 trillion fish in the ocean, they...   \n",
              "3  The world will never be the same, once you've ...   \n",
              "4                                       Look closer.   \n",
              "\n",
              "                                          Movie_Cast  \\\n",
              "0  Tim Roth Antonio Banderas Jennifer Beals Madon...   \n",
              "1  Mark Hamill Harrison Ford Carrie Fisher Peter ...   \n",
              "2  Albert Brooks Ellen DeGeneres Alexander Gould ...   \n",
              "3  Tom Hanks Robin Wright Gary Sinise Mykelti Wil...   \n",
              "4  Kevin Spacey Annette Bening Thora Birch Wes Be...   \n",
              "\n",
              "                                          Movie_Crew   Movie_Director  \n",
              "0  [{'name': 'Allison Anders', 'gender': 1, 'depa...   Allison Anders  \n",
              "1  [{'name': 'George Lucas', 'gender': 2, 'depart...     George Lucas  \n",
              "2  [{'name': 'Andrew Stanton', 'gender': 2, 'depa...   Andrew Stanton  \n",
              "3  [{'name': 'Alan Silvestri', 'gender': 2, 'depa...  Robert Zemeckis  \n",
              "4  [{'name': 'Thomas Newman', 'gender': 2, 'depar...       Sam Mendes  \n",
              "\n",
              "[5 rows x 21 columns]"
            ],
            "text/html": [
              "\n",
              "\n",
              "  <div id=\"df-aef8e8e7-385f-4acb-a119-54ee09012900\">\n",
              "    <div class=\"colab-df-container\">\n",
              "      <div>\n",
              "<style scoped>\n",
              "    .dataframe tbody tr th:only-of-type {\n",
              "        vertical-align: middle;\n",
              "    }\n",
              "\n",
              "    .dataframe tbody tr th {\n",
              "        vertical-align: top;\n",
              "    }\n",
              "\n",
              "    .dataframe thead th {\n",
              "        text-align: right;\n",
              "    }\n",
              "</style>\n",
              "<table border=\"1\" class=\"dataframe\">\n",
              "  <thead>\n",
              "    <tr style=\"text-align: right;\">\n",
              "      <th></th>\n",
              "      <th>Movie_ID</th>\n",
              "      <th>Movie_Title</th>\n",
              "      <th>Movie_Genre</th>\n",
              "      <th>Movie_Language</th>\n",
              "      <th>Movie_Budget</th>\n",
              "      <th>Movie_Popularity</th>\n",
              "      <th>Movie_Release_Date</th>\n",
              "      <th>Movie_Revenue</th>\n",
              "      <th>Movie_Runtime</th>\n",
              "      <th>Movie_Vote</th>\n",
              "      <th>...</th>\n",
              "      <th>Movie_Homepage</th>\n",
              "      <th>Movie_Keywords</th>\n",
              "      <th>Movie_Overview</th>\n",
              "      <th>Movie_Production_House</th>\n",
              "      <th>Movie_Production_Country</th>\n",
              "      <th>Movie_Spoken_Language</th>\n",
              "      <th>Movie_Tagline</th>\n",
              "      <th>Movie_Cast</th>\n",
              "      <th>Movie_Crew</th>\n",
              "      <th>Movie_Director</th>\n",
              "    </tr>\n",
              "  </thead>\n",
              "  <tbody>\n",
              "    <tr>\n",
              "      <th>0</th>\n",
              "      <td>1</td>\n",
              "      <td>Four Rooms</td>\n",
              "      <td>Crime Comedy</td>\n",
              "      <td>en</td>\n",
              "      <td>4000000</td>\n",
              "      <td>22.876230</td>\n",
              "      <td>09-12-1995</td>\n",
              "      <td>4300000</td>\n",
              "      <td>98.0</td>\n",
              "      <td>6.5</td>\n",
              "      <td>...</td>\n",
              "      <td>NaN</td>\n",
              "      <td>hotel new year's eve witch bet hotel room</td>\n",
              "      <td>It's Ted the Bellhop's first night on the job....</td>\n",
              "      <td>[{\"name\": \"Miramax Films\", \"id\": 14}, {\"name\":...</td>\n",
              "      <td>[{\"iso_3166_1\": \"US\", \"name\": \"United States o...</td>\n",
              "      <td>[{\"iso_639_1\": \"en\", \"name\": \"English\"}]</td>\n",
              "      <td>Twelve outrageous guests. Four scandalous requ...</td>\n",
              "      <td>Tim Roth Antonio Banderas Jennifer Beals Madon...</td>\n",
              "      <td>[{'name': 'Allison Anders', 'gender': 1, 'depa...</td>\n",
              "      <td>Allison Anders</td>\n",
              "    </tr>\n",
              "    <tr>\n",
              "      <th>1</th>\n",
              "      <td>2</td>\n",
              "      <td>Star Wars</td>\n",
              "      <td>Adventure Action Science Fiction</td>\n",
              "      <td>en</td>\n",
              "      <td>11000000</td>\n",
              "      <td>126.393695</td>\n",
              "      <td>25-05-1977</td>\n",
              "      <td>775398007</td>\n",
              "      <td>121.0</td>\n",
              "      <td>8.1</td>\n",
              "      <td>...</td>\n",
              "      <td>http://www.starwars.com/films/star-wars-episod...</td>\n",
              "      <td>android galaxy hermit death star lightsaber</td>\n",
              "      <td>Princess Leia is captured and held hostage by ...</td>\n",
              "      <td>[{\"name\": \"Lucasfilm\", \"id\": 1}, {\"name\": \"Twe...</td>\n",
              "      <td>[{\"iso_3166_1\": \"US\", \"name\": \"United States o...</td>\n",
              "      <td>[{\"iso_639_1\": \"en\", \"name\": \"English\"}]</td>\n",
              "      <td>A long time ago in a galaxy far, far away...</td>\n",
              "      <td>Mark Hamill Harrison Ford Carrie Fisher Peter ...</td>\n",
              "      <td>[{'name': 'George Lucas', 'gender': 2, 'depart...</td>\n",
              "      <td>George Lucas</td>\n",
              "    </tr>\n",
              "    <tr>\n",
              "      <th>2</th>\n",
              "      <td>3</td>\n",
              "      <td>Finding Nemo</td>\n",
              "      <td>Animation Family</td>\n",
              "      <td>en</td>\n",
              "      <td>94000000</td>\n",
              "      <td>85.688789</td>\n",
              "      <td>30-05-2003</td>\n",
              "      <td>940335536</td>\n",
              "      <td>100.0</td>\n",
              "      <td>7.6</td>\n",
              "      <td>...</td>\n",
              "      <td>http://movies.disney.com/finding-nemo</td>\n",
              "      <td>father son relationship harbor underwater fish...</td>\n",
              "      <td>Nemo, an adventurous young clownfish, is unexp...</td>\n",
              "      <td>[{\"name\": \"Pixar Animation Studios\", \"id\": 3}]</td>\n",
              "      <td>[{\"iso_3166_1\": \"US\", \"name\": \"United States o...</td>\n",
              "      <td>[{\"iso_639_1\": \"en\", \"name\": \"English\"}]</td>\n",
              "      <td>There are 3.7 trillion fish in the ocean, they...</td>\n",
              "      <td>Albert Brooks Ellen DeGeneres Alexander Gould ...</td>\n",
              "      <td>[{'name': 'Andrew Stanton', 'gender': 2, 'depa...</td>\n",
              "      <td>Andrew Stanton</td>\n",
              "    </tr>\n",
              "    <tr>\n",
              "      <th>3</th>\n",
              "      <td>4</td>\n",
              "      <td>Forrest Gump</td>\n",
              "      <td>Comedy Drama Romance</td>\n",
              "      <td>en</td>\n",
              "      <td>55000000</td>\n",
              "      <td>138.133331</td>\n",
              "      <td>06-07-1994</td>\n",
              "      <td>677945399</td>\n",
              "      <td>142.0</td>\n",
              "      <td>8.2</td>\n",
              "      <td>...</td>\n",
              "      <td>NaN</td>\n",
              "      <td>vietnam veteran hippie mentally disabled runni...</td>\n",
              "      <td>A man with a low IQ has accomplished great thi...</td>\n",
              "      <td>[{\"name\": \"Paramount Pictures\", \"id\": 4}]</td>\n",
              "      <td>[{\"iso_3166_1\": \"US\", \"name\": \"United States o...</td>\n",
              "      <td>[{\"iso_639_1\": \"en\", \"name\": \"English\"}]</td>\n",
              "      <td>The world will never be the same, once you've ...</td>\n",
              "      <td>Tom Hanks Robin Wright Gary Sinise Mykelti Wil...</td>\n",
              "      <td>[{'name': 'Alan Silvestri', 'gender': 2, 'depa...</td>\n",
              "      <td>Robert Zemeckis</td>\n",
              "    </tr>\n",
              "    <tr>\n",
              "      <th>4</th>\n",
              "      <td>5</td>\n",
              "      <td>American Beauty</td>\n",
              "      <td>Drama</td>\n",
              "      <td>en</td>\n",
              "      <td>15000000</td>\n",
              "      <td>80.878605</td>\n",
              "      <td>15-09-1999</td>\n",
              "      <td>356296601</td>\n",
              "      <td>122.0</td>\n",
              "      <td>7.9</td>\n",
              "      <td>...</td>\n",
              "      <td>http://www.dreamworks.com/ab/</td>\n",
              "      <td>male nudity female nudity adultery midlife cri...</td>\n",
              "      <td>Lester Burnham, a depressed suburban father in...</td>\n",
              "      <td>[{\"name\": \"DreamWorks SKG\", \"id\": 27}, {\"name\"...</td>\n",
              "      <td>[{\"iso_3166_1\": \"US\", \"name\": \"United States o...</td>\n",
              "      <td>[{\"iso_639_1\": \"en\", \"name\": \"English\"}]</td>\n",
              "      <td>Look closer.</td>\n",
              "      <td>Kevin Spacey Annette Bening Thora Birch Wes Be...</td>\n",
              "      <td>[{'name': 'Thomas Newman', 'gender': 2, 'depar...</td>\n",
              "      <td>Sam Mendes</td>\n",
              "    </tr>\n",
              "  </tbody>\n",
              "</table>\n",
              "<p>5 rows × 21 columns</p>\n",
              "</div>\n",
              "      <button class=\"colab-df-convert\" onclick=\"convertToInteractive('df-aef8e8e7-385f-4acb-a119-54ee09012900')\"\n",
              "              title=\"Convert this dataframe to an interactive table.\"\n",
              "              style=\"display:none;\">\n",
              "\n",
              "  <svg xmlns=\"http://www.w3.org/2000/svg\" height=\"24px\"viewBox=\"0 0 24 24\"\n",
              "       width=\"24px\">\n",
              "    <path d=\"M0 0h24v24H0V0z\" fill=\"none\"/>\n",
              "    <path d=\"M18.56 5.44l.94 2.06.94-2.06 2.06-.94-2.06-.94-.94-2.06-.94 2.06-2.06.94zm-11 1L8.5 8.5l.94-2.06 2.06-.94-2.06-.94L8.5 2.5l-.94 2.06-2.06.94zm10 10l.94 2.06.94-2.06 2.06-.94-2.06-.94-.94-2.06-.94 2.06-2.06.94z\"/><path d=\"M17.41 7.96l-1.37-1.37c-.4-.4-.92-.59-1.43-.59-.52 0-1.04.2-1.43.59L10.3 9.45l-7.72 7.72c-.78.78-.78 2.05 0 2.83L4 21.41c.39.39.9.59 1.41.59.51 0 1.02-.2 1.41-.59l7.78-7.78 2.81-2.81c.8-.78.8-2.07 0-2.86zM5.41 20L4 18.59l7.72-7.72 1.47 1.35L5.41 20z\"/>\n",
              "  </svg>\n",
              "      </button>\n",
              "\n",
              "\n",
              "\n",
              "    <div id=\"df-fe9a0c21-2e88-4870-8877-918c8e32a5ed\">\n",
              "      <button class=\"colab-df-quickchart\" onclick=\"quickchart('df-fe9a0c21-2e88-4870-8877-918c8e32a5ed')\"\n",
              "              title=\"Suggest charts.\"\n",
              "              style=\"display:none;\">\n",
              "\n",
              "<svg xmlns=\"http://www.w3.org/2000/svg\" height=\"24px\"viewBox=\"0 0 24 24\"\n",
              "     width=\"24px\">\n",
              "    <g>\n",
              "        <path d=\"M19 3H5c-1.1 0-2 .9-2 2v14c0 1.1.9 2 2 2h14c1.1 0 2-.9 2-2V5c0-1.1-.9-2-2-2zM9 17H7v-7h2v7zm4 0h-2V7h2v10zm4 0h-2v-4h2v4z\"/>\n",
              "    </g>\n",
              "</svg>\n",
              "      </button>\n",
              "    </div>\n",
              "\n",
              "<style>\n",
              "  .colab-df-quickchart {\n",
              "    background-color: #E8F0FE;\n",
              "    border: none;\n",
              "    border-radius: 50%;\n",
              "    cursor: pointer;\n",
              "    display: none;\n",
              "    fill: #1967D2;\n",
              "    height: 32px;\n",
              "    padding: 0 0 0 0;\n",
              "    width: 32px;\n",
              "  }\n",
              "\n",
              "  .colab-df-quickchart:hover {\n",
              "    background-color: #E2EBFA;\n",
              "    box-shadow: 0px 1px 2px rgba(60, 64, 67, 0.3), 0px 1px 3px 1px rgba(60, 64, 67, 0.15);\n",
              "    fill: #174EA6;\n",
              "  }\n",
              "\n",
              "  [theme=dark] .colab-df-quickchart {\n",
              "    background-color: #3B4455;\n",
              "    fill: #D2E3FC;\n",
              "  }\n",
              "\n",
              "  [theme=dark] .colab-df-quickchart:hover {\n",
              "    background-color: #434B5C;\n",
              "    box-shadow: 0px 1px 3px 1px rgba(0, 0, 0, 0.15);\n",
              "    filter: drop-shadow(0px 1px 2px rgba(0, 0, 0, 0.3));\n",
              "    fill: #FFFFFF;\n",
              "  }\n",
              "</style>\n",
              "\n",
              "    <script>\n",
              "      async function quickchart(key) {\n",
              "        const containerElement = document.querySelector('#' + key);\n",
              "        const charts = await google.colab.kernel.invokeFunction(\n",
              "            'suggestCharts', [key], {});\n",
              "      }\n",
              "    </script>\n",
              "\n",
              "      <script>\n",
              "\n",
              "function displayQuickchartButton(domScope) {\n",
              "  let quickchartButtonEl =\n",
              "    domScope.querySelector('#df-fe9a0c21-2e88-4870-8877-918c8e32a5ed button.colab-df-quickchart');\n",
              "  quickchartButtonEl.style.display =\n",
              "    google.colab.kernel.accessAllowed ? 'block' : 'none';\n",
              "}\n",
              "\n",
              "        displayQuickchartButton(document);\n",
              "      </script>\n",
              "      <style>\n",
              "    .colab-df-container {\n",
              "      display:flex;\n",
              "      flex-wrap:wrap;\n",
              "      gap: 12px;\n",
              "    }\n",
              "\n",
              "    .colab-df-convert {\n",
              "      background-color: #E8F0FE;\n",
              "      border: none;\n",
              "      border-radius: 50%;\n",
              "      cursor: pointer;\n",
              "      display: none;\n",
              "      fill: #1967D2;\n",
              "      height: 32px;\n",
              "      padding: 0 0 0 0;\n",
              "      width: 32px;\n",
              "    }\n",
              "\n",
              "    .colab-df-convert:hover {\n",
              "      background-color: #E2EBFA;\n",
              "      box-shadow: 0px 1px 2px rgba(60, 64, 67, 0.3), 0px 1px 3px 1px rgba(60, 64, 67, 0.15);\n",
              "      fill: #174EA6;\n",
              "    }\n",
              "\n",
              "    [theme=dark] .colab-df-convert {\n",
              "      background-color: #3B4455;\n",
              "      fill: #D2E3FC;\n",
              "    }\n",
              "\n",
              "    [theme=dark] .colab-df-convert:hover {\n",
              "      background-color: #434B5C;\n",
              "      box-shadow: 0px 1px 3px 1px rgba(0, 0, 0, 0.15);\n",
              "      filter: drop-shadow(0px 1px 2px rgba(0, 0, 0, 0.3));\n",
              "      fill: #FFFFFF;\n",
              "    }\n",
              "  </style>\n",
              "\n",
              "      <script>\n",
              "        const buttonEl =\n",
              "          document.querySelector('#df-aef8e8e7-385f-4acb-a119-54ee09012900 button.colab-df-convert');\n",
              "        buttonEl.style.display =\n",
              "          google.colab.kernel.accessAllowed ? 'block' : 'none';\n",
              "\n",
              "        async function convertToInteractive(key) {\n",
              "          const element = document.querySelector('#df-aef8e8e7-385f-4acb-a119-54ee09012900');\n",
              "          const dataTable =\n",
              "            await google.colab.kernel.invokeFunction('convertToInteractive',\n",
              "                                                     [key], {});\n",
              "          if (!dataTable) return;\n",
              "\n",
              "          const docLinkHtml = 'Like what you see? Visit the ' +\n",
              "            '<a target=\"_blank\" href=https://colab.research.google.com/notebooks/data_table.ipynb>data table notebook</a>'\n",
              "            + ' to learn more about interactive tables.';\n",
              "          element.innerHTML = '';\n",
              "          dataTable['output_type'] = 'display_data';\n",
              "          await google.colab.output.renderOutput(dataTable, element);\n",
              "          const docLink = document.createElement('div');\n",
              "          docLink.innerHTML = docLinkHtml;\n",
              "          element.appendChild(docLink);\n",
              "        }\n",
              "      </script>\n",
              "    </div>\n",
              "  </div>\n"
            ]
          },
          "metadata": {},
          "execution_count": 4
        }
      ]
    },
    {
      "cell_type": "code",
      "source": [
        "MR.info()"
      ],
      "metadata": {
        "colab": {
          "base_uri": "https://localhost:8080/"
        },
        "id": "0END9G7-GrKk",
        "outputId": "2c9e36a1-eb69-4370-e0a3-b73c5d8371eb"
      },
      "execution_count": 5,
      "outputs": [
        {
          "output_type": "stream",
          "name": "stdout",
          "text": [
            "<class 'pandas.core.frame.DataFrame'>\n",
            "RangeIndex: 4760 entries, 0 to 4759\n",
            "Data columns (total 21 columns):\n",
            " #   Column                    Non-Null Count  Dtype  \n",
            "---  ------                    --------------  -----  \n",
            " 0   Movie_ID                  4760 non-null   int64  \n",
            " 1   Movie_Title               4760 non-null   object \n",
            " 2   Movie_Genre               4760 non-null   object \n",
            " 3   Movie_Language            4760 non-null   object \n",
            " 4   Movie_Budget              4760 non-null   int64  \n",
            " 5   Movie_Popularity          4760 non-null   float64\n",
            " 6   Movie_Release_Date        4760 non-null   object \n",
            " 7   Movie_Revenue             4760 non-null   int64  \n",
            " 8   Movie_Runtime             4758 non-null   float64\n",
            " 9   Movie_Vote                4760 non-null   float64\n",
            " 10  Movie_Vote_Count          4760 non-null   int64  \n",
            " 11  Movie_Homepage            1699 non-null   object \n",
            " 12  Movie_Keywords            4373 non-null   object \n",
            " 13  Movie_Overview            4757 non-null   object \n",
            " 14  Movie_Production_House    4760 non-null   object \n",
            " 15  Movie_Production_Country  4760 non-null   object \n",
            " 16  Movie_Spoken_Language     4760 non-null   object \n",
            " 17  Movie_Tagline             3942 non-null   object \n",
            " 18  Movie_Cast                4733 non-null   object \n",
            " 19  Movie_Crew                4760 non-null   object \n",
            " 20  Movie_Director            4738 non-null   object \n",
            "dtypes: float64(3), int64(4), object(14)\n",
            "memory usage: 781.1+ KB\n"
          ]
        }
      ]
    },
    {
      "cell_type": "code",
      "source": [
        "MR.shape"
      ],
      "metadata": {
        "colab": {
          "base_uri": "https://localhost:8080/"
        },
        "id": "eD7HGIA_Gur9",
        "outputId": "b06e2b00-7093-4bec-cc7e-62fe0bcc451a"
      },
      "execution_count": 6,
      "outputs": [
        {
          "output_type": "execute_result",
          "data": {
            "text/plain": [
              "(4760, 21)"
            ]
          },
          "metadata": {},
          "execution_count": 6
        }
      ]
    },
    {
      "cell_type": "code",
      "source": [
        "MR.columns"
      ],
      "metadata": {
        "colab": {
          "base_uri": "https://localhost:8080/"
        },
        "id": "4sMIlRaIG27Z",
        "outputId": "f923ca09-be51-4e8a-b402-8d2dc0047804"
      },
      "execution_count": 7,
      "outputs": [
        {
          "output_type": "execute_result",
          "data": {
            "text/plain": [
              "Index(['Movie_ID', 'Movie_Title', 'Movie_Genre', 'Movie_Language',\n",
              "       'Movie_Budget', 'Movie_Popularity', 'Movie_Release_Date',\n",
              "       'Movie_Revenue', 'Movie_Runtime', 'Movie_Vote', 'Movie_Vote_Count',\n",
              "       'Movie_Homepage', 'Movie_Keywords', 'Movie_Overview',\n",
              "       'Movie_Production_House', 'Movie_Production_Country',\n",
              "       'Movie_Spoken_Language', 'Movie_Tagline', 'Movie_Cast', 'Movie_Crew',\n",
              "       'Movie_Director'],\n",
              "      dtype='object')"
            ]
          },
          "metadata": {},
          "execution_count": 7
        }
      ]
    },
    {
      "cell_type": "markdown",
      "source": [
        "### **Get Feature Selection**"
      ],
      "metadata": {
        "id": "4qnd9HP-G8Ql"
      }
    },
    {
      "cell_type": "code",
      "source": [
        "MR_features = MR[['Movie_Genre', 'Movie_Keywords', 'Movie_Tagline', 'Movie_Cast', 'Movie_Director']].fillna('')"
      ],
      "metadata": {
        "id": "hFfTZvUxHCpe"
      },
      "execution_count": 8,
      "outputs": []
    },
    {
      "cell_type": "markdown",
      "source": [
        "Selected five existing features to recommend movies. It may vary from one project to another. Like one can add vote counts, budget, language etc."
      ],
      "metadata": {
        "id": "vBnuYnF_Ib7y"
      }
    },
    {
      "cell_type": "code",
      "source": [
        "MR_features.shape"
      ],
      "metadata": {
        "colab": {
          "base_uri": "https://localhost:8080/"
        },
        "id": "8muScgNdIzO-",
        "outputId": "d9b04eb6-22fd-4bb1-dd11-765adca944a3"
      },
      "execution_count": 9,
      "outputs": [
        {
          "output_type": "execute_result",
          "data": {
            "text/plain": [
              "(4760, 5)"
            ]
          },
          "metadata": {},
          "execution_count": 9
        }
      ]
    },
    {
      "cell_type": "code",
      "source": [
        "MR_features"
      ],
      "metadata": {
        "colab": {
          "base_uri": "https://localhost:8080/",
          "height": 424
        },
        "id": "80MKpTvyHCq-",
        "outputId": "7cb3fae5-0151-4ea5-86fc-e2053505d011"
      },
      "execution_count": 10,
      "outputs": [
        {
          "output_type": "execute_result",
          "data": {
            "text/plain": [
              "                           Movie_Genre  \\\n",
              "0                         Crime Comedy   \n",
              "1     Adventure Action Science Fiction   \n",
              "2                     Animation Family   \n",
              "3                 Comedy Drama Romance   \n",
              "4                                Drama   \n",
              "...                                ...   \n",
              "4755                            Horror   \n",
              "4756               Comedy Family Drama   \n",
              "4757                    Thriller Drama   \n",
              "4758                            Family   \n",
              "4759                       Documentary   \n",
              "\n",
              "                                         Movie_Keywords  \\\n",
              "0             hotel new year's eve witch bet hotel room   \n",
              "1           android galaxy hermit death star lightsaber   \n",
              "2     father son relationship harbor underwater fish...   \n",
              "3     vietnam veteran hippie mentally disabled runni...   \n",
              "4     male nudity female nudity adultery midlife cri...   \n",
              "...                                                 ...   \n",
              "4755                                                      \n",
              "4756                                                      \n",
              "4757                     christian film sex trafficking   \n",
              "4758                                                      \n",
              "4759  music actors legendary perfomer classic hollyw...   \n",
              "\n",
              "                                          Movie_Tagline  \\\n",
              "0     Twelve outrageous guests. Four scandalous requ...   \n",
              "1          A long time ago in a galaxy far, far away...   \n",
              "2     There are 3.7 trillion fish in the ocean, they...   \n",
              "3     The world will never be the same, once you've ...   \n",
              "4                                          Look closer.   \n",
              "...                                                 ...   \n",
              "4755                The hot spot where Satan's waitin'.   \n",
              "4756           It’s better to stand out than to fit in.   \n",
              "4757           She never knew it could happen to her...   \n",
              "4758                                                      \n",
              "4759                                                      \n",
              "\n",
              "                                             Movie_Cast     Movie_Director  \n",
              "0     Tim Roth Antonio Banderas Jennifer Beals Madon...     Allison Anders  \n",
              "1     Mark Hamill Harrison Ford Carrie Fisher Peter ...       George Lucas  \n",
              "2     Albert Brooks Ellen DeGeneres Alexander Gould ...     Andrew Stanton  \n",
              "3     Tom Hanks Robin Wright Gary Sinise Mykelti Wil...    Robert Zemeckis  \n",
              "4     Kevin Spacey Annette Bening Thora Birch Wes Be...         Sam Mendes  \n",
              "...                                                 ...                ...  \n",
              "4755  Lisa Hart Carroll Michael Des Barres Paul Drak...         Pece Dingo  \n",
              "4756  Roni Akurati Brighton Sharbino Jason Lee Anjul...       Frank Lotito  \n",
              "4757  Nicole Smolen Kim Baldwin Ariana Stephens Brys...       Jaco Booyens  \n",
              "4758                                                                        \n",
              "4759                                    Tony Oppedisano  Simon Napier-Bell  \n",
              "\n",
              "[4760 rows x 5 columns]"
            ],
            "text/html": [
              "\n",
              "\n",
              "  <div id=\"df-729039e1-f0a7-4ff3-9ca5-d0287400773a\">\n",
              "    <div class=\"colab-df-container\">\n",
              "      <div>\n",
              "<style scoped>\n",
              "    .dataframe tbody tr th:only-of-type {\n",
              "        vertical-align: middle;\n",
              "    }\n",
              "\n",
              "    .dataframe tbody tr th {\n",
              "        vertical-align: top;\n",
              "    }\n",
              "\n",
              "    .dataframe thead th {\n",
              "        text-align: right;\n",
              "    }\n",
              "</style>\n",
              "<table border=\"1\" class=\"dataframe\">\n",
              "  <thead>\n",
              "    <tr style=\"text-align: right;\">\n",
              "      <th></th>\n",
              "      <th>Movie_Genre</th>\n",
              "      <th>Movie_Keywords</th>\n",
              "      <th>Movie_Tagline</th>\n",
              "      <th>Movie_Cast</th>\n",
              "      <th>Movie_Director</th>\n",
              "    </tr>\n",
              "  </thead>\n",
              "  <tbody>\n",
              "    <tr>\n",
              "      <th>0</th>\n",
              "      <td>Crime Comedy</td>\n",
              "      <td>hotel new year's eve witch bet hotel room</td>\n",
              "      <td>Twelve outrageous guests. Four scandalous requ...</td>\n",
              "      <td>Tim Roth Antonio Banderas Jennifer Beals Madon...</td>\n",
              "      <td>Allison Anders</td>\n",
              "    </tr>\n",
              "    <tr>\n",
              "      <th>1</th>\n",
              "      <td>Adventure Action Science Fiction</td>\n",
              "      <td>android galaxy hermit death star lightsaber</td>\n",
              "      <td>A long time ago in a galaxy far, far away...</td>\n",
              "      <td>Mark Hamill Harrison Ford Carrie Fisher Peter ...</td>\n",
              "      <td>George Lucas</td>\n",
              "    </tr>\n",
              "    <tr>\n",
              "      <th>2</th>\n",
              "      <td>Animation Family</td>\n",
              "      <td>father son relationship harbor underwater fish...</td>\n",
              "      <td>There are 3.7 trillion fish in the ocean, they...</td>\n",
              "      <td>Albert Brooks Ellen DeGeneres Alexander Gould ...</td>\n",
              "      <td>Andrew Stanton</td>\n",
              "    </tr>\n",
              "    <tr>\n",
              "      <th>3</th>\n",
              "      <td>Comedy Drama Romance</td>\n",
              "      <td>vietnam veteran hippie mentally disabled runni...</td>\n",
              "      <td>The world will never be the same, once you've ...</td>\n",
              "      <td>Tom Hanks Robin Wright Gary Sinise Mykelti Wil...</td>\n",
              "      <td>Robert Zemeckis</td>\n",
              "    </tr>\n",
              "    <tr>\n",
              "      <th>4</th>\n",
              "      <td>Drama</td>\n",
              "      <td>male nudity female nudity adultery midlife cri...</td>\n",
              "      <td>Look closer.</td>\n",
              "      <td>Kevin Spacey Annette Bening Thora Birch Wes Be...</td>\n",
              "      <td>Sam Mendes</td>\n",
              "    </tr>\n",
              "    <tr>\n",
              "      <th>...</th>\n",
              "      <td>...</td>\n",
              "      <td>...</td>\n",
              "      <td>...</td>\n",
              "      <td>...</td>\n",
              "      <td>...</td>\n",
              "    </tr>\n",
              "    <tr>\n",
              "      <th>4755</th>\n",
              "      <td>Horror</td>\n",
              "      <td></td>\n",
              "      <td>The hot spot where Satan's waitin'.</td>\n",
              "      <td>Lisa Hart Carroll Michael Des Barres Paul Drak...</td>\n",
              "      <td>Pece Dingo</td>\n",
              "    </tr>\n",
              "    <tr>\n",
              "      <th>4756</th>\n",
              "      <td>Comedy Family Drama</td>\n",
              "      <td></td>\n",
              "      <td>It’s better to stand out than to fit in.</td>\n",
              "      <td>Roni Akurati Brighton Sharbino Jason Lee Anjul...</td>\n",
              "      <td>Frank Lotito</td>\n",
              "    </tr>\n",
              "    <tr>\n",
              "      <th>4757</th>\n",
              "      <td>Thriller Drama</td>\n",
              "      <td>christian film sex trafficking</td>\n",
              "      <td>She never knew it could happen to her...</td>\n",
              "      <td>Nicole Smolen Kim Baldwin Ariana Stephens Brys...</td>\n",
              "      <td>Jaco Booyens</td>\n",
              "    </tr>\n",
              "    <tr>\n",
              "      <th>4758</th>\n",
              "      <td>Family</td>\n",
              "      <td></td>\n",
              "      <td></td>\n",
              "      <td></td>\n",
              "      <td></td>\n",
              "    </tr>\n",
              "    <tr>\n",
              "      <th>4759</th>\n",
              "      <td>Documentary</td>\n",
              "      <td>music actors legendary perfomer classic hollyw...</td>\n",
              "      <td></td>\n",
              "      <td>Tony Oppedisano</td>\n",
              "      <td>Simon Napier-Bell</td>\n",
              "    </tr>\n",
              "  </tbody>\n",
              "</table>\n",
              "<p>4760 rows × 5 columns</p>\n",
              "</div>\n",
              "      <button class=\"colab-df-convert\" onclick=\"convertToInteractive('df-729039e1-f0a7-4ff3-9ca5-d0287400773a')\"\n",
              "              title=\"Convert this dataframe to an interactive table.\"\n",
              "              style=\"display:none;\">\n",
              "\n",
              "  <svg xmlns=\"http://www.w3.org/2000/svg\" height=\"24px\"viewBox=\"0 0 24 24\"\n",
              "       width=\"24px\">\n",
              "    <path d=\"M0 0h24v24H0V0z\" fill=\"none\"/>\n",
              "    <path d=\"M18.56 5.44l.94 2.06.94-2.06 2.06-.94-2.06-.94-.94-2.06-.94 2.06-2.06.94zm-11 1L8.5 8.5l.94-2.06 2.06-.94-2.06-.94L8.5 2.5l-.94 2.06-2.06.94zm10 10l.94 2.06.94-2.06 2.06-.94-2.06-.94-.94-2.06-.94 2.06-2.06.94z\"/><path d=\"M17.41 7.96l-1.37-1.37c-.4-.4-.92-.59-1.43-.59-.52 0-1.04.2-1.43.59L10.3 9.45l-7.72 7.72c-.78.78-.78 2.05 0 2.83L4 21.41c.39.39.9.59 1.41.59.51 0 1.02-.2 1.41-.59l7.78-7.78 2.81-2.81c.8-.78.8-2.07 0-2.86zM5.41 20L4 18.59l7.72-7.72 1.47 1.35L5.41 20z\"/>\n",
              "  </svg>\n",
              "      </button>\n",
              "\n",
              "\n",
              "\n",
              "    <div id=\"df-89bde0dc-4110-401f-80bf-6841eef25c06\">\n",
              "      <button class=\"colab-df-quickchart\" onclick=\"quickchart('df-89bde0dc-4110-401f-80bf-6841eef25c06')\"\n",
              "              title=\"Suggest charts.\"\n",
              "              style=\"display:none;\">\n",
              "\n",
              "<svg xmlns=\"http://www.w3.org/2000/svg\" height=\"24px\"viewBox=\"0 0 24 24\"\n",
              "     width=\"24px\">\n",
              "    <g>\n",
              "        <path d=\"M19 3H5c-1.1 0-2 .9-2 2v14c0 1.1.9 2 2 2h14c1.1 0 2-.9 2-2V5c0-1.1-.9-2-2-2zM9 17H7v-7h2v7zm4 0h-2V7h2v10zm4 0h-2v-4h2v4z\"/>\n",
              "    </g>\n",
              "</svg>\n",
              "      </button>\n",
              "    </div>\n",
              "\n",
              "<style>\n",
              "  .colab-df-quickchart {\n",
              "    background-color: #E8F0FE;\n",
              "    border: none;\n",
              "    border-radius: 50%;\n",
              "    cursor: pointer;\n",
              "    display: none;\n",
              "    fill: #1967D2;\n",
              "    height: 32px;\n",
              "    padding: 0 0 0 0;\n",
              "    width: 32px;\n",
              "  }\n",
              "\n",
              "  .colab-df-quickchart:hover {\n",
              "    background-color: #E2EBFA;\n",
              "    box-shadow: 0px 1px 2px rgba(60, 64, 67, 0.3), 0px 1px 3px 1px rgba(60, 64, 67, 0.15);\n",
              "    fill: #174EA6;\n",
              "  }\n",
              "\n",
              "  [theme=dark] .colab-df-quickchart {\n",
              "    background-color: #3B4455;\n",
              "    fill: #D2E3FC;\n",
              "  }\n",
              "\n",
              "  [theme=dark] .colab-df-quickchart:hover {\n",
              "    background-color: #434B5C;\n",
              "    box-shadow: 0px 1px 3px 1px rgba(0, 0, 0, 0.15);\n",
              "    filter: drop-shadow(0px 1px 2px rgba(0, 0, 0, 0.3));\n",
              "    fill: #FFFFFF;\n",
              "  }\n",
              "</style>\n",
              "\n",
              "    <script>\n",
              "      async function quickchart(key) {\n",
              "        const containerElement = document.querySelector('#' + key);\n",
              "        const charts = await google.colab.kernel.invokeFunction(\n",
              "            'suggestCharts', [key], {});\n",
              "      }\n",
              "    </script>\n",
              "\n",
              "      <script>\n",
              "\n",
              "function displayQuickchartButton(domScope) {\n",
              "  let quickchartButtonEl =\n",
              "    domScope.querySelector('#df-89bde0dc-4110-401f-80bf-6841eef25c06 button.colab-df-quickchart');\n",
              "  quickchartButtonEl.style.display =\n",
              "    google.colab.kernel.accessAllowed ? 'block' : 'none';\n",
              "}\n",
              "\n",
              "        displayQuickchartButton(document);\n",
              "      </script>\n",
              "      <style>\n",
              "    .colab-df-container {\n",
              "      display:flex;\n",
              "      flex-wrap:wrap;\n",
              "      gap: 12px;\n",
              "    }\n",
              "\n",
              "    .colab-df-convert {\n",
              "      background-color: #E8F0FE;\n",
              "      border: none;\n",
              "      border-radius: 50%;\n",
              "      cursor: pointer;\n",
              "      display: none;\n",
              "      fill: #1967D2;\n",
              "      height: 32px;\n",
              "      padding: 0 0 0 0;\n",
              "      width: 32px;\n",
              "    }\n",
              "\n",
              "    .colab-df-convert:hover {\n",
              "      background-color: #E2EBFA;\n",
              "      box-shadow: 0px 1px 2px rgba(60, 64, 67, 0.3), 0px 1px 3px 1px rgba(60, 64, 67, 0.15);\n",
              "      fill: #174EA6;\n",
              "    }\n",
              "\n",
              "    [theme=dark] .colab-df-convert {\n",
              "      background-color: #3B4455;\n",
              "      fill: #D2E3FC;\n",
              "    }\n",
              "\n",
              "    [theme=dark] .colab-df-convert:hover {\n",
              "      background-color: #434B5C;\n",
              "      box-shadow: 0px 1px 3px 1px rgba(0, 0, 0, 0.15);\n",
              "      filter: drop-shadow(0px 1px 2px rgba(0, 0, 0, 0.3));\n",
              "      fill: #FFFFFF;\n",
              "    }\n",
              "  </style>\n",
              "\n",
              "      <script>\n",
              "        const buttonEl =\n",
              "          document.querySelector('#df-729039e1-f0a7-4ff3-9ca5-d0287400773a button.colab-df-convert');\n",
              "        buttonEl.style.display =\n",
              "          google.colab.kernel.accessAllowed ? 'block' : 'none';\n",
              "\n",
              "        async function convertToInteractive(key) {\n",
              "          const element = document.querySelector('#df-729039e1-f0a7-4ff3-9ca5-d0287400773a');\n",
              "          const dataTable =\n",
              "            await google.colab.kernel.invokeFunction('convertToInteractive',\n",
              "                                                     [key], {});\n",
              "          if (!dataTable) return;\n",
              "\n",
              "          const docLinkHtml = 'Like what you see? Visit the ' +\n",
              "            '<a target=\"_blank\" href=https://colab.research.google.com/notebooks/data_table.ipynb>data table notebook</a>'\n",
              "            + ' to learn more about interactive tables.';\n",
              "          element.innerHTML = '';\n",
              "          dataTable['output_type'] = 'display_data';\n",
              "          await google.colab.output.renderOutput(dataTable, element);\n",
              "          const docLink = document.createElement('div');\n",
              "          docLink.innerHTML = docLinkHtml;\n",
              "          element.appendChild(docLink);\n",
              "        }\n",
              "      </script>\n",
              "    </div>\n",
              "  </div>\n"
            ]
          },
          "metadata": {},
          "execution_count": 10
        }
      ]
    },
    {
      "cell_type": "code",
      "source": [
        "X = MR_features['Movie_Genre'] + ' ' + MR_features['Movie_Keywords'] + ' ' + MR_features['Movie_Tagline'] + ' ' + MR_features['Movie_Cast'] + ' ' + MR_features['Movie_Director'] + ' '"
      ],
      "metadata": {
        "id": "g7mVekDxJVZN"
      },
      "execution_count": 11,
      "outputs": []
    },
    {
      "cell_type": "code",
      "source": [
        "X.shape"
      ],
      "metadata": {
        "colab": {
          "base_uri": "https://localhost:8080/"
        },
        "id": "nCPEWMZxJzit",
        "outputId": "d8fe1fa0-8a56-439a-cb29-c7c20781ee53"
      },
      "execution_count": 12,
      "outputs": [
        {
          "output_type": "execute_result",
          "data": {
            "text/plain": [
              "(4760,)"
            ]
          },
          "metadata": {},
          "execution_count": 12
        }
      ]
    },
    {
      "cell_type": "markdown",
      "source": [],
      "metadata": {
        "id": "f3In0l7mJ37I"
      }
    },
    {
      "cell_type": "markdown",
      "source": [
        "### **Get Feature Text Conversion to Tokens**"
      ],
      "metadata": {
        "id": "TlESIJFoJ39M"
      }
    },
    {
      "cell_type": "code",
      "source": [
        "from sklearn.feature_extraction.text import TfidfVectorizer"
      ],
      "metadata": {
        "id": "lEn2SLKOKCz4"
      },
      "execution_count": 13,
      "outputs": []
    },
    {
      "cell_type": "code",
      "source": [
        "tfidf = TfidfVectorizer()"
      ],
      "metadata": {
        "id": "SSiuwHgKKO4s"
      },
      "execution_count": 14,
      "outputs": []
    },
    {
      "cell_type": "code",
      "source": [
        "X = tfidf.fit_transform(X)"
      ],
      "metadata": {
        "id": "Q9eEcKPDKTdU"
      },
      "execution_count": 15,
      "outputs": []
    },
    {
      "cell_type": "code",
      "source": [
        "X.shape"
      ],
      "metadata": {
        "colab": {
          "base_uri": "https://localhost:8080/"
        },
        "id": "ZSnGIWK1KcMV",
        "outputId": "a3d33ddd-7d9e-4cf1-d835-f1f1a2c06657"
      },
      "execution_count": 16,
      "outputs": [
        {
          "output_type": "execute_result",
          "data": {
            "text/plain": [
              "(4760, 17258)"
            ]
          },
          "metadata": {},
          "execution_count": 16
        }
      ]
    },
    {
      "cell_type": "code",
      "source": [
        "print(X)"
      ],
      "metadata": {
        "colab": {
          "base_uri": "https://localhost:8080/"
        },
        "id": "crV5-sY5Keqj",
        "outputId": "c61fd071-d7a5-4fae-efc3-0b6d635f440c"
      },
      "execution_count": 17,
      "outputs": [
        {
          "output_type": "stream",
          "name": "stdout",
          "text": [
            "  (0, 617)\t0.1633382144407513\n",
            "  (0, 492)\t0.1432591540388685\n",
            "  (0, 15413)\t0.1465525095337543\n",
            "  (0, 9675)\t0.14226057295252661\n",
            "  (0, 9465)\t0.1659841367820977\n",
            "  (0, 1390)\t0.16898383612799558\n",
            "  (0, 7825)\t0.09799561597509843\n",
            "  (0, 1214)\t0.13865857545144072\n",
            "  (0, 729)\t0.13415063359531618\n",
            "  (0, 13093)\t0.1432591540388685\n",
            "  (0, 15355)\t0.10477815972666779\n",
            "  (0, 9048)\t0.0866842116160778\n",
            "  (0, 11161)\t0.06250380151644369\n",
            "  (0, 16773)\t0.17654247479915475\n",
            "  (0, 5612)\t0.08603537588547631\n",
            "  (0, 16735)\t0.10690083751525419\n",
            "  (0, 7904)\t0.13348000542112332\n",
            "  (0, 15219)\t0.09800472886453934\n",
            "  (0, 11242)\t0.07277788238484746\n",
            "  (0, 3878)\t0.11998399582562203\n",
            "  (0, 5499)\t0.11454057510303811\n",
            "  (0, 7071)\t0.19822417598406614\n",
            "  (0, 7454)\t0.14745635785412262\n",
            "  (0, 1495)\t0.19712637387361423\n",
            "  (0, 9206)\t0.15186283580984414\n",
            "  :\t:\n",
            "  (4757, 5455)\t0.12491480594769522\n",
            "  (4757, 2967)\t0.16273475835631626\n",
            "  (4757, 8464)\t0.23522565554066333\n",
            "  (4757, 6938)\t0.17088173678136628\n",
            "  (4757, 8379)\t0.17480603856721913\n",
            "  (4757, 15303)\t0.07654356007668191\n",
            "  (4757, 15384)\t0.09754322497537371\n",
            "  (4757, 7649)\t0.11479421494340192\n",
            "  (4757, 10896)\t0.14546473055066447\n",
            "  (4757, 4494)\t0.05675298448720501\n",
            "  (4758, 5238)\t1.0\n",
            "  (4759, 11264)\t0.33947721804318337\n",
            "  (4759, 11708)\t0.33947721804318337\n",
            "  (4759, 205)\t0.3237911628497312\n",
            "  (4759, 8902)\t0.3040290704566037\n",
            "  (4759, 14062)\t0.3237911628497312\n",
            "  (4759, 3058)\t0.2812896191863103\n",
            "  (4759, 7130)\t0.26419662449963793\n",
            "  (4759, 10761)\t0.3126617295732147\n",
            "  (4759, 4358)\t0.18306542312175342\n",
            "  (4759, 14051)\t0.20084315377640435\n",
            "  (4759, 5690)\t0.19534291014627303\n",
            "  (4759, 15431)\t0.19628653185946862\n",
            "  (4759, 1490)\t0.21197258705292082\n",
            "  (4759, 10666)\t0.15888268987343043\n"
          ]
        }
      ]
    },
    {
      "cell_type": "markdown",
      "source": [
        "### **Get Similarity Score using Cosine Similarity**"
      ],
      "metadata": {
        "id": "uotbkLCKKocu"
      }
    },
    {
      "cell_type": "code",
      "source": [
        "from sklearn.metrics.pairwise import cosine_similarity"
      ],
      "metadata": {
        "id": "V1yhv2kRKzSG"
      },
      "execution_count": 18,
      "outputs": []
    },
    {
      "cell_type": "code",
      "source": [
        "Similarity_Score = cosine_similarity(X)"
      ],
      "metadata": {
        "id": "2B6ZBrD4K-Kq"
      },
      "execution_count": 19,
      "outputs": []
    },
    {
      "cell_type": "code",
      "source": [
        "Similarity_Score"
      ],
      "metadata": {
        "colab": {
          "base_uri": "https://localhost:8080/"
        },
        "id": "ABIi-ORMLJZy",
        "outputId": "1d216282-7cdb-4ebb-8f3e-2d909dddf449"
      },
      "execution_count": 20,
      "outputs": [
        {
          "output_type": "execute_result",
          "data": {
            "text/plain": [
              "array([[1.        , 0.01351235, 0.03570468, ..., 0.        , 0.        ,\n",
              "        0.        ],\n",
              "       [0.01351235, 1.        , 0.00806674, ..., 0.        , 0.        ,\n",
              "        0.        ],\n",
              "       [0.03570468, 0.00806674, 1.        , ..., 0.        , 0.08014876,\n",
              "        0.        ],\n",
              "       ...,\n",
              "       [0.        , 0.        , 0.        , ..., 1.        , 0.        ,\n",
              "        0.        ],\n",
              "       [0.        , 0.        , 0.08014876, ..., 0.        , 1.        ,\n",
              "        0.        ],\n",
              "       [0.        , 0.        , 0.        , ..., 0.        , 0.        ,\n",
              "        1.        ]])"
            ]
          },
          "metadata": {},
          "execution_count": 20
        }
      ]
    },
    {
      "cell_type": "code",
      "source": [
        "Similarity_Score.shape"
      ],
      "metadata": {
        "colab": {
          "base_uri": "https://localhost:8080/"
        },
        "id": "ddRRIa94LNZL",
        "outputId": "d432d7ae-9543-4781-c804-836cfd384235"
      },
      "execution_count": 21,
      "outputs": [
        {
          "output_type": "execute_result",
          "data": {
            "text/plain": [
              "(4760, 4760)"
            ]
          },
          "metadata": {},
          "execution_count": 21
        }
      ]
    },
    {
      "cell_type": "markdown",
      "source": [
        "### **Get Movie Name as Input from User and Validate for Closest Spelling**"
      ],
      "metadata": {
        "id": "sFtp6cxMLUjM"
      }
    },
    {
      "cell_type": "code",
      "source": [
        "Favourite_Movie_Name = input(' Enter your favourite movie name : ')"
      ],
      "metadata": {
        "colab": {
          "base_uri": "https://localhost:8080/"
        },
        "id": "bHkz-eiBLqPc",
        "outputId": "48072347-41c1-47ce-9e2c-c49eee32645a"
      },
      "execution_count": 22,
      "outputs": [
        {
          "name": "stdout",
          "output_type": "stream",
          "text": [
            " Enter your favourite movie name : the nun\n"
          ]
        }
      ]
    },
    {
      "cell_type": "code",
      "source": [
        "All_Movies_Title_List = MR['Movie_Title'].tolist()"
      ],
      "metadata": {
        "id": "-MYQFRObL-A9"
      },
      "execution_count": 23,
      "outputs": []
    },
    {
      "cell_type": "code",
      "source": [
        "import difflib"
      ],
      "metadata": {
        "id": "UjrpSlrhMPp4"
      },
      "execution_count": 24,
      "outputs": []
    },
    {
      "cell_type": "code",
      "source": [
        "Movie_Recommendation = difflib.get_close_matches(Favourite_Movie_Name, All_Movies_Title_List)\n",
        "print(Movie_Recommendation)"
      ],
      "metadata": {
        "colab": {
          "base_uri": "https://localhost:8080/"
        },
        "id": "JDUTrRGOMTQx",
        "outputId": "b8f13c34-120d-4309-91c8-6934c03b38df"
      },
      "execution_count": 25,
      "outputs": [
        {
          "output_type": "stream",
          "name": "stdout",
          "text": [
            "['The Hunt', 'The Ruins', 'The Queen']\n"
          ]
        }
      ]
    },
    {
      "cell_type": "code",
      "source": [
        "Close_Match = Movie_Recommendation[0]\n",
        "print(Close_Match)"
      ],
      "metadata": {
        "colab": {
          "base_uri": "https://localhost:8080/"
        },
        "id": "PftVauAhMsY4",
        "outputId": "4d05c043-7aea-4222-864f-f0bc8098f7cd"
      },
      "execution_count": 26,
      "outputs": [
        {
          "output_type": "stream",
          "name": "stdout",
          "text": [
            "The Hunt\n"
          ]
        }
      ]
    },
    {
      "cell_type": "code",
      "source": [
        "Index_of_Close_Match_Movie = MR[MR.Movie_Title == Close_Match]['Movie_ID'].values[0]\n",
        "print(Index_of_Close_Match_Movie)"
      ],
      "metadata": {
        "colab": {
          "base_uri": "https://localhost:8080/"
        },
        "id": "PbaEHcT4M6ko",
        "outputId": "88f62606-a2c4-4732-cfc6-21c812fd6b2f"
      },
      "execution_count": 27,
      "outputs": [
        {
          "output_type": "stream",
          "name": "stdout",
          "text": [
            "3989\n"
          ]
        }
      ]
    },
    {
      "cell_type": "code",
      "source": [
        "# Getting a list of similar movies\n",
        "Recommendation_Score = list(enumerate(Similarity_Score[Index_of_Close_Match_Movie]))\n",
        "print(Recommendation_Score)"
      ],
      "metadata": {
        "colab": {
          "base_uri": "https://localhost:8080/"
        },
        "id": "SE24C1kTNbYP",
        "outputId": "2a39be3e-9e95-4af6-8f83-b7d3449a2aea"
      },
      "execution_count": 28,
      "outputs": [
        {
          "output_type": "stream",
          "name": "stdout",
          "text": [
            "[(0, 0.01827715015178581), (1, 0.0), (2, 0.0), (3, 0.04545138628207828), (4, 0.0), (5, 0.0), (6, 0.02350018229112664), (7, 0.0), (8, 0.0), (9, 0.0), (10, 0.0), (11, 0.0), (12, 0.0), (13, 0.0), (14, 0.0), (15, 0.0), (16, 0.0035672920527485795), (17, 0.027016368286885212), (18, 0.004104000383986064), (19, 0.04655759687001879), (20, 0.0), (21, 0.00457692610568047), (22, 0.0), (23, 0.0), (24, 0.0), (25, 0.06073752901343715), (26, 0.0), (27, 0.004445909960328246), (28, 0.04453912291612348), (29, 0.0), (30, 0.004312842367124742), (31, 0.004025177226365787), (32, 0.0), (33, 0.0), (34, 0.02382539980712856), (35, 0.0), (36, 0.0), (37, 0.0), (38, 0.0), (39, 0.0516915455699694), (40, 0.0), (41, 0.0), (42, 0.0), (43, 0.02392783538992128), (44, 0.0035627579783123527), (45, 0.0), (46, 0.044750571617911995), (47, 0.0037989251136224937), (48, 0.004715873022396228), (49, 0.0), (50, 0.0194528727758786), (51, 0.004503018663338112), (52, 0.004092259717254312), (53, 0.0), (54, 0.0), (55, 0.0), (56, 0.0), (57, 0.0), (58, 0.021325119206680617), (59, 0.0), (60, 0.0), (61, 0.0), (62, 0.0), (63, 0.0), (64, 0.0), (65, 0.0), (66, 0.0), (67, 0.003881033353219256), (68, 0.0045391156262702), (69, 0.004699405940273489), (70, 0.0046812280615607695), (71, 0.0), (72, 0.004150835198260454), (73, 0.0759570252210831), (74, 0.02094960282636669), (75, 0.0), (76, 0.0034922146989876317), (77, 0.009341054173476596), (78, 0.0035976693097431105), (79, 0.0), (80, 0.003921596236989312), (81, 0.008039430743276071), (82, 0.014947937248002629), (83, 0.004337111860067259), (84, 0.004190597330140069), (85, 0.0), (86, 0.0), (87, 0.021084951930077568), (88, 0.003530075925053512), (89, 0.00482573369181349), (90, 0.004185245550501481), (91, 0.04577133161850216), (92, 0.0), (93, 0.004099299252109492), (94, 0.003930387500010783), (95, 0.00440262131345711), (96, 0.0), (97, 0.0), (98, 0.0), (99, 0.010718977335879773), (100, 0.00887434900807175), (101, 0.0), (102, 0.004675910627071556), (103, 0.0), (104, 0.017672734744762535), (105, 0.0), (106, 0.01559958341597869), (107, 0.004854174240610125), (108, 0.014417848973297426), (109, 0.0), (110, 0.0), (111, 0.0), (112, 0.004120462584584139), (113, 0.0), (114, 0.0), (115, 0.0), (116, 0.0040394415920395966), (117, 0.0), (118, 0.004391514245264187), (119, 0.0), (120, 0.0), (121, 0.0), (122, 0.0), (123, 0.0), (124, 0.03512085775367886), (125, 0.004899745049422544), (126, 0.0), (127, 0.050341504171173015), (128, 0.004748057806848309), (129, 0.03920592429077514), (130, 0.0), (131, 0.0), (132, 0.0), (133, 0.01944001805081009), (134, 0.0), (135, 0.004276277416278601), (136, 0.0), (137, 0.004406449210004754), (138, 0.0041095038310649664), (139, 0.0), (140, 0.0), (141, 0.1000275634565395), (142, 0.0), (143, 0.0), (144, 0.004067308964611626), (145, 0.004363113507653042), (146, 0.0), (147, 0.07960799345782325), (148, 0.039145649219376806), (149, 0.003534330766630906), (150, 0.019282391323349038), (151, 0.020348071977201728), (152, 0.004156359488146301), (153, 0.0), (154, 0.0), (155, 0.0), (156, 0.015123286848282583), (157, 0.0), (158, 0.0), (159, 0.0), (160, 0.011360341064125973), (161, 0.0), (162, 0.0), (163, 0.006586241007815193), (164, 0.0), (165, 0.0), (166, 0.026802582423886757), (167, 0.0), (168, 0.0), (169, 0.0), (170, 0.003877893451540388), (171, 0.04164064555613645), (172, 0.0), (173, 0.0), (174, 0.0), (175, 0.01482931597333889), (176, 0.0), (177, 0.02168103895743868), (178, 0.0), (179, 0.0244460850683017), (180, 0.03204823130120713), (181, 0.0), (182, 0.0), (183, 0.0), (184, 0.0), (185, 0.0), (186, 0.0), (187, 0.0037541556798373894), (188, 0.0), (189, 0.0044320733535243365), (190, 0.003652351609738422), (191, 0.05019800002860295), (192, 0.0), (193, 0.049045456930097216), (194, 0.0), (195, 0.0434569370404307), (196, 0.0), (197, 0.0), (198, 0.0), (199, 0.0039025316439328184), (200, 0.003781797924565331), (201, 0.004465414322611181), (202, 0.0), (203, 0.0), (204, 0.026570359303294575), (205, 0.0), (206, 0.0), (207, 0.004834281245545942), (208, 0.004543873345177725), (209, 0.017720953027701766), (210, 0.023540000475191867), (211, 0.0), (212, 0.0), (213, 0.0), (214, 0.0), (215, 0.0), (216, 0.0), (217, 0.0), (218, 0.027058504631811232), (219, 0.0), (220, 0.03585929396386657), (221, 0.0), (222, 0.010908764439524548), (223, 0.025102859127978872), (224, 0.0), (225, 0.0), (226, 0.0), (227, 0.0), (228, 0.0), (229, 0.0), (230, 0.0), (231, 0.0), (232, 0.0), (233, 0.021557116741580017), (234, 0.029191814953028566), (235, 0.08296668799770204), (236, 0.02850698236815016), (237, 0.0), (238, 0.004365255297408426), (239, 0.013146352878476717), (240, 0.011471971640427774), (241, 0.004269444129156514), (242, 0.06357211083842879), (243, 0.003013221201391009), (244, 0.0041869479195072905), (245, 0.08999343944940266), (246, 0.0), (247, 0.02514671849288335), (248, 0.1478589184489257), (249, 0.0), (250, 0.004789238176152681), (251, 0.0), (252, 0.0), (253, 0.08027772764150083), (254, 0.0), (255, 0.004481826528638453), (256, 0.0), (257, 0.0), (258, 0.019832460519152908), (259, 0.025919445832386024), (260, 0.004059502248242473), (261, 0.004129340136590593), (262, 0.0), (263, 0.0), (264, 0.0), (265, 0.008133203837230863), (266, 0.01761731610749035), (267, 0.0), (268, 0.03912557567668641), (269, 0.0), (270, 0.0), (271, 0.003280071939177926), (272, 0.01969216977229718), (273, 0.012027312315293054), (274, 0.0), (275, 0.008580613031071598), (276, 0.0040355247758939155), (277, 0.08829444928370585), (278, 0.0), (279, 0.05200920196522197), (280, 0.0), (281, 0.0), (282, 0.0), (283, 0.0), (284, 0.004081708934838532), (285, 0.0), (286, 0.0), (287, 0.0), (288, 0.0036347082427566385), (289, 0.0034350938175961108), (290, 0.0034925165906941097), (291, 0.011297290522930617), (292, 0.0), (293, 0.0), (294, 0.0034077971234209425), (295, 0.0034903630094273073), (296, 0.0032077374526071024), (297, 0.04660207041689474), (298, 0.04601441127304802), (299, 0.0186135496978671), (300, 0.01773603791896926), (301, 0.046595921763981425), (302, 0.0), (303, 0.013449278947332922), (304, 0.020136993096571798), (305, 0.004275804671716598), (306, 0.003943367924155), (307, 0.024452316937922373), (308, 0.0), (309, 0.0), (310, 0.004112105446472503), (311, 0.0076159827941198925), (312, 0.0), (313, 0.02125364803240251), (314, 0.0035877718126338023), (315, 0.004293121751501535), (316, 0.003966645401278605), (317, 0.0), (318, 0.0), (319, 0.0), (320, 0.004486913507135762), (321, 0.004154160053161816), (322, 0.004214529938425459), (323, 0.00382844554726359), (324, 0.018677786881422964), (325, 0.0), (326, 0.0), (327, 0.0038393681229397882), (328, 0.0), (329, 0.021188265573223695), (330, 0.0), (331, 0.008058880703760058), (332, 0.003204690325675429), (333, 0.0038069398925990746), (334, 0.011152470574238517), (335, 0.0), (336, 0.0), (337, 0.023304001046871574), (338, 0.02342547246314039), (339, 0.049458632131671496), (340, 0.04732827354468225), (341, 0.013345113790617966), (342, 0.0), (343, 0.0), (344, 0.01957987544203381), (345, 0.018042977965333107), (346, 0.0), (347, 0.0042944505179141265), (348, 0.0), (349, 0.0), (350, 0.004659421249823533), (351, 0.0), (352, 0.007374753605360755), (353, 0.0), (354, 0.011342177381437375), (355, 0.03254175645678494), (356, 0.004082464329055662), (357, 0.0), (358, 0.0), (359, 0.007446362709711805), (360, 0.004061139079363961), (361, 0.0), (362, 0.0), (363, 0.0), (364, 0.015108564309385576), (365, 0.0), (366, 0.0), (367, 0.0), (368, 0.05990086932297585), (369, 0.0), (370, 0.004273025593712522), (371, 0.004709622480679749), (372, 0.0), (373, 0.0), (374, 0.0), (375, 0.004229793750207666), (376, 0.007048453605297662), (377, 0.0), (378, 0.04405546212588048), (379, 0.023421780757519807), (380, 0.028197198271858313), (381, 0.0), (382, 0.0), (383, 0.0), (384, 0.0), (385, 0.0), (386, 0.0), (387, 0.0), (388, 0.04880739674579621), (389, 0.004260942206707016), (390, 0.0), (391, 0.0), (392, 0.0), (393, 0.0), (394, 0.0), (395, 0.0), (396, 0.0), (397, 0.003913265725285666), (398, 0.0), (399, 0.0), (400, 0.0), (401, 0.0), (402, 0.024704088336309), (403, 0.0), (404, 0.0), (405, 0.0), (406, 0.0043666973495303085), (407, 0.0), (408, 0.0), (409, 0.0), (410, 0.0), (411, 0.007447678459073491), (412, 0.0), (413, 0.0), (414, 0.00609327003116349), (415, 0.008570384486808729), (416, 0.0), (417, 0.003975526729280505), (418, 0.004527140472050833), (419, 0.0), (420, 0.013327370842027682), (421, 0.0), (422, 0.0), (423, 0.0), (424, 0.0048596088772718685), (425, 0.0048553926260808495), (426, 0.00400321167885919), (427, 0.0), (428, 0.0), (429, 0.004485511618829406), (430, 0.008733436416004292), (431, 0.0), (432, 0.0), (433, 0.0035009799082726498), (434, 0.0), (435, 0.0034704988991601515), (436, 0.026827285425579283), (437, 0.0), (438, 0.0034988995045667427), (439, 0.008066354646636449), (440, 0.0), (441, 0.0), (442, 0.003548825745038981), (443, 0.004950349396888941), (444, 0.0), (445, 0.0), (446, 0.0), (447, 0.004444183633871999), (448, 0.0), (449, 0.0), (450, 0.013599863831309837), (451, 0.012447601973252983), (452, 0.0), (453, 0.006204591880047413), (454, 0.0), (455, 0.0), (456, 0.0), (457, 0.0), (458, 0.004775602202842902), (459, 0.0), (460, 0.04792374631228136), (461, 0.0), (462, 0.0), (463, 0.003966541502896577), (464, 0.0), (465, 0.0), (466, 0.0), (467, 0.004218996089800378), (468, 0.004005029386735337), (469, 0.0035370155248506383), (470, 0.004514003781160259), (471, 0.0), (472, 0.0), (473, 0.0), (474, 0.0), (475, 0.0), (476, 0.0), (477, 0.04478529108321313), (478, 0.0), (479, 0.0), (480, 0.0), (481, 0.00465448678249378), (482, 0.004467295620598111), (483, 0.0), (484, 0.0), (485, 0.0), (486, 0.0), (487, 0.0), (488, 0.025214998256464526), (489, 0.0), (490, 0.0), (491, 0.0), (492, 0.0), (493, 0.0045442068865409755), (494, 0.0), (495, 0.0), (496, 0.0), (497, 0.0), (498, 0.0), (499, 0.0), (500, 0.0041732130610160414), (501, 0.0038432926515122585), (502, 0.004480640089487401), (503, 0.0), (504, 0.0), (505, 0.0), (506, 0.006575503457728474), (507, 0.0), (508, 0.0), (509, 0.012710359304005135), (510, 0.0), (511, 0.01867757133163133), (512, 0.02596022062944927), (513, 0.02374335505230045), (514, 0.023686524491797218), (515, 0.018266488604150314), (516, 0.07098042064467466), (517, 0.008432214171778986), (518, 0.0), (519, 0.003778976674103925), (520, 0.03832929085466558), (521, 0.0), (522, 0.0), (523, 0.004499093771720121), (524, 0.0), (525, 0.0), (526, 0.0), (527, 0.0), (528, 0.0), (529, 0.0), (530, 0.0042130966933621354), (531, 0.0), (532, 0.003974296019197353), (533, 0.00481387725289272), (534, 0.004227157917391036), (535, 0.0), (536, 0.0), (537, 0.004871821758667682), (538, 0.0), (539, 0.0192755437147393), (540, 0.003950119119582688), (541, 0.0), (542, 0.0030013045462039083), (543, 0.004457633615846452), (544, 0.0), (545, 0.0), (546, 0.0), (547, 0.0), (548, 0.0), (549, 0.0), (550, 0.004727421723059661), (551, 0.0), (552, 0.008147515372313438), (553, 0.0), (554, 0.0), (555, 0.0), (556, 0.0078435195746214), (557, 0.03786561006903071), (558, 0.20895013274975172), (559, 0.011041920646841842), (560, 0.0042929021237811185), (561, 0.0), (562, 0.0032469903122552264), (563, 0.003859328446819204), (564, 0.0), (565, 0.0), (566, 0.0), (567, 0.019208764163954162), (568, 0.018795057215879724), (569, 0.0), (570, 0.027678935436709674), (571, 0.003299914486924718), (572, 0.0), (573, 0.0), (574, 0.0), (575, 0.0), (576, 0.0), (577, 0.0), (578, 0.0), (579, 0.044468579946493454), (580, 0.012951298343916395), (581, 0.0038569278290046887), (582, 0.0), (583, 0.01837120624009641), (584, 0.004428567250687275), (585, 0.0), (586, 0.0), (587, 0.0), (588, 0.0), (589, 0.0), (590, 0.003944681959589457), (591, 0.0), (592, 0.02058238446199396), (593, 0.0), (594, 0.0), (595, 0.004707061373591322), (596, 0.0), (597, 0.0), (598, 0.029019700684828877), (599, 0.0), (600, 0.0), (601, 0.0), (602, 0.0), (603, 0.0), (604, 0.003936239230806717), (605, 0.0), (606, 0.004419585551460036), (607, 0.015615372347813804), (608, 0.0038796621924970056), (609, 0.0), (610, 0.043796283519061854), (611, 0.0), (612, 0.0), (613, 0.0), (614, 0.0), (615, 0.0), (616, 0.0), (617, 0.010464189083251784), (618, 0.0), (619, 0.012336623257423254), (620, 0.0), (621, 0.0036212168123422673), (622, 0.004547819647503999), (623, 0.0), (624, 0.0), (625, 0.0036831543071334572), (626, 0.0), (627, 0.0), (628, 0.004315150116588354), (629, 0.0036958051506970845), (630, 0.04368805066804966), (631, 0.0), (632, 0.0), (633, 0.01214201052854702), (634, 0.01217545454256978), (635, 0.004672763772110716), (636, 0.004322417426435386), (637, 0.0044320846281599244), (638, 0.0), (639, 0.019334227640896148), (640, 0.003582986224393042), (641, 0.0), (642, 0.0036968731976700286), (643, 0.004147394365950551), (644, 0.004065777306292698), (645, 0.035828487338680555), (646, 0.0), (647, 0.0), (648, 0.0), (649, 0.0), (650, 0.0), (651, 0.0), (652, 0.04900512313469971), (653, 0.0037237924839376366), (654, 0.004510938305571598), (655, 0.048280497580469976), (656, 0.018450246415162994), (657, 0.0), (658, 0.0), (659, 0.0), (660, 0.004470758717295325), (661, 0.004014987448854384), (662, 0.0), (663, 0.0), (664, 0.015742293908257363), (665, 0.07358943612340536), (666, 0.004816159000060905), (667, 0.0044997563569953445), (668, 0.0033860395478203854), (669, 0.0039380435681857714), (670, 0.0052745629655817925), (671, 0.0), (672, 0.0), (673, 0.004670554497155882), (674, 0.0), (675, 0.004667448889537904), (676, 0.004149319814328444), (677, 0.0), (678, 0.023811249346955235), (679, 0.0), (680, 0.0), (681, 0.0), (682, 0.0048135482521477774), (683, 0.0), (684, 0.0), (685, 0.004396619611821936), (686, 0.0), (687, 0.02540285188513601), (688, 0.0047412104922955325), (689, 0.04449295703631229), (690, 0.028236596881957822), (691, 0.0), (692, 0.01887777690924855), (693, 0.0), (694, 0.05264357931091604), (695, 0.003942117221079359), (696, 0.004308017117663274), (697, 0.0), (698, 0.0), (699, 0.016741592326676207), (700, 0.027903433077458628), (701, 0.004777617589281864), (702, 0.0), (703, 0.0), (704, 0.0), (705, 0.0), (706, 0.0), (707, 0.0), (708, 0.02032311904820668), (709, 0.0), (710, 0.018299537911724183), (711, 0.02313771183773428), (712, 0.0), (713, 0.06990515894974889), (714, 0.0), (715, 0.0), (716, 0.004488122132447758), (717, 0.0), (718, 0.0), (719, 0.003438427257382658), (720, 0.0), (721, 0.0), (722, 0.0), (723, 0.019382973567520438), (724, 0.0), (725, 0.0), (726, 0.01694456182586835), (727, 0.0042049776505143945), (728, 0.004616215969514599), (729, 0.004772636052458439), (730, 0.01808297305734508), (731, 0.0), (732, 0.003820718259588418), (733, 0.0037031361262099137), (734, 0.0), (735, 0.0), (736, 0.0), (737, 0.0), (738, 0.0035258246165340477), (739, 0.009258930205590338), (740, 0.020894204084247858), (741, 0.0), (742, 0.0040231503952441365), (743, 0.004398048625058422), (744, 0.011461854476240218), (745, 0.0), (746, 0.221279204301072), (747, 0.0), (748, 0.05535190830011432), (749, 0.01862774494198221), (750, 0.004360316255508396), (751, 0.062389042640821), (752, 0.0), (753, 0.004961338905234215), (754, 0.0), (755, 0.0), (756, 0.04915827787113048), (757, 0.0), (758, 0.0), (759, 0.0), (760, 0.004909883617143766), (761, 0.00428059402830059), (762, 0.0037097779305397794), (763, 0.0), (764, 0.0), (765, 0.004523323362925811), (766, 0.0), (767, 0.0), (768, 0.0), (769, 0.004223929390057317), (770, 0.007494493916856722), (771, 0.0), (772, 0.0), (773, 0.0), (774, 0.0), (775, 0.003274316888031679), (776, 0.007405818118928573), (777, 0.0), (778, 0.0), (779, 0.025398750667460876), (780, 0.0), (781, 0.0), (782, 0.0), (783, 0.0), (784, 0.0), (785, 0.0), (786, 0.0), (787, 0.0), (788, 0.0), (789, 0.0), (790, 0.0041482732506654), (791, 0.0), (792, 0.01980294253745934), (793, 0.004444889908635249), (794, 0.0), (795, 0.020757043885239093), (796, 0.0), (797, 0.01832830591574993), (798, 0.018797867529831314), (799, 0.004172306802599772), (800, 0.0038469664779035035), (801, 0.003920532536718136), (802, 0.004683071915777043), (803, 0.0038253069158787553), (804, 0.00384948861062229), (805, 0.0), (806, 0.0), (807, 0.06486152746950358), (808, 0.0037731348984304724), (809, 0.004393941843914807), (810, 0.011579652227531136), (811, 0.0125654267533237), (812, 0.0), (813, 0.03498171806692583), (814, 0.030807767441089505), (815, 0.0), (816, 0.0), (817, 0.0), (818, 0.0), (819, 0.05321520543324424), (820, 0.0), (821, 0.0), (822, 0.0), (823, 0.0), (824, 0.0), (825, 0.004150988721147589), (826, 0.0), (827, 0.004060277498921593), (828, 0.0), (829, 0.003931692812193537), (830, 0.0), (831, 0.0030214686025401595), (832, 0.004351791198741901), (833, 0.007593794682969453), (834, 0.008048044356251657), (835, 0.007671879035856471), (836, 0.015482124081238821), (837, 0.03372130067789374), (838, 0.0), (839, 0.009167437640182758), (840, 0.0), (841, 0.0), (842, 0.005233318986998171), (843, 0.0), (844, 0.0), (845, 0.004480720690307832), (846, 0.0), (847, 0.0), (848, 0.018774835589547654), (849, 0.004277135277122637), (850, 0.020053331641448072), (851, 0.0), (852, 0.0), (853, 0.003309165467173589), (854, 0.0), (855, 0.04391746556589217), (856, 0.0), (857, 0.0), (858, 0.0), (859, 0.0), (860, 0.035163157375170805), (861, 0.0036855799818817626), (862, 0.0), (863, 0.003912237918990396), (864, 0.0), (865, 0.0), (866, 0.003978831305529602), (867, 0.0), (868, 0.003973774831588742), (869, 0.0), (870, 0.004185022499661627), (871, 0.0), (872, 0.0), (873, 0.0), (874, 0.0), (875, 0.02397242753289819), (876, 0.026134388945055907), (877, 0.01831041604915256), (878, 0.004042475835814772), (879, 0.004465212544740813), (880, 0.004218499153508899), (881, 0.0), (882, 0.022544553907650165), (883, 0.0), (884, 0.0), (885, 0.0), (886, 0.04112613623964207), (887, 0.01909560500188397), (888, 0.004743485100435276), (889, 0.0), (890, 0.0), (891, 0.004508377333488921), (892, 0.0), (893, 0.011176045108100318), (894, 0.0), (895, 0.0), (896, 0.004675541921340167), (897, 0.0), (898, 0.011165068682863051), (899, 0.0), (900, 0.004001695860494087), (901, 0.0), (902, 0.004390394312407924), (903, 0.0), (904, 0.005038156540044478), (905, 0.004950991207656569), (906, 0.0), (907, 0.0), (908, 0.0), (909, 0.0), (910, 0.003917862811440431), (911, 0.004054762547897404), (912, 0.0), (913, 0.0), (914, 0.0), (915, 0.004118413527066348), (916, 0.003965797193946455), (917, 0.0), (918, 0.004429209907285769), (919, 0.00434943070615723), (920, 0.0), (921, 0.0), (922, 0.0), (923, 0.05819042815550408), (924, 0.0), (925, 0.00932986320286197), (926, 0.0), (927, 0.0041981863280784685), (928, 0.06305642783930498), (929, 0.0), (930, 0.004542799964987377), (931, 0.021826744560463743), (932, 0.011079383647417312), (933, 0.0), (934, 0.0), (935, 0.0), (936, 0.0038509731814526608), (937, 0.005000385234604993), (938, 0.0), (939, 0.0), (940, 0.0), (941, 0.0), (942, 0.0034794628797890884), (943, 0.0), (944, 0.0), (945, 0.0), (946, 0.0), (947, 0.005773366411467995), (948, 0.0), (949, 0.0), (950, 0.009480067367752764), (951, 0.0), (952, 0.013397840214666452), (953, 0.009979153544394269), (954, 0.018111548948453092), (955, 0.0), (956, 0.0), (957, 0.023223197789040532), (958, 0.01605186520793082), (959, 0.0), (960, 0.008611498615830614), (961, 0.0), (962, 0.0), (963, 0.011585429908777947), (964, 0.02318549672293242), (965, 0.0), (966, 0.0), (967, 0.0264730708024688), (968, 0.018577362749382518), (969, 0.04477487725175402), (970, 0.010471601982818277), (971, 0.03205913749195575), (972, 0.0), (973, 0.0), (974, 0.004006586442633566), (975, 0.0), (976, 0.004511073504162053), (977, 0.08009129447373667), (978, 0.0), (979, 0.010959558046826101), (980, 0.004423447876434198), (981, 0.0038531480435697197), (982, 0.0), (983, 0.0), (984, 0.0), (985, 0.0), (986, 0.004276691326971421), (987, 0.0), (988, 0.004251100634287973), (989, 0.004209661004574611), (990, 0.0), (991, 0.01330411909031642), (992, 0.004578789751377816), (993, 0.020413899763643228), (994, 0.0), (995, 0.0), (996, 0.006039425179296736), (997, 0.003849249732956439), (998, 0.0), (999, 0.0), (1000, 0.0038495641552327518), (1001, 0.020816936786417266), (1002, 0.0), (1003, 0.012668537926689104), (1004, 0.016686357888791182), (1005, 0.0), (1006, 0.021171604515134546), (1007, 0.0), (1008, 0.0), (1009, 0.0037968634590816964), (1010, 0.0), (1011, 0.0), (1012, 0.02431493229042054), (1013, 0.0), (1014, 0.0), (1015, 0.004626515830731482), (1016, 0.0), (1017, 0.004160034844733198), (1018, 0.0037322378256726186), (1019, 0.0), (1020, 0.0), (1021, 0.0), (1022, 0.0), (1023, 0.0), (1024, 0.004457714161281243), (1025, 0.015649933910436595), (1026, 0.0), (1027, 0.0), (1028, 0.0), (1029, 0.019176731013853622), (1030, 0.004142961136944991), (1031, 0.008627100993305178), (1032, 0.01860494749798936), (1033, 0.0), (1034, 0.016818221167609525), (1035, 0.0041578735482122155), (1036, 0.0), (1037, 0.0), (1038, 0.0), (1039, 0.0), (1040, 0.0), (1041, 0.03945483204354845), (1042, 0.0), (1043, 0.0), (1044, 0.004146086551765917), (1045, 0.0), (1046, 0.0), (1047, 0.004459224347852494), (1048, 0.0), (1049, 0.0), (1050, 0.0), (1051, 0.0), (1052, 0.0), (1053, 0.0), (1054, 0.004041417659769599), (1055, 0.0), (1056, 0.008828248309264848), (1057, 0.008706488420583452), (1058, 0.005245914036698378), (1059, 0.0), (1060, 0.12501345216331664), (1061, 0.003853108725086299), (1062, 0.0), (1063, 0.004135298348520003), (1064, 0.005185315202035262), (1065, 0.003911862537701093), (1066, 0.0), (1067, 0.0), (1068, 0.0039581038937318595), (1069, 0.0), (1070, 0.0), (1071, 0.004567374695415012), (1072, 0.0), (1073, 0.0), (1074, 0.004293104859541677), (1075, 0.0), (1076, 0.0), (1077, 0.0), (1078, 0.0), (1079, 0.0), (1080, 0.0), (1081, 0.007465183593929554), (1082, 0.07243548579996618), (1083, 0.0044531186221359), (1084, 0.0), (1085, 0.0), (1086, 0.0), (1087, 0.0), (1088, 0.0), (1089, 0.0), (1090, 0.0), (1091, 0.0), (1092, 0.003567359327157199), (1093, 0.04672932360143083), (1094, 0.0), (1095, 0.06810657040269029), (1096, 0.0), (1097, 0.007957571653142509), (1098, 0.0), (1099, 0.004538359861055367), (1100, 0.01992947591267708), (1101, 0.0), (1102, 0.01954992957629923), (1103, 0.0), (1104, 0.013045333223520389), (1105, 0.019990538897863078), (1106, 0.0), (1107, 0.0213030920508554), (1108, 0.0), (1109, 0.0), (1110, 0.0), (1111, 0.0), (1112, 0.0), (1113, 0.0), (1114, 0.0), (1115, 0.0034390317482433613), (1116, 0.008596035839150933), (1117, 0.0), (1118, 0.0), (1119, 0.013232728089787989), (1120, 0.16660730214284183), (1121, 0.0), (1122, 0.0), (1123, 0.004067631920937238), (1124, 0.0), (1125, 0.0), (1126, 0.0), (1127, 0.004212533246413902), (1128, 0.0), (1129, 0.004281574259333414), (1130, 0.0), (1131, 0.0), (1132, 0.004067522031883709), (1133, 0.0), (1134, 0.019688062589457423), (1135, 0.007529644921496898), (1136, 0.0), (1137, 0.017932831387976484), (1138, 0.004329476953180945), (1139, 0.0), (1140, 0.004582656171138519), (1141, 0.023341748267246096), (1142, 0.0), (1143, 0.02334541738312308), (1144, 0.0), (1145, 0.04880086024967289), (1146, 0.011983838482921913), (1147, 0.0), (1148, 0.025851676995461047), (1149, 0.0), (1150, 0.004616311336306978), (1151, 0.0), (1152, 0.0), (1153, 0.00868996417758875), (1154, 0.0038148549127136515), (1155, 0.0), (1156, 0.016635766763381084), (1157, 0.0), (1158, 0.013847177826923737), (1159, 0.0), (1160, 0.0), (1161, 0.0), (1162, 0.004669380848839822), (1163, 0.008099806009973641), (1164, 0.0034801403690510792), (1165, 0.0), (1166, 0.0), (1167, 0.013578447462344658), (1168, 0.0), (1169, 0.02055372805794977), (1170, 0.0), (1171, 0.0), (1172, 0.0), (1173, 0.003873208279158018), (1174, 0.004375403224777437), (1175, 0.0), (1176, 0.0), (1177, 0.011675245595999174), (1178, 0.0), (1179, 0.0042793648479838835), (1180, 0.0), (1181, 0.0040295275922883796), (1182, 0.0), (1183, 0.00397265426655712), (1184, 0.0048827036704001195), (1185, 0.0045091401185060566), (1186, 0.0), (1187, 0.0), (1188, 0.004492252497317067), (1189, 0.008529568372963934), (1190, 0.0), (1191, 0.021927964877345336), (1192, 0.012985587009571434), (1193, 0.02064104966168788), (1194, 0.0), (1195, 0.0), (1196, 0.0), (1197, 0.011395618071942407), (1198, 0.03792635497583), (1199, 0.0), (1200, 0.0), (1201, 0.0), (1202, 0.010512926530581723), (1203, 0.0), (1204, 0.0), (1205, 0.017267098062224668), (1206, 0.04412348929058002), (1207, 0.028618254052140923), (1208, 0.0), (1209, 0.0), (1210, 0.07830289431418853), (1211, 0.011744050634820785), (1212, 0.0), (1213, 0.0), (1214, 0.0), (1215, 0.003663487685543831), (1216, 0.018376155413501013), (1217, 0.09880029195081182), (1218, 0.007740695318108804), (1219, 0.0), (1220, 0.011186460465726333), (1221, 0.0), (1222, 0.0), (1223, 0.03797321148135911), (1224, 0.004467714937818328), (1225, 0.004515111187720509), (1226, 0.0042368675718102025), (1227, 0.0), (1228, 0.0), (1229, 0.004468254525936957), (1230, 0.0041080594131318055), (1231, 0.0), (1232, 0.004312974113874133), (1233, 0.008501709203048522), (1234, 0.0), (1235, 0.0), (1236, 0.0038923209627767957), (1237, 0.0038851691918782016), (1238, 0.03053376422091386), (1239, 0.008040397875161791), (1240, 0.019463368581763934), (1241, 0.0), (1242, 0.0), (1243, 0.0), (1244, 0.018114738298808938), (1245, 0.0), (1246, 0.0), (1247, 0.08474018919195266), (1248, 0.004112132303799374), (1249, 0.0), (1250, 0.02724464713390602), (1251, 0.0), (1252, 0.004240424736927044), (1253, 0.0), (1254, 0.0), (1255, 0.028835875583959565), (1256, 0.0), (1257, 0.0042175083353582915), (1258, 0.0), (1259, 0.003911889064424698), (1260, 0.0), (1261, 0.0), (1262, 0.00426855028203179), (1263, 0.0), (1264, 0.0), (1265, 0.00881882000828818), (1266, 0.004366490301246871), (1267, 0.019042103651105632), (1268, 0.0), (1269, 0.017533544491383113), (1270, 0.05157857829251045), (1271, 0.008513329923967947), (1272, 0.012211854341035215), (1273, 0.01771771125287249), (1274, 0.007705837244507163), (1275, 0.004938442934512223), (1276, 0.003192334715378146), (1277, 0.0), (1278, 0.013091420330012635), (1279, 0.010435033037440726), (1280, 0.004557496169434692), (1281, 0.00390642614776979), (1282, 0.032867064327689134), (1283, 0.0), (1284, 0.0), (1285, 0.01782328307710568), (1286, 0.0), (1287, 0.007817589174033643), (1288, 0.0), (1289, 0.0), (1290, 0.0), (1291, 0.018246286871453847), (1292, 0.0042087986598929915), (1293, 0.0), (1294, 0.0), (1295, 0.025424282282309613), (1296, 0.0), (1297, 0.0), (1298, 0.0), (1299, 0.0), (1300, 0.003619019813061959), (1301, 0.0), (1302, 0.004340903681032695), (1303, 0.0034507514643729725), (1304, 0.0), (1305, 0.0), (1306, 0.0), (1307, 0.03321108244051878), (1308, 0.0), (1309, 0.029974766848482555), (1310, 0.0), (1311, 0.0), (1312, 0.0), (1313, 0.0), (1314, 0.00421026927161398), (1315, 0.007892486740292795), (1316, 0.0), (1317, 0.0), (1318, 0.02777753488323024), (1319, 0.0), (1320, 0.0), (1321, 0.0), (1322, 0.0), (1323, 0.0), (1324, 0.0), (1325, 0.004638967193682316), (1326, 0.0), (1327, 0.0), (1328, 0.0), (1329, 0.03482576149282525), (1330, 0.0), (1331, 0.0), (1332, 0.004768602534421885), (1333, 0.0), (1334, 0.0), (1335, 0.004322574563261947), (1336, 0.0), (1337, 0.00436772349802859), (1338, 0.0), (1339, 0.03267766758364352), (1340, 0.043907314006577325), (1341, 0.0), (1342, 0.0067756906514228905), (1343, 0.014733623508423353), (1344, 0.0), (1345, 0.0), (1346, 0.0), (1347, 0.011971421253123195), (1348, 0.003728051632555953), (1349, 0.0), (1350, 0.0), (1351, 0.05054552789612697), (1352, 0.0), (1353, 0.0), (1354, 0.0), (1355, 0.0), (1356, 0.0036225061479113487), (1357, 0.01618408742596132), (1358, 0.0), (1359, 0.0), (1360, 0.0218228653130977), (1361, 0.0), (1362, 0.0), (1363, 0.0), (1364, 0.0), (1365, 0.0), (1366, 0.0), (1367, 0.0), (1368, 0.0), (1369, 0.00350301875186593), (1370, 0.0), (1371, 0.0), (1372, 0.0), (1373, 0.0), (1374, 0.0), (1375, 0.0040678662580809054), (1376, 0.0), (1377, 0.003452511441244673), (1378, 0.008107215826297906), (1379, 0.0), (1380, 0.004513785328436841), (1381, 0.004911501875836418), (1382, 0.01812708358176639), (1383, 0.004831339038747961), (1384, 0.0038092105077585114), (1385, 0.004285341131576469), (1386, 0.0), (1387, 0.0), (1388, 0.0), (1389, 0.0), (1390, 0.0), (1391, 0.013827340211097468), (1392, 0.0), (1393, 0.0), (1394, 0.0), (1395, 0.009976527483658808), (1396, 0.004475889118402735), (1397, 0.0), (1398, 0.0), (1399, 0.0), (1400, 0.004511550211665638), (1401, 0.0), (1402, 0.0), (1403, 0.0), (1404, 0.0), (1405, 0.04935968422749599), (1406, 0.0041829672147363686), (1407, 0.013171222896907125), (1408, 0.0), (1409, 0.021073428721452046), (1410, 0.0), (1411, 0.0), (1412, 0.0040737353843062745), (1413, 0.004343641646390985), (1414, 0.0038182505016808323), (1415, 0.0), (1416, 0.0), (1417, 0.0033409135070415477), (1418, 0.0), (1419, 0.004285058261380244), (1420, 0.029833994737467746), (1421, 0.004126026067053574), (1422, 0.019179095359572487), (1423, 0.0), (1424, 0.0), (1425, 0.0), (1426, 0.02172769445788622), (1427, 0.0), (1428, 0.0533325682968296), (1429, 0.005145263262766208), (1430, 0.11180456288994299), (1431, 0.012691325936874751), (1432, 0.004458222982469737), (1433, 0.02032033472458885), (1434, 0.0), (1435, 0.004375680402031638), (1436, 0.004528492688542375), (1437, 0.09941586160019579), (1438, 0.0), (1439, 0.0), (1440, 0.0), (1441, 0.0), (1442, 0.0042372170659527855), (1443, 0.004415739591493735), (1444, 0.0), (1445, 0.0), (1446, 0.0), (1447, 0.0), (1448, 0.003954712003773571), (1449, 0.013047947984485189), (1450, 0.025844851331777923), (1451, 0.011641911368511696), (1452, 0.03392098266186751), (1453, 0.0), (1454, 0.004700976044690233), (1455, 0.024514992527180188), (1456, 0.0), (1457, 0.0), (1458, 0.0036224436384542755), (1459, 0.0), (1460, 0.0), (1461, 0.0), (1462, 0.003925666742021451), (1463, 0.0), (1464, 0.0), (1465, 0.0), (1466, 0.0), (1467, 0.0), (1468, 0.07776739412293002), (1469, 0.012830861649608507), (1470, 0.0), (1471, 0.0031738496396150092), (1472, 0.004329717963539981), (1473, 0.0), (1474, 0.0), (1475, 0.0), (1476, 0.03114713458811611), (1477, 0.018168682673759894), (1478, 0.004098472843474094), (1479, 0.0), (1480, 0.011520032348077561), (1481, 0.004142413100579781), (1482, 0.0), (1483, 0.02167241138227484), (1484, 0.004527338210496377), (1485, 0.0158445096123418), (1486, 0.0), (1487, 0.0), (1488, 0.004290719298808605), (1489, 0.026943244974979165), (1490, 0.0), (1491, 0.0), (1492, 0.0), (1493, 0.03148615731072709), (1494, 0.0), (1495, 0.017867099727143922), (1496, 0.0), (1497, 0.0), (1498, 0.01377910287978633), (1499, 0.0), (1500, 0.0), (1501, 0.0), (1502, 0.004519695198160797), (1503, 0.0), (1504, 0.0), (1505, 0.0), (1506, 0.002930971291296856), (1507, 0.0), (1508, 0.0), (1509, 0.04127913751429283), (1510, 0.031306349374216946), (1511, 0.00881097264072897), (1512, 0.02039686100854727), (1513, 0.0), (1514, 0.0), (1515, 0.008166977743587347), (1516, 0.0), (1517, 0.020175765589380605), (1518, 0.0), (1519, 0.003957806590805145), (1520, 0.04979648343500928), (1521, 0.0), (1522, 0.0), (1523, 0.0), (1524, 0.0), (1525, 0.0), (1526, 0.0), (1527, 0.0), (1528, 0.0), (1529, 0.0), (1530, 0.003505043964507832), (1531, 0.03996769276611224), (1532, 0.037267007752633974), (1533, 0.0), (1534, 0.00844454924557907), (1535, 0.006823000946300241), (1536, 0.008437686645564407), (1537, 0.004582255721018308), (1538, 0.0), (1539, 0.0), (1540, 0.0), (1541, 0.0), (1542, 0.11609013729059736), (1543, 0.0), (1544, 0.0), (1545, 0.0), (1546, 0.0036819524818664873), (1547, 0.0), (1548, 0.02565141025111023), (1549, 0.02571462957302729), (1550, 0.0), (1551, 0.0121813783682586), (1552, 0.0), (1553, 0.0), (1554, 0.004712245155032583), (1555, 0.0638047068372819), (1556, 0.007599837473859341), (1557, 0.0), (1558, 0.0), (1559, 0.0332879861902534), (1560, 0.009143609476968365), (1561, 0.0), (1562, 0.01148004932654495), (1563, 0.0), (1564, 0.0), (1565, 0.013871267336506427), (1566, 0.004283394913584581), (1567, 0.0), (1568, 0.029285955375047936), (1569, 0.02796524752206993), (1570, 0.0), (1571, 0.01628562917153981), (1572, 0.0), (1573, 0.012210092267541193), (1574, 0.0), (1575, 0.004582614309818449), (1576, 0.003428134883128655), (1577, 0.0), (1578, 0.021343446037438152), (1579, 0.0), (1580, 0.0), (1581, 0.0), (1582, 0.0), (1583, 0.0), (1584, 0.0), (1585, 0.0), (1586, 0.0), (1587, 0.004356631893545723), (1588, 0.012950130430105986), (1589, 0.0), (1590, 0.0279803137105075), (1591, 0.004956827088973377), (1592, 0.0), (1593, 0.0), (1594, 0.0), (1595, 0.011216259332148548), (1596, 0.0), (1597, 0.0), (1598, 0.0), (1599, 0.0), (1600, 0.0), (1601, 0.0), (1602, 0.0), (1603, 0.0), (1604, 0.0), (1605, 0.035126466547778), (1606, 0.0), (1607, 0.0), (1608, 0.0037778472960452534), (1609, 0.0), (1610, 0.0), (1611, 0.0), (1612, 0.0), (1613, 0.0), (1614, 0.013258937955324308), (1615, 0.0), (1616, 0.0), (1617, 0.0), (1618, 0.0), (1619, 0.0), (1620, 0.028043099949037406), (1621, 0.004219277399338158), (1622, 0.01218337567726301), (1623, 0.01147692585597234), (1624, 0.0), (1625, 0.0), (1626, 0.0), (1627, 0.05478955352887815), (1628, 0.0), (1629, 0.0044179745724723446), (1630, 0.011760104585515279), (1631, 0.08142174024886947), (1632, 0.031312951859644673), (1633, 0.011842754539221035), (1634, 0.00804206168799052), (1635, 0.012155027078432704), (1636, 0.00836020129804262), (1637, 0.0), (1638, 0.01962165918935678), (1639, 0.0), (1640, 0.0), (1641, 0.0), (1642, 0.0), (1643, 0.013011994258805707), (1644, 0.0), (1645, 0.0), (1646, 0.0), (1647, 0.007670099336937246), (1648, 0.0), (1649, 0.007562044878176612), (1650, 0.0), (1651, 0.0), (1652, 0.0), (1653, 0.004173683738029198), (1654, 0.0), (1655, 0.0), (1656, 0.0), (1657, 0.0), (1658, 0.0), (1659, 0.004561938696375804), (1660, 0.0), (1661, 0.013346702729565063), (1662, 0.04020479958536795), (1663, 0.03324678943030404), (1664, 0.0), (1665, 0.004007362512815422), (1666, 0.0), (1667, 0.011422462605233146), (1668, 0.0), (1669, 0.0), (1670, 0.0), (1671, 0.06718564635286436), (1672, 0.0), (1673, 0.018865737078022787), (1674, 0.0), (1675, 0.0038990293209832383), (1676, 0.0), (1677, 0.0), (1678, 0.004255505630019448), (1679, 0.0), (1680, 0.0038870430242330394), (1681, 0.0046988533385704636), (1682, 0.017470062703663476), (1683, 0.0), (1684, 0.06731760146950269), (1685, 0.0), (1686, 0.0), (1687, 0.0045379006206514895), (1688, 0.0), (1689, 0.0), (1690, 0.0), (1691, 0.0), (1692, 0.0), (1693, 0.0), (1694, 0.0038000163559854506), (1695, 0.0), (1696, 0.0041969215903524025), (1697, 0.026833382659507996), (1698, 0.0), (1699, 0.03732219659557967), (1700, 0.0), (1701, 0.003379650381693027), (1702, 0.0), (1703, 0.0), (1704, 0.0), (1705, 0.0), (1706, 0.0), (1707, 0.0), (1708, 0.021156693132715135), (1709, 0.0), (1710, 0.03342981347075824), (1711, 0.0), (1712, 0.0), (1713, 0.004860012457557029), (1714, 0.0), (1715, 0.0), (1716, 0.004799939008471866), (1717, 0.0), (1718, 0.0), (1719, 0.0), (1720, 0.0), (1721, 0.0), (1722, 0.0), (1723, 0.06434138720115976), (1724, 0.013345026945461858), (1725, 0.0), (1726, 0.0), (1727, 0.0), (1728, 0.0), (1729, 0.0), (1730, 0.01601094451796108), (1731, 0.0), (1732, 0.004574380607856771), (1733, 0.0), (1734, 0.0), (1735, 0.0), (1736, 0.0), (1737, 0.0), (1738, 0.0), (1739, 0.0038483215885167445), (1740, 0.0043659917357425975), (1741, 0.0), (1742, 0.0), (1743, 0.0), (1744, 0.0), (1745, 0.006945043999867748), (1746, 0.0), (1747, 0.0), (1748, 0.0230623748253029), (1749, 0.0040142335897190825), (1750, 0.0), (1751, 0.0), (1752, 0.0), (1753, 0.010653546349350961), (1754, 0.0), (1755, 0.0), (1756, 0.007651650226878909), (1757, 0.0), (1758, 0.02277796513786974), (1759, 0.0), (1760, 0.06501020308696753), (1761, 0.0043737645592568045), (1762, 0.06153676967854231), (1763, 0.0), (1764, 0.0), (1765, 0.020372985712201537), (1766, 0.02173691953214621), (1767, 0.0), (1768, 0.0), (1769, 0.0567364814527538), (1770, 0.0), (1771, 0.018149961785534165), (1772, 0.0037139932344312423), (1773, 0.037061310667326104), (1774, 0.0032679308518878823), (1775, 0.0), (1776, 0.0), (1777, 0.0), (1778, 0.02793449895989024), (1779, 0.004556723516632779), (1780, 0.0), (1781, 0.003641663498367681), (1782, 0.0), (1783, 0.0), (1784, 0.02228784724900707), (1785, 0.0), (1786, 0.0), (1787, 0.0), (1788, 0.004024631973379633), (1789, 0.021142949683414947), (1790, 0.0), (1791, 0.004556423472282653), (1792, 0.0), (1793, 0.0), (1794, 0.007424665825464692), (1795, 0.007336837457961816), (1796, 0.0039050646366759704), (1797, 0.0), (1798, 0.0), (1799, 0.004687596311411933), (1800, 0.0), (1801, 0.0), (1802, 0.0), (1803, 0.0), (1804, 0.0), (1805, 0.0), (1806, 0.0), (1807, 0.0), (1808, 0.0), (1809, 0.003868005102022069), (1810, 0.07019873447929409), (1811, 0.004245540073142812), (1812, 0.004572026938414092), (1813, 0.01575510986647712), (1814, 0.0), (1815, 0.00495442976099569), (1816, 0.0), (1817, 0.011122721829376576), (1818, 0.0), (1819, 0.011546801679704548), (1820, 0.0), (1821, 0.0), (1822, 0.0), (1823, 0.0), (1824, 0.007627127746212389), (1825, 0.007761725448870148), (1826, 0.0), (1827, 0.0), (1828, 0.0), (1829, 0.04307325105676989), (1830, 0.0), (1831, 0.025775441150495824), (1832, 0.004371166878857805), (1833, 0.01594112950583878), (1834, 0.0), (1835, 0.00851366190668167), (1836, 0.0), (1837, 0.0), (1838, 0.010681017791003113), (1839, 0.0), (1840, 0.011276791370643182), (1841, 0.0), (1842, 0.0192730431793562), (1843, 0.0295674122580605), (1844, 0.022248554891368386), (1845, 0.003619330001218959), (1846, 0.00416933754612502), (1847, 0.0), (1848, 0.0), (1849, 0.050897837830100184), (1850, 0.0), (1851, 0.0), (1852, 0.012222167326754938), (1853, 0.004530278145125195), (1854, 0.0), (1855, 0.0), (1856, 0.0), (1857, 0.0201894991371034), (1858, 0.0), (1859, 0.01306898406278338), (1860, 0.0), (1861, 0.0), (1862, 0.0), (1863, 0.0070076901476914906), (1864, 0.01192085012197679), (1865, 0.0038827474053463383), (1866, 0.004673384895720833), (1867, 0.0), (1868, 0.0), (1869, 0.0), (1870, 0.018112312104885668), (1871, 0.0), (1872, 0.0), (1873, 0.012406332471340145), (1874, 0.0), (1875, 0.0), (1876, 0.004304545397130946), (1877, 0.0), (1878, 0.0), (1879, 0.0), (1880, 0.0), (1881, 0.03584509505594868), (1882, 0.00795009187722853), (1883, 0.0), (1884, 0.0), (1885, 0.0), (1886, 0.0), (1887, 0.04971239986096626), (1888, 0.0), (1889, 0.0), (1890, 0.0), (1891, 0.008043703585236432), (1892, 0.0038863981012913188), (1893, 0.0), (1894, 0.0), (1895, 0.0), (1896, 0.0), (1897, 0.004640519119119644), (1898, 0.0), (1899, 0.007564336756475607), (1900, 0.008241189375476334), (1901, 0.025155033537646844), (1902, 0.004498680273771765), (1903, 0.03301305203670992), (1904, 0.013107278870176854), (1905, 0.020296338734376283), (1906, 0.0), (1907, 0.008734024489694578), (1908, 0.0), (1909, 0.0), (1910, 0.0036157089230426814), (1911, 0.0), (1912, 0.0), (1913, 0.0), (1914, 0.011648231634545097), (1915, 0.0), (1916, 0.008550605550225505), (1917, 0.0), (1918, 0.00452083210796263), (1919, 0.032384363582596006), (1920, 0.0), (1921, 0.0), (1922, 0.0), (1923, 0.0), (1924, 0.004889606384966723), (1925, 0.010819544420083411), (1926, 0.03564681885074489), (1927, 0.012209961103028924), (1928, 0.0), (1929, 0.0), (1930, 0.02073169877727931), (1931, 0.004372907524121617), (1932, 0.0), (1933, 0.012081235355593262), (1934, 0.0038215749299149696), (1935, 0.0), (1936, 0.05284134273976765), (1937, 0.004204023309136503), (1938, 0.0), (1939, 0.028986599270820826), (1940, 0.014485672759243583), (1941, 0.005122592388311031), (1942, 0.004354406761256498), (1943, 0.0), (1944, 0.03643422223990564), (1945, 0.0), (1946, 0.0), (1947, 0.0), (1948, 0.0), (1949, 0.03552918448264596), (1950, 0.0), (1951, 0.0), (1952, 0.004608782443031104), (1953, 0.01204251157095046), (1954, 0.0), (1955, 0.0), (1956, 0.0), (1957, 0.017024804747765084), (1958, 0.004368644248190946), (1959, 0.0), (1960, 0.025350822651635706), (1961, 0.0), (1962, 0.01380724058524493), (1963, 0.0), (1964, 0.050604998935310896), (1965, 0.0), (1966, 0.007884392107549213), (1967, 0.02384458427106873), (1968, 0.014555190781468833), (1969, 0.0708593920043817), (1970, 0.01262789981438766), (1971, 0.0), (1972, 0.0), (1973, 0.0), (1974, 0.0), (1975, 0.04838954538600634), (1976, 0.004781155743083572), (1977, 0.0), (1978, 0.0), (1979, 0.0), (1980, 0.0), (1981, 0.036634286405014566), (1982, 0.0), (1983, 0.004457502752480156), (1984, 0.0), (1985, 0.012523848770349911), (1986, 0.0), (1987, 0.0), (1988, 0.0), (1989, 0.0034376060448115314), (1990, 0.01129169989810741), (1991, 0.0043417900822588385), (1992, 0.011578958225272891), (1993, 0.011833555235948711), (1994, 0.0), (1995, 0.021790443386411295), (1996, 0.011908882905744291), (1997, 0.004650028234435912), (1998, 0.030317383580925752), (1999, 0.0), (2000, 0.0), (2001, 0.0), (2002, 0.0), (2003, 0.0), (2004, 0.0), (2005, 0.027644061978557063), (2006, 0.0), (2007, 0.0), (2008, 0.004162235340455995), (2009, 0.0), (2010, 0.0), (2011, 0.0), (2012, 0.004922044457062057), (2013, 0.0034100390817880556), (2014, 0.0), (2015, 0.004469107161152857), (2016, 0.0), (2017, 0.13070926307705857), (2018, 0.0), (2019, 0.0), (2020, 0.0), (2021, 0.03208165898970497), (2022, 0.0), (2023, 0.0), (2024, 0.004098467705599656), (2025, 0.0), (2026, 0.0), (2027, 0.0), (2028, 0.0), (2029, 0.0), (2030, 0.0648700075776513), (2031, 0.061848255154101445), (2032, 0.0), (2033, 0.0), (2034, 0.0), (2035, 0.0), (2036, 0.0), (2037, 0.004664284138706519), (2038, 0.0), (2039, 0.0), (2040, 0.004728345052023782), (2041, 0.0), (2042, 0.0), (2043, 0.0), (2044, 0.0045461949738764456), (2045, 0.0043496317268761275), (2046, 0.0), (2047, 0.0), (2048, 0.0), (2049, 0.0), (2050, 0.0), (2051, 0.0), (2052, 0.0), (2053, 0.004418714530668468), (2054, 0.0), (2055, 0.0), (2056, 0.007819062865686222), (2057, 0.012019643376963096), (2058, 0.0), (2059, 0.007076604554504971), (2060, 0.0), (2061, 0.00433495637157715), (2062, 0.012001018412401181), (2063, 0.0), (2064, 0.0), (2065, 0.027620445209280434), (2066, 0.004814743505455943), (2067, 0.0), (2068, 0.0), (2069, 0.06456060003781527), (2070, 0.0036608457147188165), (2071, 0.0), (2072, 0.0), (2073, 0.008269625973451801), (2074, 0.010941656768854632), (2075, 0.05184996414918904), (2076, 0.0), (2077, 0.0), (2078, 0.0034038804973376075), (2079, 0.0), (2080, 0.0), (2081, 0.019718894401322844), (2082, 0.0), (2083, 0.0), (2084, 0.004618986926899207), (2085, 0.0), (2086, 0.0), (2087, 0.0), (2088, 0.004484140510171078), (2089, 0.005029140635003499), (2090, 0.0), (2091, 0.004339529265081719), (2092, 0.0), (2093, 0.0039583355810747615), (2094, 0.011728481336545984), (2095, 0.0), (2096, 0.004561879712807231), (2097, 0.0), (2098, 0.0), (2099, 0.0), (2100, 0.0), (2101, 0.017758763361608), (2102, 0.0), (2103, 0.0), (2104, 0.004570861117736128), (2105, 0.0), (2106, 0.0), (2107, 0.0), (2108, 0.0), (2109, 0.0), (2110, 0.011371714748010395), (2111, 0.0), (2112, 0.004723879578825684), (2113, 0.0), (2114, 0.01478499272273929), (2115, 0.00906596182215792), (2116, 0.06269724358392695), (2117, 0.0), (2118, 0.0), (2119, 0.00397036544950281), (2120, 0.0), (2121, 0.022827441852187297), (2122, 0.0), (2123, 0.0), (2124, 0.0), (2125, 0.0), (2126, 0.0), (2127, 0.0), (2128, 0.0), (2129, 0.02778965035841277), (2130, 0.0043263803206635325), (2131, 0.0), (2132, 0.0), (2133, 0.0), (2134, 0.0), (2135, 0.0), (2136, 0.004638562536426745), (2137, 0.0), (2138, 0.01990447748259691), (2139, 0.03944897121366065), (2140, 0.0), (2141, 0.0), (2142, 0.0), (2143, 0.0), (2144, 0.0), (2145, 0.0), (2146, 0.0), (2147, 0.0), (2148, 0.0), (2149, 0.0), (2150, 0.0), (2151, 0.0), (2152, 0.0069000130141519175), (2153, 0.0), (2154, 0.005482179989090376), (2155, 0.0), (2156, 0.0), (2157, 0.0), (2158, 0.030394884370999027), (2159, 0.0), (2160, 0.0), (2161, 0.0), (2162, 0.0), (2163, 0.0), (2164, 0.0), (2165, 0.02235274562353911), (2166, 0.01653946049286576), (2167, 0.01687565148423678), (2168, 0.015028188986532947), (2169, 0.0), (2170, 0.0), (2171, 0.0), (2172, 0.0), (2173, 0.0), (2174, 0.004242362102501709), (2175, 0.0), (2176, 0.0), (2177, 0.09653582146943479), (2178, 0.012055441690636763), (2179, 0.0), (2180, 0.07783985458109234), (2181, 0.00485806853390395), (2182, 0.0), (2183, 0.0), (2184, 0.0), (2185, 0.018154301363434027), (2186, 0.04465438630285201), (2187, 0.040503266696705176), (2188, 0.0279433449816915), (2189, 0.0), (2190, 0.0), (2191, 0.00383836001890465), (2192, 0.0), (2193, 0.0), (2194, 0.008415553075700912), (2195, 0.0), (2196, 0.00452604098150587), (2197, 0.0036199122177731874), (2198, 0.0), (2199, 0.0), (2200, 0.01794643963295637), (2201, 0.0), (2202, 0.018557215539432688), (2203, 0.0), (2204, 0.0), (2205, 0.04106196749733084), (2206, 0.004090960866645885), (2207, 0.0), (2208, 0.004536235388174056), (2209, 0.0), (2210, 0.004351557220366831), (2211, 0.0), (2212, 0.0), (2213, 0.0), (2214, 0.0046535019246041545), (2215, 0.0), (2216, 0.004194588996813395), (2217, 0.0), (2218, 0.022529050881049326), (2219, 0.0), (2220, 0.0), (2221, 0.0), (2222, 0.0), (2223, 0.0), (2224, 0.0040612840268692265), (2225, 0.018561206398212272), (2226, 0.0), (2227, 0.029186011767801064), (2228, 0.0), (2229, 0.013544640648835723), (2230, 0.0), (2231, 0.004729634772577804), (2232, 0.004181381992659257), (2233, 0.019272469187958597), (2234, 0.0), (2235, 0.0043979315357094775), (2236, 0.0), (2237, 0.0), (2238, 0.0), (2239, 0.0), (2240, 0.0), (2241, 0.0), (2242, 0.0), (2243, 0.0), (2244, 0.0), (2245, 0.01197102536419159), (2246, 0.012370776557305493), (2247, 0.0), (2248, 0.0), (2249, 0.0), (2250, 0.0), (2251, 0.0), (2252, 0.004611419634606104), (2253, 0.0), (2254, 0.004592804961602912), (2255, 0.015990428075186545), (2256, 0.046454121246827934), (2257, 0.0), (2258, 0.0), (2259, 0.0), (2260, 0.0), (2261, 0.0), (2262, 0.0), (2263, 0.0), (2264, 0.0), (2265, 0.0), (2266, 0.0), (2267, 0.0), (2268, 0.0), (2269, 0.0), (2270, 0.016085034916089525), (2271, 0.0), (2272, 0.0), (2273, 0.01462866872283566), (2274, 0.0), (2275, 0.0057959810368778805), (2276, 0.004396316754173965), (2277, 0.0), (2278, 0.012573770241541236), (2279, 0.0), (2280, 0.0042397285804556695), (2281, 0.02329912289330266), (2282, 0.0), (2283, 0.00456104486797692), (2284, 0.012460937321212825), (2285, 0.0), (2286, 0.0), (2287, 0.0), (2288, 0.0), (2289, 0.0), (2290, 0.0), (2291, 0.0), (2292, 0.0), (2293, 0.0), (2294, 0.04850353749232864), (2295, 0.0125911183284933), (2296, 0.0), (2297, 0.0), (2298, 0.0), (2299, 0.0), (2300, 0.0), (2301, 0.0), (2302, 0.0), (2303, 0.0), (2304, 0.0), (2305, 0.0), (2306, 0.0), (2307, 0.0), (2308, 0.0), (2309, 0.0), (2310, 0.0), (2311, 0.0), (2312, 0.04267044454919069), (2313, 0.0), (2314, 0.013634317391780398), (2315, 0.0), (2316, 0.0), (2317, 0.0), (2318, 0.0035338396347865376), (2319, 0.0), (2320, 0.0), (2321, 0.0), (2322, 0.0), (2323, 0.04665682559800982), (2324, 0.0), (2325, 0.0), (2326, 0.003360750648559586), (2327, 0.0), (2328, 0.005253080631036034), (2329, 0.0), (2330, 0.004525190078817748), (2331, 0.0), (2332, 0.0), (2333, 0.0), (2334, 0.004405243303216359), (2335, 0.0), (2336, 0.004255935556011699), (2337, 0.0), (2338, 0.0), (2339, 0.0), (2340, 0.0), (2341, 0.0), (2342, 0.0), (2343, 0.0), (2344, 0.004288854614193433), (2345, 0.03089751320970497), (2346, 0.0), (2347, 0.0), (2348, 0.004031370863666174), (2349, 0.0), (2350, 0.0), (2351, 0.0), (2352, 0.0), (2353, 0.0), (2354, 0.020285063549487913), (2355, 0.003568182001689008), (2356, 0.0), (2357, 0.009211576214403284), (2358, 0.0), (2359, 0.0), (2360, 0.0), (2361, 0.0), (2362, 0.0), (2363, 0.0), (2364, 0.0), (2365, 0.0), (2366, 0.0), (2367, 0.0), (2368, 0.0), (2369, 0.0077918355594948216), (2370, 0.0), (2371, 0.0), (2372, 0.0), (2373, 0.05678937575711984), (2374, 0.004337578893908691), (2375, 0.0), (2376, 0.015817540662673327), (2377, 0.0), (2378, 0.021908873097144007), (2379, 0.0), (2380, 0.0), (2381, 0.0), (2382, 0.0), (2383, 0.004758858711994005), (2384, 0.0), (2385, 0.0), (2386, 0.0), (2387, 0.0), (2388, 0.0), (2389, 0.0), (2390, 0.0), (2391, 0.0), (2392, 0.0), (2393, 0.0), (2394, 0.0), (2395, 0.0), (2396, 0.0), (2397, 0.0), (2398, 0.0), (2399, 0.0), (2400, 0.009177485385705553), (2401, 0.0), (2402, 0.0), (2403, 0.0), (2404, 0.0), (2405, 0.0), (2406, 0.005027331523786055), (2407, 0.0), (2408, 0.0), (2409, 0.0), (2410, 0.06159257246134335), (2411, 0.0), (2412, 0.0037163046379524293), (2413, 0.004489436243207175), (2414, 0.0), (2415, 0.0), (2416, 0.0), (2417, 0.0), (2418, 0.0), (2419, 0.0), (2420, 0.0), (2421, 0.004360769174451318), (2422, 0.0), (2423, 0.0), (2424, 0.0), (2425, 0.0), (2426, 0.026714307923124892), (2427, 0.004971470719330048), (2428, 0.0047233005153693945), (2429, 0.003967407288937371), (2430, 0.0), (2431, 0.020273279282540867), (2432, 0.04158000313091426), (2433, 0.016302677241594808), (2434, 0.0), (2435, 0.025742101482799984), (2436, 0.0), (2437, 0.0), (2438, 0.0), (2439, 0.006661792999759537), (2440, 0.0), (2441, 0.0), (2442, 0.031544826742624904), (2443, 0.0081397241355974), (2444, 0.0), (2445, 0.0), (2446, 0.0), (2447, 0.0036708091836154836), (2448, 0.0), (2449, 0.0), (2450, 0.0), (2451, 0.0), (2452, 0.0), (2453, 0.06339820521055431), (2454, 0.0), (2455, 0.0), (2456, 0.0), (2457, 0.0), (2458, 0.0), (2459, 0.027868794508438332), (2460, 0.0), (2461, 0.0), (2462, 0.0), (2463, 0.0), (2464, 0.0), (2465, 0.0), (2466, 0.0), (2467, 0.0), (2468, 0.005000734113623963), (2469, 0.0), (2470, 0.0), (2471, 0.0), (2472, 0.0), (2473, 0.0), (2474, 0.023895965462187415), (2475, 0.0), (2476, 0.0048666326012882285), (2477, 0.004624167318210285), (2478, 0.0), (2479, 0.0), (2480, 0.012287540629208896), (2481, 0.0), (2482, 0.018156728393735624), (2483, 0.0), (2484, 0.0), (2485, 0.0), (2486, 0.004886580172248467), (2487, 0.0), (2488, 0.0), (2489, 0.0), (2490, 0.0), (2491, 0.0), (2492, 0.0), (2493, 0.02950153552371363), (2494, 0.0), (2495, 0.0), (2496, 0.05261448561087268), (2497, 0.00749396855568634), (2498, 0.007992521377433101), (2499, 0.02094354437881438), (2500, 0.0), (2501, 0.004300543469910565), (2502, 0.0), (2503, 0.016092277109331768), (2504, 0.0), (2505, 0.0), (2506, 0.004293855567141934), (2507, 0.0), (2508, 0.0), (2509, 0.042487245077805734), (2510, 0.02013149984298824), (2511, 0.019296575253882134), (2512, 0.0), (2513, 0.0), (2514, 0.0), (2515, 0.0), (2516, 0.03257449156748019), (2517, 0.0), (2518, 0.0), (2519, 0.0), (2520, 0.0), (2521, 0.0), (2522, 0.004561462048493095), (2523, 0.0), (2524, 0.0034487705758201007), (2525, 0.0), (2526, 0.02515395255578541), (2527, 0.0), (2528, 0.0), (2529, 0.0), (2530, 0.0), (2531, 0.05851301836967915), (2532, 0.02223783271058837), (2533, 0.0), (2534, 0.050091294788575644), (2535, 0.0), (2536, 0.0), (2537, 0.035761184848615686), (2538, 0.0), (2539, 0.0), (2540, 0.0040791313355710256), (2541, 0.010517636964934489), (2542, 0.0), (2543, 0.0), (2544, 0.0027376962087020625), (2545, 0.0), (2546, 0.0), (2547, 0.0), (2548, 0.0), (2549, 0.0), (2550, 0.0), (2551, 0.0), (2552, 0.017405294785748045), (2553, 0.0), (2554, 0.0), (2555, 0.0048670112009573776), (2556, 0.0), (2557, 0.0), (2558, 0.004280521988150541), (2559, 0.0), (2560, 0.023258293456918988), (2561, 0.045766049597832655), (2562, 0.04227295827829097), (2563, 0.0), (2564, 0.08459757605558639), (2565, 0.0), (2566, 0.0), (2567, 0.0050788931005694305), (2568, 0.0), (2569, 0.029634481742108098), (2570, 0.0), (2571, 0.028635036925731452), (2572, 0.024694177598169113), (2573, 0.010159536963177354), (2574, 0.018147250786232378), (2575, 0.0), (2576, 0.004841918237303159), (2577, 0.0), (2578, 0.0), (2579, 0.0), (2580, 0.031277006565179594), (2581, 0.02532338062327556), (2582, 0.0), (2583, 0.0), (2584, 0.0), (2585, 0.0), (2586, 0.0), (2587, 0.0), (2588, 0.021706123277092107), (2589, 0.0), (2590, 0.0), (2591, 0.0176721867073277), (2592, 0.0), (2593, 0.0), (2594, 0.0), (2595, 0.0), (2596, 0.00737316235249821), (2597, 0.0), (2598, 0.004049307787419491), (2599, 0.013395667424537875), (2600, 0.0), (2601, 0.01831522829054851), (2602, 0.0035512934513477106), (2603, 0.0), (2604, 0.0), (2605, 0.0), (2606, 0.0043095173217957495), (2607, 0.0038363209485565526), (2608, 0.014213706924598257), (2609, 0.03161297913624846), (2610, 0.0), (2611, 0.04816723334454177), (2612, 0.0), (2613, 0.0), (2614, 0.0), (2615, 0.0), (2616, 0.0), (2617, 0.01092731151568853), (2618, 0.01180407722021732), (2619, 0.0), (2620, 0.0), (2621, 0.0037236291005426727), (2622, 0.0036311724878524687), (2623, 0.022299662186093236), (2624, 0.0), (2625, 0.0), (2626, 0.004697268978089271), (2627, 0.0), (2628, 0.0), (2629, 0.0), (2630, 0.013200447445285403), (2631, 0.0), (2632, 0.004179355686284432), (2633, 0.0), (2634, 0.0), (2635, 0.0), (2636, 0.013184804713901618), (2637, 0.0), (2638, 0.004862901729019997), (2639, 0.030163660725903405), (2640, 0.0), (2641, 0.0), (2642, 0.01793624754436781), (2643, 0.0), (2644, 0.007720724007081055), (2645, 0.005508102902857782), (2646, 0.0), (2647, 0.004334863268137149), (2648, 0.0), (2649, 0.0), (2650, 0.0), (2651, 0.0), (2652, 0.0), (2653, 0.0), (2654, 0.0), (2655, 0.005671902249773392), (2656, 0.0), (2657, 0.0), (2658, 0.0), (2659, 0.0448645380034105), (2660, 0.005298334234320453), (2661, 0.021145913491323876), (2662, 0.0), (2663, 0.0), (2664, 0.0), (2665, 0.0), (2666, 0.0), (2667, 0.025367678805773924), (2668, 0.0044037600644585805), (2669, 0.0), (2670, 0.0), (2671, 0.0), (2672, 0.0), (2673, 0.0), (2674, 0.0), (2675, 0.0), (2676, 0.0), (2677, 0.0), (2678, 0.0), (2679, 0.04151048890594584), (2680, 0.03686878048775234), (2681, 0.0), (2682, 0.01156353104937961), (2683, 0.013882714432522906), (2684, 0.0), (2685, 0.00823472029878061), (2686, 0.007011666160887952), (2687, 0.0), (2688, 0.0), (2689, 0.023153529554694977), (2690, 0.015410232820311754), (2691, 0.0), (2692, 0.0037165667421229062), (2693, 0.0), (2694, 0.0), (2695, 0.004285238049320288), (2696, 0.0), (2697, 0.018744449609830738), (2698, 0.01711058465990371), (2699, 0.0), (2700, 0.004808094460396213), (2701, 0.0), (2702, 0.0), (2703, 0.0), (2704, 0.0), (2705, 0.0), (2706, 0.0), (2707, 0.02311878388615608), (2708, 0.0), (2709, 0.0), (2710, 0.0), (2711, 0.0040724586785563545), (2712, 0.0), (2713, 0.03650153614290636), (2714, 0.0045296325283706584), (2715, 0.0), (2716, 0.004122542889918981), (2717, 0.0), (2718, 0.0), (2719, 0.0), (2720, 0.0), (2721, 0.0), (2722, 0.0), (2723, 0.0), (2724, 0.003803160850490447), (2725, 0.0), (2726, 0.0), (2727, 0.005147793579639875), (2728, 0.0), (2729, 0.0), (2730, 0.0), (2731, 0.0), (2732, 0.0), (2733, 0.01376773828002818), (2734, 0.0), (2735, 0.0), (2736, 0.011801403981818517), (2737, 0.0), (2738, 0.0), (2739, 0.02043002600915662), (2740, 0.020961038303841054), (2741, 0.0), (2742, 0.003973745735520974), (2743, 0.0), (2744, 0.0), (2745, 0.0), (2746, 0.0), (2747, 0.0), (2748, 0.0), (2749, 0.0), (2750, 0.0), (2751, 0.020712530171700723), (2752, 0.0), (2753, 0.0), (2754, 0.0), (2755, 0.0), (2756, 0.0), (2757, 0.0), (2758, 0.0), (2759, 0.012076967692546011), (2760, 0.0), (2761, 0.0), (2762, 0.0), (2763, 0.01923710183241375), (2764, 0.0), (2765, 0.0), (2766, 0.0), (2767, 0.0), (2768, 0.0060839263208585384), (2769, 0.0), (2770, 0.0), (2771, 0.0036316704344968847), (2772, 0.0), (2773, 0.008100783975169492), (2774, 0.0), (2775, 0.0), (2776, 0.0), (2777, 0.017225783150098786), (2778, 0.005175216462575613), (2779, 0.0), (2780, 0.004431557392824976), (2781, 0.0), (2782, 0.0), (2783, 0.0), (2784, 0.02232484996898308), (2785, 0.00929020660425635), (2786, 0.0), (2787, 0.004069739523569257), (2788, 0.004357264099927605), (2789, 0.0035575705473169417), (2790, 0.004500027067043494), (2791, 0.00392517012644548), (2792, 0.0), (2793, 0.008138076198102138), (2794, 0.0), (2795, 0.005405030381172597), (2796, 0.0), (2797, 0.021495532800128683), (2798, 0.0), (2799, 0.0), (2800, 0.0), (2801, 0.010631940947602924), (2802, 0.0), (2803, 0.003894938095623218), (2804, 0.020271057799428057), (2805, 0.0), (2806, 0.0), (2807, 0.0), (2808, 0.04909618143646581), (2809, 0.0), (2810, 0.0), (2811, 0.0), (2812, 0.0), (2813, 0.0), (2814, 0.15759135207079158), (2815, 0.0), (2816, 0.0), (2817, 0.0), (2818, 0.06143046262869413), (2819, 0.004533934470111492), (2820, 0.0037435361736229272), (2821, 0.0), (2822, 0.0), (2823, 0.0), (2824, 0.026042243081633186), (2825, 0.017349019554326363), (2826, 0.0), (2827, 0.007548031299721754), (2828, 0.08279709862100842), (2829, 0.0077739626520740715), (2830, 0.0), (2831, 0.0), (2832, 0.0), (2833, 0.0), (2834, 0.0), (2835, 0.0074151120210486764), (2836, 0.0), (2837, 0.00977523389355322), (2838, 0.0), (2839, 0.22479914725327887), (2840, 0.004773510001985872), (2841, 0.0), (2842, 0.0), (2843, 0.0), (2844, 0.01450451846312427), (2845, 0.018130322099152826), (2846, 0.0), (2847, 0.004225666799044701), (2848, 0.0), (2849, 0.0), (2850, 0.0), (2851, 0.022904723541876944), (2852, 0.048988334318098195), (2853, 0.0), (2854, 0.06217300356473227), (2855, 0.0), (2856, 0.0), (2857, 0.08813492070321008), (2858, 0.0), (2859, 0.028433408996530362), (2860, 0.0), (2861, 0.0), (2862, 0.0), (2863, 0.0), (2864, 0.0), (2865, 0.007739118315843184), (2866, 0.0), (2867, 0.0), (2868, 0.0), (2869, 0.0), (2870, 0.0), (2871, 0.01102039162744586), (2872, 0.0), (2873, 0.0), (2874, 0.0), (2875, 0.0), (2876, 0.01645150636374666), (2877, 0.0), (2878, 0.02076437235323609), (2879, 0.005212324553898949), (2880, 0.0), (2881, 0.004847329830941793), (2882, 0.0), (2883, 0.0), (2884, 0.022739098454548867), (2885, 0.0), (2886, 0.0), (2887, 0.0), (2888, 0.0), (2889, 0.042876090716107366), (2890, 0.03436851786453074), (2891, 0.0), (2892, 0.0), (2893, 0.0), (2894, 0.03196230705902931), (2895, 0.023577996342295085), (2896, 0.0), (2897, 0.0), (2898, 0.0), (2899, 0.011650922502988999), (2900, 0.0), (2901, 0.0), (2902, 0.0), (2903, 0.025676881490277158), (2904, 0.0), (2905, 0.0), (2906, 0.0071435736482426395), (2907, 0.0), (2908, 0.003439396466936989), (2909, 0.0), (2910, 0.004187588501749952), (2911, 0.0), (2912, 0.0), (2913, 0.0), (2914, 0.0), (2915, 0.0), (2916, 0.0), (2917, 0.003371140581293058), (2918, 0.0041234070150351), (2919, 0.004421421576184849), (2920, 0.0), (2921, 0.00907928339364739), (2922, 0.026802151966332764), (2923, 0.02508333002483172), (2924, 0.0), (2925, 0.0034363617490205255), (2926, 0.0), (2927, 0.030819936932211384), (2928, 0.0), (2929, 0.01105398236772873), (2930, 0.0), (2931, 0.0), (2932, 0.005658793837130124), (2933, 0.0), (2934, 0.0), (2935, 0.0), (2936, 0.0), (2937, 0.0), (2938, 0.0), (2939, 0.005330576321658043), (2940, 0.0271836371223773), (2941, 0.0), (2942, 0.0), (2943, 0.0), (2944, 0.004430041228107824), (2945, 0.0), (2946, 0.0), (2947, 0.004386739228312674), (2948, 0.0), (2949, 0.06848485747475573), (2950, 0.0), (2951, 0.0), (2952, 0.00928623787885956), (2953, 0.0), (2954, 0.0), (2955, 0.0), (2956, 0.0), (2957, 0.0), (2958, 0.0), (2959, 0.024103707184156865), (2960, 0.004365254207133333), (2961, 0.00421284336886485), (2962, 0.0), (2963, 0.03240403115135871), (2964, 0.0), (2965, 0.0), (2966, 0.009863918912978617), (2967, 0.0), (2968, 0.0), (2969, 0.0), (2970, 0.0), (2971, 0.0), (2972, 0.0), (2973, 0.0), (2974, 0.0), (2975, 0.026348071871750974), (2976, 0.0), (2977, 0.026691910056454896), (2978, 0.004653800469282605), (2979, 0.00881548992423497), (2980, 0.0), (2981, 0.0036561345875250604), (2982, 0.07749539020127665), (2983, 0.0), (2984, 0.011378904056021702), (2985, 0.0), (2986, 0.0), (2987, 0.0), (2988, 0.004414287144840126), (2989, 0.0), (2990, 0.027280047556379316), (2991, 0.012559115139783179), (2992, 0.003990666013724351), (2993, 0.0), (2994, 0.0), (2995, 0.0), (2996, 0.004710075268254388), (2997, 0.0), (2998, 0.0), (2999, 0.0), (3000, 0.0), (3001, 0.0754619537332397), (3002, 0.008199923666914214), (3003, 0.0), (3004, 0.0), (3005, 0.012526922996827276), (3006, 0.0), (3007, 0.0), (3008, 0.0), (3009, 0.0), (3010, 0.0), (3011, 0.004132917422208892), (3012, 0.025670447715669707), (3013, 0.0), (3014, 0.0), (3015, 0.0), (3016, 0.0), (3017, 0.0), (3018, 0.0), (3019, 0.00498240765885575), (3020, 0.0), (3021, 0.007657911705591716), (3022, 0.004979158829294964), (3023, 0.00767691370784502), (3024, 0.0), (3025, 0.0), (3026, 0.021763132037953974), (3027, 0.0), (3028, 0.017990058997141792), (3029, 0.0), (3030, 0.0), (3031, 0.0), (3032, 0.004790666779112928), (3033, 0.0), (3034, 0.0), (3035, 0.004074486704307298), (3036, 0.0), (3037, 0.0), (3038, 0.0), (3039, 0.0), (3040, 0.0), (3041, 0.0), (3042, 0.0), (3043, 0.040103963672414616), (3044, 0.0), (3045, 0.0035344229750442313), (3046, 0.019875713080198185), (3047, 0.0), (3048, 0.008595226552674556), (3049, 0.0053141434084538015), (3050, 0.0), (3051, 0.0), (3052, 0.0), (3053, 0.0), (3054, 0.0), (3055, 0.0), (3056, 0.0), (3057, 0.0), (3058, 0.0), (3059, 0.0), (3060, 0.0), (3061, 0.0), (3062, 0.0), (3063, 0.0), (3064, 0.0), (3065, 0.0036353754981691046), (3066, 0.0), (3067, 0.0), (3068, 0.014420296038828335), (3069, 0.0), (3070, 0.003823184155892071), (3071, 0.0), (3072, 0.0), (3073, 0.0), (3074, 0.0), (3075, 0.03411233160535496), (3076, 0.0), (3077, 0.0), (3078, 0.0), (3079, 0.003944427480373208), (3080, 0.0), (3081, 0.0), (3082, 0.0), (3083, 0.04806191130136325), (3084, 0.0), (3085, 0.004088700289655015), (3086, 0.013388902770998965), (3087, 0.0), (3088, 0.0), (3089, 0.0), (3090, 0.0), (3091, 0.0), (3092, 0.008765844530818443), (3093, 0.0), (3094, 0.0), (3095, 0.00459494852449755), (3096, 0.0), (3097, 0.0), (3098, 0.0), (3099, 0.0038069170557949125), (3100, 0.003997936730375975), (3101, 0.0), (3102, 0.0), (3103, 0.03290770415909202), (3104, 0.0), (3105, 0.007748122317609509), (3106, 0.020200690255724792), (3107, 0.0), (3108, 0.0038413601863782755), (3109, 0.0), (3110, 0.004814702405120495), (3111, 0.0), (3112, 0.004602285668461362), (3113, 0.0), (3114, 0.007501129674500772), (3115, 0.0), (3116, 0.0), (3117, 0.004906506873823599), (3118, 0.011501574030969441), (3119, 0.0), (3120, 0.0), (3121, 0.0), (3122, 0.011823563839239139), (3123, 0.005220498466726508), (3124, 0.023771663745815217), (3125, 0.00430109879532392), (3126, 0.01186939387532842), (3127, 0.0), (3128, 0.0), (3129, 0.029443919961636457), (3130, 0.007402351343368065), (3131, 0.013260015978001269), (3132, 0.0), (3133, 0.004022887890726433), (3134, 0.00446704862609116), (3135, 0.05659475164379591), (3136, 0.0039918060182119715), (3137, 0.0), (3138, 0.0), (3139, 0.0), (3140, 0.0), (3141, 0.04981103964496783), (3142, 0.0), (3143, 0.003974989430741929), (3144, 0.0), (3145, 0.0), (3146, 0.0), (3147, 0.0), (3148, 0.0), (3149, 0.0), (3150, 0.0), (3151, 0.0), (3152, 0.0), (3153, 0.004407238316212441), (3154, 0.005238432500056088), (3155, 0.044167667233727746), (3156, 0.023640359034696985), (3157, 0.0), (3158, 0.004797001668224551), (3159, 0.054292728795294475), (3160, 0.010886844894120035), (3161, 0.0042222509761032445), (3162, 0.0662836452596577), (3163, 0.024921363991258792), (3164, 0.0), (3165, 0.0), (3166, 0.0), (3167, 0.0), (3168, 0.00481937635740108), (3169, 0.0), (3170, 0.0), (3171, 0.0), (3172, 0.0), (3173, 0.0), (3174, 0.0), (3175, 0.0), (3176, 0.0), (3177, 0.0), (3178, 0.0), (3179, 0.012726648192541046), (3180, 0.004761617602158282), (3181, 0.0), (3182, 0.0), (3183, 0.0), (3184, 0.019995494818535655), (3185, 0.006494234765681147), (3186, 0.0), (3187, 0.0), (3188, 0.0), (3189, 0.0), (3190, 0.0), (3191, 0.012759687118099557), (3192, 0.0), (3193, 0.13843042537626646), (3194, 0.018592411065515135), (3195, 0.030517394823337325), (3196, 0.02449235150268379), (3197, 0.0), (3198, 0.0), (3199, 0.0), (3200, 0.0), (3201, 0.0), (3202, 0.0), (3203, 0.0), (3204, 0.0), (3205, 0.0), (3206, 0.021248070637093223), (3207, 0.02226939237131999), (3208, 0.0), (3209, 0.0), (3210, 0.004317146032519561), (3211, 0.0), (3212, 0.0), (3213, 0.0035876760663787546), (3214, 0.0), (3215, 0.003579391466186287), (3216, 0.0), (3217, 0.0), (3218, 0.0), (3219, 0.0), (3220, 0.0), (3221, 0.0), (3222, 0.0), (3223, 0.0), (3224, 0.0), (3225, 0.0), (3226, 0.0), (3227, 0.0043154269468536665), (3228, 0.005194044675807177), (3229, 0.0), (3230, 0.0), (3231, 0.0), (3232, 0.019096733252058497), (3233, 0.004403046556015769), (3234, 0.0), (3235, 0.008649944911013072), (3236, 0.0), (3237, 0.0), (3238, 0.0), (3239, 0.0), (3240, 0.0), (3241, 0.0), (3242, 0.0), (3243, 0.0), (3244, 0.02547750053624322), (3245, 0.0), (3246, 0.0), (3247, 0.003870885243940608), (3248, 0.0), (3249, 0.0), (3250, 0.015219976485018247), (3251, 0.020115349849860093), (3252, 0.0), (3253, 0.0), (3254, 0.0), (3255, 0.0), (3256, 0.0), (3257, 0.0), (3258, 0.0), (3259, 0.0), (3260, 0.0), (3261, 0.0), (3262, 0.0), (3263, 0.004662643066555877), (3264, 0.0), (3265, 0.0), (3266, 0.0), (3267, 0.0), (3268, 0.0), (3269, 0.0), (3270, 0.0), (3271, 0.021283734249153644), (3272, 0.0), (3273, 0.0), (3274, 0.0), (3275, 0.005002401989998062), (3276, 0.0), (3277, 0.0), (3278, 0.007378027788652234), (3279, 0.010620317166971559), (3280, 0.007554354981585408), (3281, 0.018027484300652385), (3282, 0.0), (3283, 0.0), (3284, 0.003919867736697274), (3285, 0.0), (3286, 0.028775342938553092), (3287, 0.0), (3288, 0.0), (3289, 0.0), (3290, 0.031638197330422876), (3291, 0.0), (3292, 0.0), (3293, 0.0), (3294, 0.0), (3295, 0.0), (3296, 0.0), (3297, 0.0), (3298, 0.0), (3299, 0.0), (3300, 0.0), (3301, 0.0), (3302, 0.0), (3303, 0.004355447312176392), (3304, 0.0), (3305, 0.019617648568498073), (3306, 0.0), (3307, 0.0), (3308, 0.0), (3309, 0.0), (3310, 0.0), (3311, 0.027809913561941853), (3312, 0.004971082361486193), (3313, 0.0), (3314, 0.0), (3315, 0.0), (3316, 0.0), (3317, 0.00350551585095816), (3318, 0.0038573836146556803), (3319, 0.0), (3320, 0.007620935245704983), (3321, 0.0), (3322, 0.033550759133516905), (3323, 0.0), (3324, 0.0), (3325, 0.007646802428582152), (3326, 0.0), (3327, 0.0), (3328, 0.011543172076640722), (3329, 0.0), (3330, 0.012351856762996835), (3331, 0.003567733574002791), (3332, 0.06891114030916129), (3333, 0.02608617752587489), (3334, 0.05335257501559188), (3335, 0.020475145034155002), (3336, 0.0), (3337, 0.0), (3338, 0.011546961898640991), (3339, 0.003683255554518172), (3340, 0.0), (3341, 0.0), (3342, 0.003974296655958114), (3343, 0.0), (3344, 0.0036348081553804245), (3345, 0.0), (3346, 0.0196456952115149), (3347, 0.0), (3348, 0.04245327554489105), (3349, 0.004440375514596653), (3350, 0.0), (3351, 0.0), (3352, 0.029952041884691614), (3353, 0.0), (3354, 0.0), (3355, 0.0), (3356, 0.0), (3357, 0.0), (3358, 0.0), (3359, 0.0), (3360, 0.0), (3361, 0.0040515009328697844), (3362, 0.0), (3363, 0.0), (3364, 0.0), (3365, 0.0), (3366, 0.0), (3367, 0.004286690402017615), (3368, 0.0), (3369, 0.0), (3370, 0.0041544210761987384), (3371, 0.0), (3372, 0.0), (3373, 0.0), (3374, 0.004247521808147607), (3375, 0.0), (3376, 0.0), (3377, 0.005008285315811855), (3378, 0.032080508555464946), (3379, 0.0), (3380, 0.09573507244328346), (3381, 0.045833955343640966), (3382, 0.0), (3383, 0.0), (3384, 0.005017690427286379), (3385, 0.004796881414345721), (3386, 0.008221572352125518), (3387, 0.024119590581448205), (3388, 0.0), (3389, 0.0), (3390, 0.0), (3391, 0.0), (3392, 0.029147825963300716), (3393, 0.0), (3394, 0.007076308224193537), (3395, 0.0), (3396, 0.0), (3397, 0.0), (3398, 0.012782545957775594), (3399, 0.0), (3400, 0.0), (3401, 0.008600532982381063), (3402, 0.0), (3403, 0.0037497235227812514), (3404, 0.004354532451185178), (3405, 0.051357235919113044), (3406, 0.0), (3407, 0.0), (3408, 0.0), (3409, 0.0), (3410, 0.0), (3411, 0.007118908286728892), (3412, 0.0), (3413, 0.0), (3414, 0.0), (3415, 0.0), (3416, 0.05936762549065213), (3417, 0.0), (3418, 0.0), (3419, 0.0), (3420, 0.0), (3421, 0.0), (3422, 0.0), (3423, 0.0), (3424, 0.0), (3425, 0.0), (3426, 0.003981390288391584), (3427, 0.06380574706083438), (3428, 0.0), (3429, 0.014850309380569537), (3430, 0.0), (3431, 0.0), (3432, 0.0042486062933829935), (3433, 0.011670162133465972), (3434, 0.019805530034475338), (3435, 0.004238359029850199), (3436, 0.004307476167017778), (3437, 0.021469356119408627), (3438, 0.024443422323285616), (3439, 0.010524390478853752), (3440, 0.014400376990754585), (3441, 0.0), (3442, 0.0), (3443, 0.004221515573816316), (3444, 0.0), (3445, 0.008309886417886969), (3446, 0.012728614185355876), (3447, 0.0), (3448, 0.0051919903338237), (3449, 0.0), (3450, 0.004970735289036795), (3451, 0.004587411908801168), (3452, 0.003990973808520233), (3453, 0.0), (3454, 0.0), (3455, 0.0), (3456, 0.008464764818087635), (3457, 0.0), (3458, 0.0), (3459, 0.0), (3460, 0.003935645020904137), (3461, 0.0), (3462, 0.0), (3463, 0.0), (3464, 0.02087645371720769), (3465, 0.004065275363742502), (3466, 0.004029186569455041), (3467, 0.0), (3468, 0.004612710189568652), (3469, 0.0), (3470, 0.0139116974564812), (3471, 0.00985456730146906), (3472, 0.0), (3473, 0.0), (3474, 0.011262082127063495), (3475, 0.0), (3476, 0.0), (3477, 0.0), (3478, 0.0), (3479, 0.0), (3480, 0.006653161965643074), (3481, 0.0), (3482, 0.0), (3483, 0.0045315673764112635), (3484, 0.16372972285631454), (3485, 0.0), (3486, 0.004369958520509473), (3487, 0.011916486153864397), (3488, 0.012921145063500953), (3489, 0.0), (3490, 0.0), (3491, 0.0), (3492, 0.0), (3493, 0.0), (3494, 0.0), (3495, 0.011020980014643545), (3496, 0.0), (3497, 0.05696561641014408), (3498, 0.0040893233477664855), (3499, 0.0042045779326401285), (3500, 0.0), (3501, 0.0043505439392523635), (3502, 0.015001615007145093), (3503, 0.0), (3504, 0.004099440137800768), (3505, 0.0), (3506, 0.0), (3507, 0.004436800060859535), (3508, 0.0), (3509, 0.0), (3510, 0.0), (3511, 0.0), (3512, 0.0), (3513, 0.004484224085489255), (3514, 0.00446813141671525), (3515, 0.0), (3516, 0.013479411089415565), (3517, 0.0), (3518, 0.020170827688348953), (3519, 0.0), (3520, 0.004332710035222885), (3521, 0.00527270610905646), (3522, 0.008304447280297557), (3523, 0.0), (3524, 0.0), (3525, 0.0), (3526, 0.0), (3527, 0.0), (3528, 0.06272809314252002), (3529, 0.0), (3530, 0.008318039585959225), (3531, 0.01805671354337638), (3532, 0.0), (3533, 0.0), (3534, 0.0), (3535, 0.014676207859589282), (3536, 0.0), (3537, 0.0), (3538, 0.0), (3539, 0.0), (3540, 0.0), (3541, 0.0), (3542, 0.0), (3543, 0.0), (3544, 0.0), (3545, 0.0), (3546, 0.0), (3547, 0.009423926675824226), (3548, 0.0), (3549, 0.0), (3550, 0.04828554238542382), (3551, 0.0), (3552, 0.0), (3553, 0.033965438476537047), (3554, 0.0), (3555, 0.004148119586385129), (3556, 0.003826843399735694), (3557, 0.0), (3558, 0.0), (3559, 0.0), (3560, 0.0), (3561, 0.0), (3562, 0.02449733034995207), (3563, 0.0), (3564, 0.04773714611839241), (3565, 0.0), (3566, 0.0), (3567, 0.0), (3568, 0.0), (3569, 0.0), (3570, 0.01850007964002356), (3571, 0.004376508160431434), (3572, 0.0), (3573, 0.0), (3574, 0.0), (3575, 0.015039906861137544), (3576, 0.012587944428216266), (3577, 0.0), (3578, 0.0), (3579, 0.0), (3580, 0.007949731699652157), (3581, 0.0), (3582, 0.02205735437841001), (3583, 0.012034508110174136), (3584, 0.07772873769392503), (3585, 0.0), (3586, 0.0), (3587, 0.0), (3588, 0.005258543464121511), (3589, 0.04045304675742951), (3590, 0.0), (3591, 0.0), (3592, 0.0), (3593, 0.0), (3594, 0.0), (3595, 0.0), (3596, 0.0), (3597, 0.0201596294721785), (3598, 0.0), (3599, 0.0), (3600, 0.028085284868488783), (3601, 0.05987757775733489), (3602, 0.02251323917053969), (3603, 0.0), (3604, 0.004700912787535924), (3605, 0.020880243780976075), (3606, 0.0), (3607, 0.0), (3608, 0.0), (3609, 0.03154386501225763), (3610, 0.0), (3611, 0.0), (3612, 0.0), (3613, 0.02166139655861677), (3614, 0.0), (3615, 0.0), (3616, 0.0), (3617, 0.0), (3618, 0.004536699470227584), (3619, 0.010874013438463673), (3620, 0.0), (3621, 0.0), (3622, 0.0), (3623, 0.004415137575420006), (3624, 0.004240298390217173), (3625, 0.0), (3626, 0.0), (3627, 0.0), (3628, 0.0), (3629, 0.0), (3630, 0.0), (3631, 0.0), (3632, 0.025995878277366925), (3633, 0.0), (3634, 0.0), (3635, 0.005786538645274223), (3636, 0.0), (3637, 0.0037429004752367596), (3638, 0.005336136405330704), (3639, 0.0), (3640, 0.0047731449943896245), (3641, 0.0), (3642, 0.004641141950632752), (3643, 0.0), (3644, 0.0), (3645, 0.0), (3646, 0.0), (3647, 0.0), (3648, 0.0), (3649, 0.0), (3650, 0.0), (3651, 0.0), (3652, 0.004729114595122332), (3653, 0.004362845945466041), (3654, 0.0), (3655, 0.0), (3656, 0.0), (3657, 0.0), (3658, 0.0), (3659, 0.004664663826530676), (3660, 0.004127312526992187), (3661, 0.02734682149296714), (3662, 0.0), (3663, 0.0), (3664, 0.011913336336863613), (3665, 0.0), (3666, 0.03219870899627572), (3667, 0.0), (3668, 0.0), (3669, 0.0), (3670, 0.023092257009161996), (3671, 0.0), (3672, 0.0), (3673, 0.055917457030411934), (3674, 0.003612822966798478), (3675, 0.005101894950449786), (3676, 0.0), (3677, 0.0), (3678, 0.0), (3679, 0.008994888893629089), (3680, 0.004839796941480996), (3681, 0.0), (3682, 0.0), (3683, 0.0), (3684, 0.00371440035009374), (3685, 0.019880610473435097), (3686, 0.0), (3687, 0.0), (3688, 0.01798158367418574), (3689, 0.0), (3690, 0.0), (3691, 0.0), (3692, 0.032676586095386456), (3693, 0.037428591053162964), (3694, 0.004631898950637805), (3695, 0.027818366678337373), (3696, 0.004127492143521996), (3697, 0.028719060075331915), (3698, 0.05315230893406832), (3699, 0.0043715300640729884), (3700, 0.017683021149029754), (3701, 0.0), (3702, 0.01065898020938962), (3703, 0.026212912345445916), (3704, 0.004625150659719025), (3705, 0.020718686305189353), (3706, 0.0), (3707, 0.0), (3708, 0.004941657221674668), (3709, 0.0), (3710, 0.00455008933169922), (3711, 0.0039433464867954324), (3712, 0.0), (3713, 0.003568403827808253), (3714, 0.0), (3715, 0.005522797778020218), (3716, 0.0), (3717, 0.0), (3718, 0.0), (3719, 0.0), (3720, 0.011960581923264432), (3721, 0.0056777255663057885), (3722, 0.0), (3723, 0.004039157375676439), (3724, 0.0086036147879726), (3725, 0.0), (3726, 0.0), (3727, 0.004243540458847094), (3728, 0.0), (3729, 0.0), (3730, 0.0), (3731, 0.006919743126059435), (3732, 0.0), (3733, 0.0248279924383088), (3734, 0.06826282696236091), (3735, 0.0), (3736, 0.0), (3737, 0.0), (3738, 0.007421722741996999), (3739, 0.0), (3740, 0.0), (3741, 0.004971577644232525), (3742, 0.0), (3743, 0.0), (3744, 0.026581842325464462), (3745, 0.0), (3746, 0.033023789443893836), (3747, 0.004520430777501427), (3748, 0.0), (3749, 0.0), (3750, 0.0), (3751, 0.01530139966905782), (3752, 0.0), (3753, 0.0), (3754, 0.0), (3755, 0.0), (3756, 0.0035009233766093158), (3757, 0.0), (3758, 0.009704591686846592), (3759, 0.0), (3760, 0.0), (3761, 0.0), (3762, 0.0), (3763, 0.0), (3764, 0.0), (3765, 0.0), (3766, 0.005103985443939087), (3767, 0.0), (3768, 0.013318081996819386), (3769, 0.012958948986441978), (3770, 0.0), (3771, 0.004635729802159597), (3772, 0.0), (3773, 0.0), (3774, 0.00458305746913782), (3775, 0.0039717973484166055), (3776, 0.003665525895098638), (3777, 0.004522063496154934), (3778, 0.0), (3779, 0.0), (3780, 0.004569809887960587), (3781, 0.0), (3782, 0.02339583848271254), (3783, 0.0), (3784, 0.0), (3785, 0.0), (3786, 0.0), (3787, 0.0046856467949177244), (3788, 0.01158549303228587), (3789, 0.0), (3790, 0.026434119211259082), (3791, 0.0), (3792, 0.0), (3793, 0.012184454866630764), (3794, 0.0040537975336403485), (3795, 0.0), (3796, 0.0), (3797, 0.004736180738496667), (3798, 0.0), (3799, 0.0), (3800, 0.0), (3801, 0.0038345454395420577), (3802, 0.013571262074294817), (3803, 0.0), (3804, 0.0), (3805, 0.0), (3806, 0.003610676548900196), (3807, 0.03018954378404783), (3808, 0.0), (3809, 0.0), (3810, 0.03327891891348837), (3811, 0.0), (3812, 0.0), (3813, 0.0), (3814, 0.02148356020836289), (3815, 0.012636115504968085), (3816, 0.0), (3817, 0.0), (3818, 0.0), (3819, 0.00404108689642234), (3820, 0.0), (3821, 0.02612068271129705), (3822, 0.0), (3823, 0.09720201014253985), (3824, 0.011829389961572819), (3825, 0.0), (3826, 0.0), (3827, 0.0), (3828, 0.005412855792290735), (3829, 0.0), (3830, 0.0), (3831, 0.04178557392161063), (3832, 0.0), (3833, 0.012586697113232667), (3834, 0.0), (3835, 0.05284039997322482), (3836, 0.0), (3837, 0.0), (3838, 0.0), (3839, 0.0), (3840, 0.0), (3841, 0.0038381985304816488), (3842, 0.0), (3843, 0.0), (3844, 0.015531245046414625), (3845, 0.0), (3846, 0.0), (3847, 0.0), (3848, 0.0), (3849, 0.004445354741540052), (3850, 0.004573922527605255), (3851, 0.0), (3852, 0.010799254222101547), (3853, 0.011702850144087389), (3854, 0.003957880605273052), (3855, 0.026428019232395322), (3856, 0.0), (3857, 0.020677317474163102), (3858, 0.0), (3859, 0.14031074026410673), (3860, 0.0038805182743241367), (3861, 0.0), (3862, 0.0044699682580571325), (3863, 0.0), (3864, 0.0), (3865, 0.0), (3866, 0.0), (3867, 0.0), (3868, 0.0), (3869, 0.0), (3870, 0.0), (3871, 0.02115100911532171), (3872, 0.007818943950003689), (3873, 0.0), (3874, 0.0), (3875, 0.014274366737219792), (3876, 0.00392872145346123), (3877, 0.0), (3878, 0.0), (3879, 0.0), (3880, 0.0), (3881, 0.011819435569821145), (3882, 0.0), (3883, 0.004878656057497806), (3884, 0.0), (3885, 0.0), (3886, 0.011902872312336894), (3887, 0.0), (3888, 0.0), (3889, 0.0), (3890, 0.0), (3891, 0.0), (3892, 0.02420086766129946), (3893, 0.04739012183435942), (3894, 0.0), (3895, 0.0), (3896, 0.0), (3897, 0.004537812243067177), (3898, 0.0), (3899, 0.02827576093684916), (3900, 0.0), (3901, 0.014947248222373997), (3902, 0.0), (3903, 0.0), (3904, 0.0), (3905, 0.0), (3906, 0.0), (3907, 0.004440434507907398), (3908, 0.004336273897362867), (3909, 0.0), (3910, 0.04227046092287694), (3911, 0.020984960398039182), (3912, 0.0), (3913, 0.0), (3914, 0.0), (3915, 0.0), (3916, 0.0), (3917, 0.0), (3918, 0.0), (3919, 0.021184104371375342), (3920, 0.0), (3921, 0.0), (3922, 0.0), (3923, 0.0), (3924, 0.0), (3925, 0.0), (3926, 0.0), (3927, 0.0), (3928, 0.0), (3929, 0.0), (3930, 0.0), (3931, 0.0), (3932, 0.0), (3933, 0.0), (3934, 0.0), (3935, 0.0), (3936, 0.0), (3937, 0.0), (3938, 0.013438287621140394), (3939, 0.034720533666707604), (3940, 0.00668984635647204), (3941, 0.0), (3942, 0.015118694314810548), (3943, 0.0), (3944, 0.009990739529629786), (3945, 0.0), (3946, 0.003319063472132727), (3947, 0.02836412124488819), (3948, 0.0), (3949, 0.0), (3950, 0.0), (3951, 0.0), (3952, 0.0), (3953, 0.01693843842821826), (3954, 0.0), (3955, 0.09537176649008605), (3956, 0.0), (3957, 0.003527750771547646), (3958, 0.0), (3959, 0.00886581564037397), (3960, 0.004852142898287675), (3961, 0.004724024044479529), (3962, 0.0), (3963, 0.0), (3964, 0.0), (3965, 0.04937730993729129), (3966, 0.003991649360039772), (3967, 0.0), (3968, 0.0), (3969, 0.020693499605432118), (3970, 0.011853986587143598), (3971, 0.0065435629198388546), (3972, 0.05024461799753683), (3973, 0.0), (3974, 0.0038522137163900703), (3975, 0.01615491143164805), (3976, 0.0), (3977, 0.0), (3978, 0.004082313256296969), (3979, 0.0), (3980, 0.0), (3981, 0.0), (3982, 0.0), (3983, 0.0), (3984, 0.0), (3985, 0.007756769590212599), (3986, 0.0), (3987, 0.020979820951802394), (3988, 0.0), (3989, 1.0), (3990, 0.0), (3991, 0.0), (3992, 0.02290693329385336), (3993, 0.003954379194258564), (3994, 0.1841607759266293), (3995, 0.012849763137252711), (3996, 0.0), (3997, 0.004556412663322917), (3998, 0.0), (3999, 0.0), (4000, 0.004245269116446194), (4001, 0.0), (4002, 0.0), (4003, 0.05711195265217385), (4004, 0.0043404661832697885), (4005, 0.004573265466585441), (4006, 0.008109327542966109), (4007, 0.0), (4008, 0.0), (4009, 0.0), (4010, 0.0), (4011, 0.0), (4012, 0.0), (4013, 0.0046597271622042784), (4014, 0.0), (4015, 0.0), (4016, 0.0), (4017, 0.0), (4018, 0.0), (4019, 0.0), (4020, 0.0), (4021, 0.0), (4022, 0.0), (4023, 0.0), (4024, 0.0), (4025, 0.030748230782763092), (4026, 0.0), (4027, 0.0), (4028, 0.06318036391401449), (4029, 0.007951767217619799), (4030, 0.0), (4031, 0.0), (4032, 0.0), (4033, 0.0), (4034, 0.0), (4035, 0.0), (4036, 0.0), (4037, 0.0), (4038, 0.004575635391881658), (4039, 0.004172148253954998), (4040, 0.010470366829499873), (4041, 0.0), (4042, 0.0), (4043, 0.004770507706212141), (4044, 0.011245643312408325), (4045, 0.0), (4046, 0.004691991559653079), (4047, 0.00540961493026446), (4048, 0.0), (4049, 0.0), (4050, 0.004727899997938882), (4051, 0.0), (4052, 0.0), (4053, 0.0), (4054, 0.0), (4055, 0.0), (4056, 0.05584145524970024), (4057, 0.0), (4058, 0.0), (4059, 0.04834969031387525), (4060, 0.0), (4061, 0.0), (4062, 0.0), (4063, 0.007488258958012347), (4064, 0.0), (4065, 0.0), (4066, 0.0), (4067, 0.0), (4068, 0.004348125242164871), (4069, 0.0), (4070, 0.0), (4071, 0.004049595446538328), (4072, 0.0), (4073, 0.0), (4074, 0.01580444573037417), (4075, 0.0), (4076, 0.004610834194167772), (4077, 0.0), (4078, 0.03866461994959955), (4079, 0.0), (4080, 0.0), (4081, 0.0), (4082, 0.0), (4083, 0.0), (4084, 0.0), (4085, 0.03736704945676896), (4086, 0.021315474483773817), (4087, 0.0), (4088, 0.004386092903735475), (4089, 0.004456388595185288), (4090, 0.013355401811190451), (4091, 0.004702730984245158), (4092, 0.004843464409483186), (4093, 0.0), (4094, 0.06017056049100726), (4095, 0.0036322172171693143), (4096, 0.0037079162965650094), (4097, 0.0), (4098, 0.0043871472796651835), (4099, 0.0), (4100, 0.0), (4101, 0.0), (4102, 0.0), (4103, 0.004303118704787094), (4104, 0.0), (4105, 0.0), (4106, 0.011096250027514857), (4107, 0.0), (4108, 0.018158643306649788), (4109, 0.06161482838395929), (4110, 0.0), (4111, 0.019929380360879885), (4112, 0.0), (4113, 0.0), (4114, 0.0), (4115, 0.0), (4116, 0.0046661269272458925), (4117, 0.0), (4118, 0.0), (4119, 0.004756941882532092), (4120, 0.013815256953961803), (4121, 0.024842177092743715), (4122, 0.021810572738987472), (4123, 0.0045190845696677475), (4124, 0.03242775131189951), (4125, 0.0), (4126, 0.0), (4127, 0.0), (4128, 0.030631072179738258), (4129, 0.0), (4130, 0.0), (4131, 0.0), (4132, 0.1633032531476331), (4133, 0.013514350067389427), (4134, 0.017008970215441656), (4135, 0.0), (4136, 0.0), (4137, 0.0), (4138, 0.0), (4139, 0.0), (4140, 0.0), (4141, 0.0), (4142, 0.0), (4143, 0.0), (4144, 0.0), (4145, 0.0), (4146, 0.0), (4147, 0.0), (4148, 0.004263210936767347), (4149, 0.008203352782570087), (4150, 0.0678995055943702), (4151, 0.0), (4152, 0.0), (4153, 0.0), (4154, 0.003867425436758152), (4155, 0.0), (4156, 0.0), (4157, 0.007951406066729864), (4158, 0.010641909077557982), (4159, 0.007604496709436595), (4160, 0.034920875988660456), (4161, 0.0), (4162, 0.02635362744436188), (4163, 0.004962111411262139), (4164, 0.003908664462385699), (4165, 0.011429599830232414), (4166, 0.0), (4167, 0.008704225027549427), (4168, 0.0), (4169, 0.0), (4170, 0.02222590038785649), (4171, 0.0), (4172, 0.0), (4173, 0.02721116815131132), (4174, 0.027279761645406426), (4175, 0.0), (4176, 0.021053650625716548), (4177, 0.0), (4178, 0.004494040234973146), (4179, 0.0), (4180, 0.03545089368622002), (4181, 0.0), (4182, 0.0), (4183, 0.0), (4184, 0.0), (4185, 0.0), (4186, 0.016076046457673642), (4187, 0.0), (4188, 0.008062153221537026), (4189, 0.004377918962371757), (4190, 0.0), (4191, 0.0), (4192, 0.0), (4193, 0.011271366338580406), (4194, 0.0), (4195, 0.0), (4196, 0.0), (4197, 0.0), (4198, 0.0), (4199, 0.0), (4200, 0.0), (4201, 0.0), (4202, 0.0), (4203, 0.0), (4204, 0.0), (4205, 0.0), (4206, 0.0), (4207, 0.0), (4208, 0.00535541542837716), (4209, 0.0), (4210, 0.01888286571146039), (4211, 0.004201317459009854), (4212, 0.0), (4213, 0.0), (4214, 0.0), (4215, 0.0), (4216, 0.02212724084544699), (4217, 0.0), (4218, 0.0), (4219, 0.005502111593297254), (4220, 0.0), (4221, 0.0), (4222, 0.0), (4223, 0.0), (4224, 0.0), (4225, 0.0), (4226, 0.008870660378254255), (4227, 0.013682080237807023), (4228, 0.0), (4229, 0.0), (4230, 0.0), (4231, 0.0045655734047349815), (4232, 0.0), (4233, 0.0), (4234, 0.0), (4235, 0.0039215297898193375), (4236, 0.0), (4237, 0.0), (4238, 0.0), (4239, 0.011210116931869093), (4240, 0.07900939821669338), (4241, 0.0), (4242, 0.005317106830429207), (4243, 0.0), (4244, 0.004903204763894444), (4245, 0.0), (4246, 0.0), (4247, 0.0), (4248, 0.004254612961595173), (4249, 0.0044160242528686515), (4250, 0.0), (4251, 0.02102576674606224), (4252, 0.0), (4253, 0.0), (4254, 0.0), (4255, 0.030765116991249848), (4256, 0.021504814449142505), (4257, 0.0), (4258, 0.0), (4259, 0.028956324855632216), (4260, 0.0), (4261, 0.0), (4262, 0.0), (4263, 0.0), (4264, 0.00421766806729113), (4265, 0.0045295331725792596), (4266, 0.020448645956638745), (4267, 0.03443753515529628), (4268, 0.04369041728935545), (4269, 0.0), (4270, 0.0), (4271, 0.010040226322384169), (4272, 0.0), (4273, 0.0), (4274, 0.003924487042763816), (4275, 0.004437657786646233), (4276, 0.0), (4277, 0.0), (4278, 0.008044920836857185), (4279, 0.0), (4280, 0.0), (4281, 0.0049466413747985), (4282, 0.003939734823236177), (4283, 0.004362750264892853), (4284, 0.10455839546983825), (4285, 0.07541216081245941), (4286, 0.0), (4287, 0.0), (4288, 0.008708819793386216), (4289, 0.019814442608673846), (4290, 0.011186292941610169), (4291, 0.019670443804196008), (4292, 0.004032488593835073), (4293, 0.0), (4294, 0.0), (4295, 0.0), (4296, 0.0), (4297, 0.0), (4298, 0.0), (4299, 0.054649908522927323), (4300, 0.0), (4301, 0.0), (4302, 0.01019792308042946), (4303, 0.0), (4304, 0.016708506595984322), (4305, 0.0), (4306, 0.0), (4307, 0.004805213730987229), (4308, 0.0), (4309, 0.004177366225675716), (4310, 0.0042842944077528524), (4311, 0.0), (4312, 0.004598325387263095), (4313, 0.0), (4314, 0.0), (4315, 0.0), (4316, 0.009387466457626564), (4317, 0.0), (4318, 0.0), (4319, 0.0), (4320, 0.0), (4321, 0.0), (4322, 0.003918766315147324), (4323, 0.03158992712188097), (4324, 0.05065965526383715), (4325, 0.003969805491492647), (4326, 0.0), (4327, 0.0), (4328, 0.003998290607917558), (4329, 0.041615430861216676), (4330, 0.0), (4331, 0.014276635676552248), (4332, 0.0), (4333, 0.0), (4334, 0.0203589808493398), (4335, 0.0), (4336, 0.0), (4337, 0.013761716424172333), (4338, 0.0), (4339, 0.003909594039175634), (4340, 0.0), (4341, 0.0), (4342, 0.0), (4343, 0.0), (4344, 0.019572281916710108), (4345, 0.0), (4346, 0.0), (4347, 0.0), (4348, 0.0), (4349, 0.0), (4350, 0.0), (4351, 0.0), (4352, 0.007928543427916282), (4353, 0.0), (4354, 0.0), (4355, 0.0), (4356, 0.0), (4357, 0.0), (4358, 0.0), (4359, 0.0), (4360, 0.012460186020208965), (4361, 0.0), (4362, 0.004190738422483081), (4363, 0.0), (4364, 0.0), (4365, 0.0037698078144534786), (4366, 0.011144097800322196), (4367, 0.0), (4368, 0.0), (4369, 0.0), (4370, 0.0), (4371, 0.0), (4372, 0.0), (4373, 0.0), (4374, 0.0040627014699603685), (4375, 0.024921844850273604), (4376, 0.022393311379420522), (4377, 0.043497506642858626), (4378, 0.0), (4379, 0.022630207350696593), (4380, 0.004355618540538667), (4381, 0.0), (4382, 0.0), (4383, 0.0042949069478821844), (4384, 0.004533199738979324), (4385, 0.007062339923324259), (4386, 0.0), (4387, 0.004173277109738168), (4388, 0.020839600889209157), (4389, 0.014042677249645898), (4390, 0.0), (4391, 0.0), (4392, 0.013050927158835806), (4393, 0.0), (4394, 0.0), (4395, 0.0), (4396, 0.0), (4397, 0.0), (4398, 0.0), (4399, 0.0), (4400, 0.0), (4401, 0.02200802518229112), (4402, 0.003957544204763224), (4403, 0.0054551344728869765), (4404, 0.008289882396274602), (4405, 0.0), (4406, 0.0), (4407, 0.0), (4408, 0.0), (4409, 0.0), (4410, 0.0), (4411, 0.0), (4412, 0.01451861266950475), (4413, 0.0), (4414, 0.0061494990659744595), (4415, 0.01762231750229421), (4416, 0.0), (4417, 0.0), (4418, 0.02306500707569283), (4419, 0.0), (4420, 0.0), (4421, 0.0), (4422, 0.020941655695312273), (4423, 0.0), (4424, 0.0), (4425, 0.0), (4426, 0.010694131854313048), (4427, 0.0), (4428, 0.0), (4429, 0.0), (4430, 0.02286821597710632), (4431, 0.024486435150168313), (4432, 0.003746133323269678), (4433, 0.04576751159785317), (4434, 0.0077728667770265705), (4435, 0.0), (4436, 0.004615145614614069), (4437, 0.0), (4438, 0.004103283296466738), (4439, 0.0), (4440, 0.0), (4441, 0.011773526246720841), (4442, 0.0), (4443, 0.0052430435146457515), (4444, 0.0056065099328127125), (4445, 0.0), (4446, 0.0), (4447, 0.0), (4448, 0.0), (4449, 0.009520645782988129), (4450, 0.0037939871199945924), (4451, 0.0), (4452, 0.0), (4453, 0.0), (4454, 0.032740306969361956), (4455, 0.0), (4456, 0.0), (4457, 0.0), (4458, 0.0), (4459, 0.007806079760886939), (4460, 0.0), (4461, 0.0), (4462, 0.004836671239756102), (4463, 0.0), (4464, 0.005441959301326252), (4465, 0.0), (4466, 0.004456679672665311), (4467, 0.0), (4468, 0.0037369096082963725), (4469, 0.0), (4470, 0.004412592424823899), (4471, 0.0), (4472, 0.0), (4473, 0.0), (4474, 0.0045064515645080756), (4475, 0.0038487461921467335), (4476, 0.0), (4477, 0.0), (4478, 0.0), (4479, 0.0), (4480, 0.0), (4481, 0.00408927069528398), (4482, 0.0), (4483, 0.0), (4484, 0.0), (4485, 0.0), (4486, 0.0), (4487, 0.0), (4488, 0.026885065224367857), (4489, 0.0), (4490, 0.005075704293902755), (4491, 0.0), (4492, 0.0), (4493, 0.04750810108490451), (4494, 0.004835102762304515), (4495, 0.0), (4496, 0.050211063882611345), (4497, 0.0), (4498, 0.0), (4499, 0.0), (4500, 0.0), (4501, 0.0), (4502, 0.0), (4503, 0.004316462013153157), (4504, 0.0), (4505, 0.0), (4506, 0.0), (4507, 0.0), (4508, 0.0), (4509, 0.050349949596841706), (4510, 0.0045427486588356806), (4511, 0.0), (4512, 0.0047956048722892644), (4513, 0.010252540434300076), (4514, 0.00517691001412644), (4515, 0.004762596230349105), (4516, 0.0), (4517, 0.012469035090269656), (4518, 0.015045671807240642), (4519, 0.0), (4520, 0.0), (4521, 0.0), (4522, 0.004664191176216), (4523, 0.004094240422161421), (4524, 0.005107413348240807), (4525, 0.02447810131458378), (4526, 0.023113737798850887), (4527, 0.014251007786943798), (4528, 0.0), (4529, 0.0), (4530, 0.0), (4531, 0.004743205316837704), (4532, 0.0071027444331573375), (4533, 0.004380303014911653), (4534, 0.07039198334521865), (4535, 0.02204744099106924), (4536, 0.0), (4537, 0.05615241926631737), (4538, 0.07829507227750523), (4539, 0.009732478642226388), (4540, 0.033466677639037844), (4541, 0.0), (4542, 0.008022240787136864), (4543, 0.004122465844415181), (4544, 0.0), (4545, 0.0), (4546, 0.005532291644691143), (4547, 0.0), (4548, 0.011618250648769455), (4549, 0.0090012573630845), (4550, 0.024655602338120485), (4551, 0.0), (4552, 0.012846812706582174), (4553, 0.0037423927139818547), (4554, 0.005087581634142536), (4555, 0.0), (4556, 0.0), (4557, 0.0), (4558, 0.0), (4559, 0.0), (4560, 0.0), (4561, 0.0), (4562, 0.0), (4563, 0.03152506351218446), (4564, 0.0), (4565, 0.006846272271651781), (4566, 0.0), (4567, 0.08385204612973031), (4568, 0.0), (4569, 0.0), (4570, 0.0), (4571, 0.0), (4572, 0.0), (4573, 0.0), (4574, 0.0), (4575, 0.0), (4576, 0.04676478812457494), (4577, 0.0), (4578, 0.0), (4579, 0.004613260720582913), (4580, 0.0), (4581, 0.0), (4582, 0.01105535970000884), (4583, 0.00819817646050483), (4584, 0.045044402907993636), (4585, 0.011597331052113134), (4586, 0.004456675276204364), (4587, 0.004079129257002723), (4588, 0.0), (4589, 0.021789904415643702), (4590, 0.0038324557117827692), (4591, 0.028225910420691582), (4592, 0.0), (4593, 0.013781811952950874), (4594, 0.0), (4595, 0.01341111882266207), (4596, 0.0), (4597, 0.0), (4598, 0.04056148271525676), (4599, 0.0), (4600, 0.0), (4601, 0.033217969888646476), (4602, 0.0), (4603, 0.0), (4604, 0.0), (4605, 0.0), (4606, 0.0), (4607, 0.011782593963089906), (4608, 0.0), (4609, 0.0), (4610, 0.0), (4611, 0.0), (4612, 0.0053281439351933356), (4613, 0.020852585313754904), (4614, 0.011838535695100284), (4615, 0.032678889915699616), (4616, 0.0), (4617, 0.0), (4618, 0.011335271728737504), (4619, 0.0), (4620, 0.0), (4621, 0.012951407656837638), (4622, 0.06366936501021127), (4623, 0.012349311080500865), (4624, 0.004488030188254727), (4625, 0.0), (4626, 0.006560188943544654), (4627, 0.0), (4628, 0.0), (4629, 0.004464812621921133), (4630, 0.01389907911264198), (4631, 0.0), (4632, 0.0), (4633, 0.0), (4634, 0.0), (4635, 0.0), (4636, 0.025291208553704928), (4637, 0.005078600114918775), (4638, 0.0), (4639, 0.012968994469210706), (4640, 0.01973448766025643), (4641, 0.0), (4642, 0.005050893973140307), (4643, 0.0), (4644, 0.0), (4645, 0.009613596304581164), (4646, 0.015802434716092936), (4647, 0.0), (4648, 0.0), (4649, 0.0), (4650, 0.0), (4651, 0.0), (4652, 0.0), (4653, 0.005232819442648836), (4654, 0.01230499279930109), (4655, 0.0), (4656, 0.0), (4657, 0.0), (4658, 0.022012304916757368), (4659, 0.0), (4660, 0.005277710287952445), (4661, 0.0037938188119771344), (4662, 0.0), (4663, 0.0), (4664, 0.007900599832252065), (4665, 0.01229255441499132), (4666, 0.0057943398988245095), (4667, 0.0), (4668, 0.00799512007426692), (4669, 0.004661447767393151), (4670, 0.004099783997487117), (4671, 0.0), (4672, 0.044611772320976434), (4673, 0.004145339662082727), (4674, 0.0099545277834209), (4675, 0.0), (4676, 0.0), (4677, 0.004325885343632446), (4678, 0.004374388453431846), (4679, 0.003762761754472251), (4680, 0.0), (4681, 0.0), (4682, 0.0), (4683, 0.008141433346179004), (4684, 0.004367640338420855), (4685, 0.0), (4686, 0.04413502865387519), (4687, 0.0), (4688, 0.0), (4689, 0.0039053858859945914), (4690, 0.0), (4691, 0.005797250159407697), (4692, 0.0), (4693, 0.0), (4694, 0.0), (4695, 0.01306192521211711), (4696, 0.0), (4697, 0.011520750928292366), (4698, 0.014953439179560366), (4699, 0.013984001018427691), (4700, 0.0), (4701, 0.014771687334567171), (4702, 0.0), (4703, 0.004587211955173438), (4704, 0.0), (4705, 0.0), (4706, 0.0), (4707, 0.0), (4708, 0.012299398501987073), (4709, 0.005817543379153169), (4710, 0.005409967242149656), (4711, 0.0), (4712, 0.046574868507067255), (4713, 0.0), (4714, 0.0), (4715, 0.004291000091634814), (4716, 0.07057545647241398), (4717, 0.0), (4718, 0.0), (4719, 0.0), (4720, 0.009848443456498792), (4721, 0.005326810134821071), (4722, 0.0), (4723, 0.0), (4724, 0.00527593099592203), (4725, 0.0), (4726, 0.0), (4727, 0.0), (4728, 0.0), (4729, 0.0), (4730, 0.0), (4731, 0.004845814838455955), (4732, 0.0518660008041143), (4733, 0.0035711432678175357), (4734, 0.0), (4735, 0.005064610631617533), (4736, 0.0), (4737, 0.0), (4738, 0.0), (4739, 0.0), (4740, 0.0), (4741, 0.0), (4742, 0.0), (4743, 0.01977283131132054), (4744, 0.0), (4745, 0.0), (4746, 0.014057561101263074), (4747, 0.0049256764602027625), (4748, 0.0), (4749, 0.0), (4750, 0.009367203591727604), (4751, 0.015766430947583124), (4752, 0.0), (4753, 0.0), (4754, 0.0), (4755, 0.008163334051888195), (4756, 0.0), (4757, 0.0044945819146961895), (4758, 0.0), (4759, 0.0)]\n"
          ]
        }
      ]
    },
    {
      "cell_type": "code",
      "source": [
        "len(Recommendation_Score)"
      ],
      "metadata": {
        "colab": {
          "base_uri": "https://localhost:8080/"
        },
        "id": "rBUeWxnMN5ZO",
        "outputId": "201456a8-3695-4337-9dd1-ee1357fac085"
      },
      "execution_count": 29,
      "outputs": [
        {
          "output_type": "execute_result",
          "data": {
            "text/plain": [
              "4760"
            ]
          },
          "metadata": {},
          "execution_count": 29
        }
      ]
    },
    {
      "cell_type": "markdown",
      "source": [],
      "metadata": {
        "id": "MGOfL6AbN_51"
      }
    },
    {
      "cell_type": "markdown",
      "source": [
        "### **Get All Movies Sort Based on Recommendation Score wrt Favorite Movie**"
      ],
      "metadata": {
        "id": "mQ9TngdEN_9l"
      }
    },
    {
      "cell_type": "code",
      "source": [
        "# Sorting the movies based on their similarity score\n",
        "\n",
        "Sorted_Similar_Movies = sorted(Recommendation_Score, key = lambda x:x[1], reverse=True)\n",
        "print(Sorted_Similar_Movies)"
      ],
      "metadata": {
        "colab": {
          "base_uri": "https://localhost:8080/"
        },
        "id": "_Wji57VsOSk5",
        "outputId": "cfa240e9-cb25-4e17-dbd9-91d7cbb112a2"
      },
      "execution_count": 30,
      "outputs": [
        {
          "output_type": "stream",
          "name": "stdout",
          "text": [
            "[(3989, 1.0), (2839, 0.22479914725327887), (746, 0.221279204301072), (558, 0.20895013274975172), (3994, 0.1841607759266293), (1120, 0.16660730214284183), (3484, 0.16372972285631454), (4132, 0.1633032531476331), (2814, 0.15759135207079158), (248, 0.1478589184489257), (3859, 0.14031074026410673), (3193, 0.13843042537626646), (2017, 0.13070926307705857), (1060, 0.12501345216331664), (1542, 0.11609013729059736), (1430, 0.11180456288994299), (4284, 0.10455839546983825), (141, 0.1000275634565395), (1437, 0.09941586160019579), (1217, 0.09880029195081182), (3823, 0.09720201014253985), (2177, 0.09653582146943479), (3380, 0.09573507244328346), (3955, 0.09537176649008605), (245, 0.08999343944940266), (277, 0.08829444928370585), (2857, 0.08813492070321008), (1247, 0.08474018919195266), (2564, 0.08459757605558639), (4567, 0.08385204612973031), (235, 0.08296668799770204), (2828, 0.08279709862100842), (1631, 0.08142174024886947), (253, 0.08027772764150083), (977, 0.08009129447373667), (147, 0.07960799345782325), (4240, 0.07900939821669338), (1210, 0.07830289431418853), (4538, 0.07829507227750523), (2180, 0.07783985458109234), (1468, 0.07776739412293002), (3584, 0.07772873769392503), (2982, 0.07749539020127665), (73, 0.0759570252210831), (3001, 0.0754619537332397), (4285, 0.07541216081245941), (665, 0.07358943612340536), (1082, 0.07243548579996618), (516, 0.07098042064467466), (1969, 0.0708593920043817), (4716, 0.07057545647241398), (4534, 0.07039198334521865), (1810, 0.07019873447929409), (713, 0.06990515894974889), (3332, 0.06891114030916129), (2949, 0.06848485747475573), (3734, 0.06826282696236091), (1095, 0.06810657040269029), (4150, 0.0678995055943702), (1684, 0.06731760146950269), (1671, 0.06718564635286436), (3162, 0.0662836452596577), (1760, 0.06501020308696753), (2030, 0.0648700075776513), (807, 0.06486152746950358), (2069, 0.06456060003781527), (1723, 0.06434138720115976), (3427, 0.06380574706083438), (1555, 0.0638047068372819), (4622, 0.06366936501021127), (242, 0.06357211083842879), (2453, 0.06339820521055431), (4028, 0.06318036391401449), (928, 0.06305642783930498), (3528, 0.06272809314252002), (2116, 0.06269724358392695), (751, 0.062389042640821), (2854, 0.06217300356473227), (2031, 0.061848255154101445), (4109, 0.06161482838395929), (2410, 0.06159257246134335), (1762, 0.06153676967854231), (2818, 0.06143046262869413), (25, 0.06073752901343715), (4094, 0.06017056049100726), (368, 0.05990086932297585), (3601, 0.05987757775733489), (3416, 0.05936762549065213), (2531, 0.05851301836967915), (923, 0.05819042815550408), (4003, 0.05711195265217385), (3497, 0.05696561641014408), (2373, 0.05678937575711984), (1769, 0.0567364814527538), (3135, 0.05659475164379591), (4537, 0.05615241926631737), (3673, 0.055917457030411934), (4056, 0.05584145524970024), (748, 0.05535190830011432), (1627, 0.05478955352887815), (4299, 0.054649908522927323), (3159, 0.054292728795294475), (3334, 0.05335257501559188), (1428, 0.0533325682968296), (819, 0.05321520543324424), (3698, 0.05315230893406832), (1936, 0.05284134273976765), (3835, 0.05284039997322482), (694, 0.05264357931091604), (2496, 0.05261448561087268), (279, 0.05200920196522197), (4732, 0.0518660008041143), (2075, 0.05184996414918904), (39, 0.0516915455699694), (1270, 0.05157857829251045), (3405, 0.051357235919113044), (1849, 0.050897837830100184), (4324, 0.05065965526383715), (1964, 0.050604998935310896), (1351, 0.05054552789612697), (4509, 0.050349949596841706), (127, 0.050341504171173015), (3972, 0.05024461799753683), (4496, 0.050211063882611345), (191, 0.05019800002860295), (2534, 0.050091294788575644), (3141, 0.04981103964496783), (1520, 0.04979648343500928), (1887, 0.04971239986096626), (339, 0.049458632131671496), (3965, 0.04937730993729129), (1405, 0.04935968422749599), (756, 0.04915827787113048), (2808, 0.04909618143646581), (193, 0.049045456930097216), (652, 0.04900512313469971), (2852, 0.048988334318098195), (388, 0.04880739674579621), (1145, 0.04880086024967289), (2294, 0.04850353749232864), (1975, 0.04838954538600634), (4059, 0.04834969031387525), (3550, 0.04828554238542382), (655, 0.048280497580469976), (2611, 0.04816723334454177), (3083, 0.04806191130136325), (460, 0.04792374631228136), (3564, 0.04773714611839241), (4493, 0.04750810108490451), (3893, 0.04739012183435942), (340, 0.04732827354468225), (4576, 0.04676478812457494), (1093, 0.04672932360143083), (2323, 0.04665682559800982), (297, 0.04660207041689474), (301, 0.046595921763981425), (4712, 0.046574868507067255), (19, 0.04655759687001879), (2256, 0.046454121246827934), (298, 0.04601441127304802), (3381, 0.045833955343640966), (91, 0.04577133161850216), (4433, 0.04576751159785317), (2561, 0.045766049597832655), (3, 0.04545138628207828), (4584, 0.045044402907993636), (2659, 0.0448645380034105), (477, 0.04478529108321313), (969, 0.04477487725175402), (46, 0.044750571617911995), (2186, 0.04465438630285201), (4672, 0.044611772320976434), (28, 0.04453912291612348), (689, 0.04449295703631229), (579, 0.044468579946493454), (3155, 0.044167667233727746), (4686, 0.04413502865387519), (1206, 0.04412348929058002), (378, 0.04405546212588048), (855, 0.04391746556589217), (1340, 0.043907314006577325), (610, 0.043796283519061854), (4268, 0.04369041728935545), (630, 0.04368805066804966), (4377, 0.043497506642858626), (195, 0.0434569370404307), (1829, 0.04307325105676989), (2889, 0.042876090716107366), (2312, 0.04267044454919069), (2509, 0.042487245077805734), (3348, 0.04245327554489105), (2562, 0.04227295827829097), (3910, 0.04227046092287694), (3831, 0.04178557392161063), (171, 0.04164064555613645), (4329, 0.041615430861216676), (2432, 0.04158000313091426), (2679, 0.04151048890594584), (1509, 0.04127913751429283), (886, 0.04112613623964207), (2205, 0.04106196749733084), (4598, 0.04056148271525676), (2187, 0.040503266696705176), (3589, 0.04045304675742951), (1662, 0.04020479958536795), (3043, 0.040103963672414616), (1531, 0.03996769276611224), (1041, 0.03945483204354845), (2139, 0.03944897121366065), (129, 0.03920592429077514), (148, 0.039145649219376806), (268, 0.03912557567668641), (4078, 0.03866461994959955), (520, 0.03832929085466558), (1223, 0.03797321148135911), (1198, 0.03792635497583), (557, 0.03786561006903071), (3693, 0.037428591053162964), (4085, 0.03736704945676896), (1699, 0.03732219659557967), (1532, 0.037267007752633974), (1773, 0.037061310667326104), (2680, 0.03686878048775234), (1981, 0.036634286405014566), (2713, 0.03650153614290636), (1944, 0.03643422223990564), (220, 0.03585929396386657), (1881, 0.03584509505594868), (645, 0.035828487338680555), (2537, 0.035761184848615686), (1926, 0.03564681885074489), (1949, 0.03552918448264596), (4180, 0.03545089368622002), (860, 0.035163157375170805), (1605, 0.035126466547778), (124, 0.03512085775367886), (813, 0.03498171806692583), (4160, 0.034920875988660456), (1329, 0.03482576149282525), (3939, 0.034720533666707604), (4267, 0.03443753515529628), (2890, 0.03436851786453074), (3075, 0.03411233160535496), (3553, 0.033965438476537047), (1452, 0.03392098266186751), (837, 0.03372130067789374), (3322, 0.033550759133516905), (4540, 0.033466677639037844), (1710, 0.03342981347075824), (1559, 0.0332879861902534), (3810, 0.03327891891348837), (1663, 0.03324678943030404), (4601, 0.033217969888646476), (1307, 0.03321108244051878), (3746, 0.033023789443893836), (1903, 0.03301305203670992), (3103, 0.03290770415909202), (1282, 0.032867064327689134), (4454, 0.032740306969361956), (4615, 0.032678889915699616), (1339, 0.03267766758364352), (3692, 0.032676586095386456), (2516, 0.03257449156748019), (355, 0.03254175645678494), (4124, 0.03242775131189951), (2963, 0.03240403115135871), (1919, 0.032384363582596006), (3666, 0.03219870899627572), (2021, 0.03208165898970497), (3378, 0.032080508555464946), (971, 0.03205913749195575), (180, 0.03204823130120713), (2894, 0.03196230705902931), (3290, 0.031638197330422876), (2609, 0.03161297913624846), (4323, 0.03158992712188097), (2442, 0.031544826742624904), (3609, 0.03154386501225763), (4563, 0.03152506351218446), (1493, 0.03148615731072709), (1632, 0.031312951859644673), (1510, 0.031306349374216946), (2580, 0.031277006565179594), (1476, 0.03114713458811611), (2345, 0.03089751320970497), (2927, 0.030819936932211384), (814, 0.030807767441089505), (4255, 0.030765116991249848), (4025, 0.030748230782763092), (4128, 0.030631072179738258), (1238, 0.03053376422091386), (3195, 0.030517394823337325), (2158, 0.030394884370999027), (1998, 0.030317383580925752), (3807, 0.03018954378404783), (2639, 0.030163660725903405), (1309, 0.029974766848482555), (3352, 0.029952041884691614), (1420, 0.029833994737467746), (2569, 0.029634481742108098), (1843, 0.0295674122580605), (2493, 0.02950153552371363), (3129, 0.029443919961636457), (1568, 0.029285955375047936), (234, 0.029191814953028566), (2227, 0.029186011767801064), (3392, 0.029147825963300716), (598, 0.029019700684828877), (1939, 0.028986599270820826), (4259, 0.028956324855632216), (1255, 0.028835875583959565), (3286, 0.028775342938553092), (3697, 0.028719060075331915), (2571, 0.028635036925731452), (1207, 0.028618254052140923), (236, 0.02850698236815016), (2859, 0.028433408996530362), (3947, 0.02836412124488819), (3899, 0.02827576093684916), (690, 0.028236596881957822), (4591, 0.028225910420691582), (380, 0.028197198271858313), (3600, 0.028085284868488783), (1620, 0.028043099949037406), (1590, 0.0279803137105075), (1569, 0.02796524752206993), (2188, 0.0279433449816915), (1778, 0.02793449895989024), (700, 0.027903433077458628), (2459, 0.027868794508438332), (3695, 0.027818366678337373), (3311, 0.027809913561941853), (2129, 0.02778965035841277), (1318, 0.02777753488323024), (570, 0.027678935436709674), (2005, 0.027644061978557063), (2065, 0.027620445209280434), (3661, 0.02734682149296714), (2990, 0.027280047556379316), (4174, 0.027279761645406426), (1250, 0.02724464713390602), (4173, 0.02721116815131132), (2940, 0.0271836371223773), (218, 0.027058504631811232), (17, 0.027016368286885212), (1489, 0.026943244974979165), (4488, 0.026885065224367857), (1697, 0.026833382659507996), (436, 0.026827285425579283), (166, 0.026802582423886757), (2922, 0.026802151966332764), (2426, 0.026714307923124892), (2977, 0.026691910056454896), (3744, 0.026581842325464462), (204, 0.026570359303294575), (967, 0.0264730708024688), (3790, 0.026434119211259082), (3855, 0.026428019232395322), (4162, 0.02635362744436188), (2975, 0.026348071871750974), (3703, 0.026212912345445916), (876, 0.026134388945055907), (3821, 0.02612068271129705), (3333, 0.02608617752587489), (2824, 0.026042243081633186), (3632, 0.025995878277366925), (512, 0.02596022062944927), (259, 0.025919445832386024), (1148, 0.025851676995461047), (1450, 0.025844851331777923), (1831, 0.025775441150495824), (2435, 0.025742101482799984), (1549, 0.02571462957302729), (2903, 0.025676881490277158), (3012, 0.025670447715669707), (1548, 0.02565141025111023), (3244, 0.02547750053624322), (1295, 0.025424282282309613), (687, 0.02540285188513601), (779, 0.025398750667460876), (2667, 0.025367678805773924), (1960, 0.025350822651635706), (2581, 0.02532338062327556), (4636, 0.025291208553704928), (488, 0.025214998256464526), (1901, 0.025155033537646844), (2526, 0.02515395255578541), (247, 0.02514671849288335), (223, 0.025102859127978872), (2923, 0.02508333002483172), (4375, 0.024921844850273604), (3163, 0.024921363991258792), (4121, 0.024842177092743715), (3733, 0.0248279924383088), (402, 0.024704088336309), (2572, 0.024694177598169113), (4550, 0.024655602338120485), (1455, 0.024514992527180188), (3562, 0.02449733034995207), (3196, 0.02449235150268379), (4431, 0.024486435150168313), (4525, 0.02447810131458378), (307, 0.024452316937922373), (179, 0.0244460850683017), (3438, 0.024443422323285616), (1012, 0.02431493229042054), (3892, 0.02420086766129946), (3387, 0.024119590581448205), (2959, 0.024103707184156865), (875, 0.02397242753289819), (43, 0.02392783538992128), (2474, 0.023895965462187415), (1967, 0.02384458427106873), (34, 0.02382539980712856), (678, 0.023811249346955235), (3124, 0.023771663745815217), (513, 0.02374335505230045), (514, 0.023686524491797218), (3156, 0.023640359034696985), (2895, 0.023577996342295085), (210, 0.023540000475191867), (6, 0.02350018229112664), (338, 0.02342547246314039), (379, 0.023421780757519807), (3782, 0.02339583848271254), (1143, 0.02334541738312308), (1141, 0.023341748267246096), (337, 0.023304001046871574), (2281, 0.02329912289330266), (2560, 0.023258293456918988), (957, 0.023223197789040532), (964, 0.02318549672293242), (2689, 0.023153529554694977), (711, 0.02313771183773428), (2707, 0.02311878388615608), (4526, 0.023113737798850887), (3670, 0.023092257009161996), (4418, 0.02306500707569283), (1748, 0.0230623748253029), (3992, 0.02290693329385336), (2851, 0.022904723541876944), (4430, 0.02286821597710632), (2121, 0.022827441852187297), (1758, 0.02277796513786974), (2884, 0.022739098454548867), (4379, 0.022630207350696593), (882, 0.022544553907650165), (2218, 0.022529050881049326), (3602, 0.02251323917053969), (4376, 0.022393311379420522), (2165, 0.02235274562353911), (2784, 0.02232484996898308), (2623, 0.022299662186093236), (1784, 0.02228784724900707), (3207, 0.02226939237131999), (1844, 0.022248554891368386), (2532, 0.02223783271058837), (4170, 0.02222590038785649), (4216, 0.02212724084544699), (3582, 0.02205735437841001), (4535, 0.02204744099106924), (4658, 0.022012304916757368), (4401, 0.02200802518229112), (1191, 0.021927964877345336), (2378, 0.021908873097144007), (931, 0.021826744560463743), (1360, 0.0218228653130977), (4122, 0.021810572738987472), (1995, 0.021790443386411295), (4589, 0.021789904415643702), (3026, 0.021763132037953974), (1766, 0.02173691953214621), (1426, 0.02172769445788622), (2588, 0.021706123277092107), (177, 0.02168103895743868), (1483, 0.02167241138227484), (3613, 0.02166139655861677), (233, 0.021557116741580017), (4256, 0.021504814449142505), (2797, 0.021495532800128683), (3814, 0.02148356020836289), (3437, 0.021469356119408627), (1578, 0.021343446037438152), (58, 0.021325119206680617), (4086, 0.021315474483773817), (1107, 0.0213030920508554), (3271, 0.021283734249153644), (313, 0.02125364803240251), (3206, 0.021248070637093223), (329, 0.021188265573223695), (3919, 0.021184104371375342), (1006, 0.021171604515134546), (1708, 0.021156693132715135), (3871, 0.02115100911532171), (2661, 0.021145913491323876), (1789, 0.021142949683414947), (87, 0.021084951930077568), (1409, 0.021073428721452046), (4176, 0.021053650625716548), (4251, 0.02102576674606224), (3911, 0.020984960398039182), (3987, 0.020979820951802394), (2740, 0.020961038303841054), (74, 0.02094960282636669), (2499, 0.02094354437881438), (4422, 0.020941655695312273), (740, 0.020894204084247858), (3605, 0.020880243780976075), (3464, 0.02087645371720769), (4613, 0.020852585313754904), (4388, 0.020839600889209157), (1001, 0.020816936786417266), (2878, 0.02076437235323609), (795, 0.020757043885239093), (1930, 0.02073169877727931), (3705, 0.020718686305189353), (2751, 0.020712530171700723), (3969, 0.020693499605432118), (3857, 0.020677317474163102), (1193, 0.02064104966168788), (592, 0.02058238446199396), (1169, 0.02055372805794977), (3335, 0.020475145034155002), (4266, 0.020448645956638745), (2739, 0.02043002600915662), (993, 0.020413899763643228), (1512, 0.02039686100854727), (1765, 0.020372985712201537), (4334, 0.0203589808493398), (151, 0.020348071977201728), (708, 0.02032311904820668), (1433, 0.02032033472458885), (1905, 0.020296338734376283), (2354, 0.020285063549487913), (2431, 0.020273279282540867), (2804, 0.020271057799428057), (3106, 0.020200690255724792), (1857, 0.0201894991371034), (1517, 0.020175765589380605), (3518, 0.020170827688348953), (3597, 0.0201596294721785), (304, 0.020136993096571798), (2510, 0.02013149984298824), (3251, 0.020115349849860093), (850, 0.020053331641448072), (3184, 0.019995494818535655), (1105, 0.019990538897863078), (1100, 0.01992947591267708), (4111, 0.019929380360879885), (2138, 0.01990447748259691), (3685, 0.019880610473435097), (3046, 0.019875713080198185), (258, 0.019832460519152908), (4289, 0.019814442608673846), (3434, 0.019805530034475338), (792, 0.01980294253745934), (4743, 0.01977283131132054), (4640, 0.01973448766025643), (2081, 0.019718894401322844), (272, 0.01969216977229718), (1134, 0.019688062589457423), (4291, 0.019670443804196008), (3346, 0.0196456952115149), (1638, 0.01962165918935678), (3305, 0.019617648568498073), (344, 0.01957987544203381), (4344, 0.019572281916710108), (1102, 0.01954992957629923), (1240, 0.019463368581763934), (50, 0.0194528727758786), (133, 0.01944001805081009), (723, 0.019382973567520438), (639, 0.019334227640896148), (2511, 0.019296575253882134), (150, 0.019282391323349038), (539, 0.0192755437147393), (1842, 0.0192730431793562), (2233, 0.019272469187958597), (2763, 0.01923710183241375), (567, 0.019208764163954162), (1422, 0.019179095359572487), (1029, 0.019176731013853622), (3232, 0.019096733252058497), (887, 0.01909560500188397), (1267, 0.019042103651105632), (4210, 0.01888286571146039), (692, 0.01887777690924855), (1673, 0.018865737078022787), (798, 0.018797867529831314), (568, 0.018795057215879724), (848, 0.018774835589547654), (2697, 0.018744449609830738), (324, 0.018677786881422964), (511, 0.01867757133163133), (749, 0.01862774494198221), (299, 0.0186135496978671), (1032, 0.01860494749798936), (3194, 0.018592411065515135), (968, 0.018577362749382518), (2225, 0.018561206398212272), (2202, 0.018557215539432688), (3570, 0.01850007964002356), (656, 0.018450246415162994), (1216, 0.018376155413501013), (583, 0.01837120624009641), (797, 0.01832830591574993), (2601, 0.01831522829054851), (877, 0.01831041604915256), (710, 0.018299537911724183), (0, 0.01827715015178581), (515, 0.018266488604150314), (1291, 0.018246286871453847), (1477, 0.018168682673759894), (4108, 0.018158643306649788), (2482, 0.018156728393735624), (2185, 0.018154301363434027), (1771, 0.018149961785534165), (2574, 0.018147250786232378), (2845, 0.018130322099152826), (1382, 0.01812708358176639), (1244, 0.018114738298808938), (1870, 0.018112312104885668), (954, 0.018111548948453092), (730, 0.01808297305734508), (3531, 0.01805671354337638), (345, 0.018042977965333107), (3281, 0.018027484300652385), (3028, 0.017990058997141792), (3688, 0.01798158367418574), (2200, 0.01794643963295637), (2642, 0.01793624754436781), (1137, 0.017932831387976484), (1495, 0.017867099727143922), (1285, 0.01782328307710568), (2101, 0.017758763361608), (300, 0.01773603791896926), (209, 0.017720953027701766), (1273, 0.01771771125287249), (3700, 0.017683021149029754), (104, 0.017672734744762535), (2591, 0.0176721867073277), (4415, 0.01762231750229421), (266, 0.01761731610749035), (1269, 0.017533544491383113), (1682, 0.017470062703663476), (2552, 0.017405294785748045), (2825, 0.017349019554326363), (1205, 0.017267098062224668), (2777, 0.017225783150098786), (2698, 0.01711058465990371), (1957, 0.017024804747765084), (4134, 0.017008970215441656), (726, 0.01694456182586835), (3953, 0.01693843842821826), (2167, 0.01687565148423678), (1034, 0.016818221167609525), (699, 0.016741592326676207), (4304, 0.016708506595984322), (1004, 0.016686357888791182), (1156, 0.016635766763381084), (2166, 0.01653946049286576), (2876, 0.01645150636374666), (2433, 0.016302677241594808), (1571, 0.01628562917153981), (1357, 0.01618408742596132), (3975, 0.01615491143164805), (2503, 0.016092277109331768), (2270, 0.016085034916089525), (4186, 0.016076046457673642), (958, 0.01605186520793082), (1730, 0.01601094451796108), (2255, 0.015990428075186545), (1833, 0.01594112950583878), (1485, 0.0158445096123418), (2376, 0.015817540662673327), (4074, 0.01580444573037417), (4646, 0.015802434716092936), (4751, 0.015766430947583124), (1813, 0.01575510986647712), (664, 0.015742293908257363), (1025, 0.015649933910436595), (607, 0.015615372347813804), (106, 0.01559958341597869), (3844, 0.015531245046414625), (836, 0.015482124081238821), (2690, 0.015410232820311754), (3751, 0.01530139966905782), (3250, 0.015219976485018247), (156, 0.015123286848282583), (3942, 0.015118694314810548), (364, 0.015108564309385576), (4518, 0.015045671807240642), (3575, 0.015039906861137544), (2168, 0.015028188986532947), (3502, 0.015001615007145093), (4698, 0.014953439179560366), (82, 0.014947937248002629), (3901, 0.014947248222373997), (3429, 0.014850309380569537), (175, 0.01482931597333889), (2114, 0.01478499272273929), (4701, 0.014771687334567171), (1343, 0.014733623508423353), (3535, 0.014676207859589282), (2273, 0.01462866872283566), (1968, 0.014555190781468833), (4412, 0.01451861266950475), (2844, 0.01450451846312427), (1940, 0.014485672759243583), (3068, 0.014420296038828335), (108, 0.014417848973297426), (3440, 0.014400376990754585), (4331, 0.014276635676552248), (3875, 0.014274366737219792), (4527, 0.014251007786943798), (2608, 0.014213706924598257), (4746, 0.014057561101263074), (4389, 0.014042677249645898), (4699, 0.013984001018427691), (3470, 0.0139116974564812), (4630, 0.01389907911264198), (2683, 0.013882714432522906), (1565, 0.013871267336506427), (1158, 0.013847177826923737), (1391, 0.013827340211097468), (4120, 0.013815256953961803), (1962, 0.01380724058524493), (4593, 0.013781811952950874), (1498, 0.01377910287978633), (2733, 0.01376773828002818), (4337, 0.013761716424172333), (4227, 0.013682080237807023), (2314, 0.013634317391780398), (450, 0.013599863831309837), (1167, 0.013578447462344658), (3802, 0.013571262074294817), (2229, 0.013544640648835723), (4133, 0.013514350067389427), (3516, 0.013479411089415565), (303, 0.013449278947332922), (3938, 0.013438287621140394), (4595, 0.01341111882266207), (952, 0.013397840214666452), (2599, 0.013395667424537875), (3086, 0.013388902770998965), (4090, 0.013355401811190451), (1661, 0.013346702729565063), (341, 0.013345113790617966), (1724, 0.013345026945461858), (420, 0.013327370842027682), (3768, 0.013318081996819386), (991, 0.01330411909031642), (3131, 0.013260015978001269), (1614, 0.013258937955324308), (1119, 0.013232728089787989), (2630, 0.013200447445285403), (2636, 0.013184804713901618), (1407, 0.013171222896907125), (239, 0.013146352878476717), (1904, 0.013107278870176854), (1278, 0.013091420330012635), (1859, 0.01306898406278338), (4695, 0.01306192521211711), (4392, 0.013050927158835806), (1449, 0.013047947984485189), (1104, 0.013045333223520389), (1643, 0.013011994258805707), (1192, 0.012985587009571434), (4639, 0.012968994469210706), (3769, 0.012958948986441978), (4621, 0.012951407656837638), (580, 0.012951298343916395), (1588, 0.012950130430105986), (3488, 0.012921145063500953), (3995, 0.012849763137252711), (4552, 0.012846812706582174), (1469, 0.012830861649608507), (3398, 0.012782545957775594), (3191, 0.012759687118099557), (3446, 0.012728614185355876), (3179, 0.012726648192541046), (509, 0.012710359304005135), (1431, 0.012691325936874751), (1003, 0.012668537926689104), (3815, 0.012636115504968085), (1970, 0.01262789981438766), (2295, 0.0125911183284933), (3576, 0.012587944428216266), (3833, 0.012586697113232667), (2278, 0.012573770241541236), (811, 0.0125654267533237), (2991, 0.012559115139783179), (3005, 0.012526922996827276), (1985, 0.012523848770349911), (4517, 0.012469035090269656), (2284, 0.012460937321212825), (4360, 0.012460186020208965), (451, 0.012447601973252983), (1873, 0.012406332471340145), (2246, 0.012370776557305493), (3330, 0.012351856762996835), (4623, 0.012349311080500865), (619, 0.012336623257423254), (4654, 0.01230499279930109), (4708, 0.012299398501987073), (4665, 0.01229255441499132), (2480, 0.012287540629208896), (1852, 0.012222167326754938), (1272, 0.012211854341035215), (1573, 0.012210092267541193), (1927, 0.012209961103028924), (3793, 0.012184454866630764), (1622, 0.01218337567726301), (1551, 0.0121813783682586), (634, 0.01217545454256978), (1635, 0.012155027078432704), (633, 0.01214201052854702), (1933, 0.012081235355593262), (2759, 0.012076967692546011), (2178, 0.012055441690636763), (1953, 0.01204251157095046), (3583, 0.012034508110174136), (273, 0.012027312315293054), (2057, 0.012019643376963096), (2062, 0.012001018412401181), (1146, 0.011983838482921913), (1347, 0.011971421253123195), (2245, 0.01197102536419159), (3720, 0.011960581923264432), (1864, 0.01192085012197679), (3487, 0.011916486153864397), (3664, 0.011913336336863613), (1996, 0.011908882905744291), (3886, 0.011902872312336894), (3126, 0.01186939387532842), (3970, 0.011853986587143598), (1633, 0.011842754539221035), (4614, 0.011838535695100284), (1993, 0.011833555235948711), (3824, 0.011829389961572819), (3122, 0.011823563839239139), (3881, 0.011819435569821145), (2618, 0.01180407722021732), (2736, 0.011801403981818517), (4607, 0.011782593963089906), (4441, 0.011773526246720841), (1630, 0.011760104585515279), (1211, 0.011744050634820785), (2094, 0.011728481336545984), (3853, 0.011702850144087389), (1177, 0.011675245595999174), (3433, 0.011670162133465972), (2899, 0.011650922502988999), (1914, 0.011648231634545097), (1451, 0.011641911368511696), (4548, 0.011618250648769455), (4585, 0.011597331052113134), (3788, 0.01158549303228587), (963, 0.011585429908777947), (810, 0.011579652227531136), (1992, 0.011578958225272891), (2682, 0.01156353104937961), (3338, 0.011546961898640991), (1819, 0.011546801679704548), (3328, 0.011543172076640722), (4697, 0.011520750928292366), (1480, 0.011520032348077561), (3118, 0.011501574030969441), (1562, 0.01148004932654495), (1623, 0.01147692585597234), (240, 0.011471971640427774), (744, 0.011461854476240218), (4165, 0.011429599830232414), (1667, 0.011422462605233146), (1197, 0.011395618071942407), (2984, 0.011378904056021702), (2110, 0.011371714748010395), (160, 0.011360341064125973), (354, 0.011342177381437375), (4618, 0.011335271728737504), (291, 0.011297290522930617), (1990, 0.01129169989810741), (1840, 0.011276791370643182), (4193, 0.011271366338580406), (3474, 0.011262082127063495), (4044, 0.011245643312408325), (1595, 0.011216259332148548), (4239, 0.011210116931869093), (1220, 0.011186460465726333), (4290, 0.011186292941610169), (893, 0.011176045108100318), (898, 0.011165068682863051), (334, 0.011152470574238517), (4366, 0.011144097800322196), (1817, 0.011122721829376576), (4106, 0.011096250027514857), (932, 0.011079383647417312), (4582, 0.01105535970000884), (2929, 0.01105398236772873), (559, 0.011041920646841842), (3495, 0.011020980014643545), (2871, 0.01102039162744586), (979, 0.010959558046826101), (2074, 0.010941656768854632), (2617, 0.01092731151568853), (222, 0.010908764439524548), (3160, 0.010886844894120035), (3619, 0.010874013438463673), (1925, 0.010819544420083411), (3852, 0.010799254222101547), (99, 0.010718977335879773), (4426, 0.010694131854313048), (1838, 0.010681017791003113), (3702, 0.01065898020938962), (1753, 0.010653546349350961), (4158, 0.010641909077557982), (2801, 0.010631940947602924), (3279, 0.010620317166971559), (3439, 0.010524390478853752), (2541, 0.010517636964934489), (1202, 0.010512926530581723), (970, 0.010471601982818277), (4040, 0.010470366829499873), (617, 0.010464189083251784), (1279, 0.010435033037440726), (4513, 0.010252540434300076), (4302, 0.01019792308042946), (2573, 0.010159536963177354), (4271, 0.010040226322384169), (3944, 0.009990739529629786), (953, 0.009979153544394269), (1395, 0.009976527483658808), (4674, 0.0099545277834209), (2966, 0.009863918912978617), (3471, 0.00985456730146906), (4720, 0.009848443456498792), (2837, 0.00977523389355322), (4539, 0.009732478642226388), (3758, 0.009704591686846592), (4645, 0.009613596304581164), (4449, 0.009520645782988129), (950, 0.009480067367752764), (3547, 0.009423926675824226), (4316, 0.009387466457626564), (4750, 0.009367203591727604), (77, 0.009341054173476596), (925, 0.00932986320286197), (2785, 0.00929020660425635), (2952, 0.00928623787885956), (739, 0.009258930205590338), (2357, 0.009211576214403284), (2400, 0.009177485385705553), (839, 0.009167437640182758), (1560, 0.009143609476968365), (2921, 0.00907928339364739), (2115, 0.00906596182215792), (4549, 0.0090012573630845), (3679, 0.008994888893629089), (100, 0.00887434900807175), (4226, 0.008870660378254255), (3959, 0.00886581564037397), (1056, 0.008828248309264848), (1265, 0.00881882000828818), (2979, 0.00881548992423497), (1511, 0.00881097264072897), (3092, 0.008765844530818443), (1907, 0.008734024489694578), (430, 0.008733436416004292), (4288, 0.008708819793386216), (1057, 0.008706488420583452), (4167, 0.008704225027549427), (1153, 0.00868996417758875), (3235, 0.008649944911013072), (1031, 0.008627100993305178), (960, 0.008611498615830614), (3724, 0.0086036147879726), (3401, 0.008600532982381063), (1116, 0.008596035839150933), (3048, 0.008595226552674556), (275, 0.008580613031071598), (415, 0.008570384486808729), (1916, 0.008550605550225505), (1189, 0.008529568372963934), (1835, 0.00851366190668167), (1271, 0.008513329923967947), (1233, 0.008501709203048522), (3456, 0.008464764818087635), (1534, 0.00844454924557907), (1536, 0.008437686645564407), (517, 0.008432214171778986), (2194, 0.008415553075700912), (1636, 0.00836020129804262), (3530, 0.008318039585959225), (3445, 0.008309886417886969), (3522, 0.008304447280297557), (4404, 0.008289882396274602), (2073, 0.008269625973451801), (1900, 0.008241189375476334), (2685, 0.00823472029878061), (3386, 0.008221572352125518), (4149, 0.008203352782570087), (3002, 0.008199923666914214), (4583, 0.00819817646050483), (1515, 0.008166977743587347), (4755, 0.008163334051888195), (552, 0.008147515372313438), (4683, 0.008141433346179004), (2443, 0.0081397241355974), (2793, 0.008138076198102138), (265, 0.008133203837230863), (4006, 0.008109327542966109), (1378, 0.008107215826297906), (2773, 0.008100783975169492), (1163, 0.008099806009973641), (439, 0.008066354646636449), (4188, 0.008062153221537026), (331, 0.008058880703760058), (834, 0.008048044356251657), (4278, 0.008044920836857185), (1891, 0.008043703585236432), (1634, 0.00804206168799052), (1239, 0.008040397875161791), (81, 0.008039430743276071), (4542, 0.008022240787136864), (4668, 0.00799512007426692), (2498, 0.007992521377433101), (1097, 0.007957571653142509), (4029, 0.007951767217619799), (4157, 0.007951406066729864), (1882, 0.00795009187722853), (3580, 0.007949731699652157), (4352, 0.007928543427916282), (4664, 0.007900599832252065), (1315, 0.007892486740292795), (1966, 0.007884392107549213), (556, 0.0078435195746214), (2056, 0.007819062865686222), (3872, 0.007818943950003689), (1287, 0.007817589174033643), (4459, 0.007806079760886939), (2369, 0.0077918355594948216), (2829, 0.0077739626520740715), (4434, 0.0077728667770265705), (1825, 0.007761725448870148), (3985, 0.007756769590212599), (3105, 0.007748122317609509), (1218, 0.007740695318108804), (2865, 0.007739118315843184), (2644, 0.007720724007081055), (1274, 0.007705837244507163), (3023, 0.00767691370784502), (835, 0.007671879035856471), (1647, 0.007670099336937246), (3021, 0.007657911705591716), (1756, 0.007651650226878909), (3325, 0.007646802428582152), (1824, 0.007627127746212389), (3320, 0.007620935245704983), (311, 0.0076159827941198925), (4159, 0.007604496709436595), (1556, 0.007599837473859341), (833, 0.007593794682969453), (1899, 0.007564336756475607), (1649, 0.007562044878176612), (3280, 0.007554354981585408), (2827, 0.007548031299721754), (1135, 0.007529644921496898), (3114, 0.007501129674500772), (770, 0.007494493916856722), (2497, 0.00749396855568634), (4063, 0.007488258958012347), (1081, 0.007465183593929554), (411, 0.007447678459073491), (359, 0.007446362709711805), (1794, 0.007424665825464692), (3738, 0.007421722741996999), (2835, 0.0074151120210486764), (776, 0.007405818118928573), (3130, 0.007402351343368065), (3278, 0.007378027788652234), (352, 0.007374753605360755), (2596, 0.00737316235249821), (1795, 0.007336837457961816), (2906, 0.0071435736482426395), (3411, 0.007118908286728892), (4532, 0.0071027444331573375), (2059, 0.007076604554504971), (3394, 0.007076308224193537), (4385, 0.007062339923324259), (376, 0.007048453605297662), (2686, 0.007011666160887952), (1863, 0.0070076901476914906), (1745, 0.006945043999867748), (3731, 0.006919743126059435), (2152, 0.0069000130141519175), (4565, 0.006846272271651781), (1535, 0.006823000946300241), (1342, 0.0067756906514228905), (3940, 0.00668984635647204), (2439, 0.006661792999759537), (3480, 0.006653161965643074), (163, 0.006586241007815193), (506, 0.006575503457728474), (4626, 0.006560188943544654), (3971, 0.0065435629198388546), (3185, 0.006494234765681147), (453, 0.006204591880047413), (4414, 0.0061494990659744595), (414, 0.00609327003116349), (2768, 0.0060839263208585384), (996, 0.006039425179296736), (4709, 0.005817543379153169), (4691, 0.005797250159407697), (2275, 0.0057959810368778805), (4666, 0.0057943398988245095), (3635, 0.005786538645274223), (947, 0.005773366411467995), (3721, 0.0056777255663057885), (2655, 0.005671902249773392), (2932, 0.005658793837130124), (4444, 0.0056065099328127125), (4546, 0.005532291644691143), (3715, 0.005522797778020218), (2645, 0.005508102902857782), (4219, 0.005502111593297254), (2154, 0.005482179989090376), (4403, 0.0054551344728869765), (4464, 0.005441959301326252), (3828, 0.005412855792290735), (4710, 0.005409967242149656), (4047, 0.00540961493026446), (2795, 0.005405030381172597), (4208, 0.00535541542837716), (3638, 0.005336136405330704), (2939, 0.005330576321658043), (4612, 0.0053281439351933356), (4721, 0.005326810134821071), (4242, 0.005317106830429207), (3049, 0.0053141434084538015), (2660, 0.005298334234320453), (4660, 0.005277710287952445), (4724, 0.00527593099592203), (670, 0.0052745629655817925), (3521, 0.00527270610905646), (3588, 0.005258543464121511), (2328, 0.005253080631036034), (1058, 0.005245914036698378), (4443, 0.0052430435146457515), (3154, 0.005238432500056088), (842, 0.005233318986998171), (4653, 0.005232819442648836), (3123, 0.005220498466726508), (2879, 0.005212324553898949), (3228, 0.005194044675807177), (3448, 0.0051919903338237), (1064, 0.005185315202035262), (4514, 0.00517691001412644), (2778, 0.005175216462575613), (2727, 0.005147793579639875), (1429, 0.005145263262766208), (1941, 0.005122592388311031), (4524, 0.005107413348240807), (3766, 0.005103985443939087), (3675, 0.005101894950449786), (4554, 0.005087581634142536), (2567, 0.0050788931005694305), (4637, 0.005078600114918775), (4490, 0.005075704293902755), (4735, 0.005064610631617533), (4642, 0.005050893973140307), (904, 0.005038156540044478), (2089, 0.005029140635003499), (2406, 0.005027331523786055), (3384, 0.005017690427286379), (3377, 0.005008285315811855), (3275, 0.005002401989998062), (2468, 0.005000734113623963), (937, 0.005000385234604993), (3019, 0.00498240765885575), (3022, 0.004979158829294964), (3741, 0.004971577644232525), (2427, 0.004971470719330048), (3312, 0.004971082361486193), (3450, 0.004970735289036795), (4163, 0.004962111411262139), (753, 0.004961338905234215), (1591, 0.004956827088973377), (1815, 0.00495442976099569), (905, 0.004950991207656569), (443, 0.004950349396888941), (4281, 0.0049466413747985), (3708, 0.004941657221674668), (1275, 0.004938442934512223), (4747, 0.0049256764602027625), (2012, 0.004922044457062057), (1381, 0.004911501875836418), (760, 0.004909883617143766), (3117, 0.004906506873823599), (4244, 0.004903204763894444), (125, 0.004899745049422544), (1924, 0.004889606384966723), (2486, 0.004886580172248467), (1184, 0.0048827036704001195), (3883, 0.004878656057497806), (537, 0.004871821758667682), (2555, 0.0048670112009573776), (2476, 0.0048666326012882285), (2638, 0.004862901729019997), (1713, 0.004860012457557029), (424, 0.0048596088772718685), (2181, 0.00485806853390395), (425, 0.0048553926260808495), (107, 0.004854174240610125), (3960, 0.004852142898287675), (2881, 0.004847329830941793), (4731, 0.004845814838455955), (4092, 0.004843464409483186), (2576, 0.004841918237303159), (3680, 0.004839796941480996), (4462, 0.004836671239756102), (4494, 0.004835102762304515), (207, 0.004834281245545942), (1383, 0.004831339038747961), (89, 0.00482573369181349), (3168, 0.00481937635740108), (666, 0.004816159000060905), (2066, 0.004814743505455943), (3110, 0.004814702405120495), (533, 0.00481387725289272), (682, 0.0048135482521477774), (2700, 0.004808094460396213), (4307, 0.004805213730987229), (1716, 0.004799939008471866), (3158, 0.004797001668224551), (3385, 0.004796881414345721), (4512, 0.0047956048722892644), (3032, 0.004790666779112928), (250, 0.004789238176152681), (1976, 0.004781155743083572), (701, 0.004777617589281864), (458, 0.004775602202842902), (2840, 0.004773510001985872), (3640, 0.0047731449943896245), (729, 0.004772636052458439), (4043, 0.004770507706212141), (1332, 0.004768602534421885), (4515, 0.004762596230349105), (3180, 0.004761617602158282), (2383, 0.004758858711994005), (4119, 0.004756941882532092), (128, 0.004748057806848309), (888, 0.004743485100435276), (4531, 0.004743205316837704), (688, 0.0047412104922955325), (3797, 0.004736180738496667), (2231, 0.004729634772577804), (3652, 0.004729114595122332), (2040, 0.004728345052023782), (4050, 0.004727899997938882), (550, 0.004727421723059661), (3961, 0.004724024044479529), (2112, 0.004723879578825684), (2428, 0.0047233005153693945), (48, 0.004715873022396228), (1554, 0.004712245155032583), (2996, 0.004710075268254388), (371, 0.004709622480679749), (595, 0.004707061373591322), (4091, 0.004702730984245158), (1454, 0.004700976044690233), (3604, 0.004700912787535924), (69, 0.004699405940273489), (1681, 0.0046988533385704636), (2626, 0.004697268978089271), (4046, 0.004691991559653079), (1799, 0.004687596311411933), (3787, 0.0046856467949177244), (802, 0.004683071915777043), (70, 0.0046812280615607695), (102, 0.004675910627071556), (896, 0.004675541921340167), (1866, 0.004673384895720833), (635, 0.004672763772110716), (673, 0.004670554497155882), (1162, 0.004669380848839822), (675, 0.004667448889537904), (4116, 0.0046661269272458925), (3659, 0.004664663826530676), (2037, 0.004664284138706519), (4522, 0.004664191176216), (3263, 0.004662643066555877), (4669, 0.004661447767393151), (4013, 0.0046597271622042784), (350, 0.004659421249823533), (481, 0.00465448678249378), (2978, 0.004653800469282605), (2214, 0.0046535019246041545), (1997, 0.004650028234435912), (3642, 0.004641141950632752), (1897, 0.004640519119119644), (1325, 0.004638967193682316), (2136, 0.004638562536426745), (3771, 0.004635729802159597), (3694, 0.004631898950637805), (1015, 0.004626515830731482), (3704, 0.004625150659719025), (2477, 0.004624167318210285), (2084, 0.004618986926899207), (1150, 0.004616311336306978), (728, 0.004616215969514599), (4436, 0.004615145614614069), (4579, 0.004613260720582913), (3468, 0.004612710189568652), (2252, 0.004611419634606104), (4076, 0.004610834194167772), (1952, 0.004608782443031104), (3112, 0.004602285668461362), (4312, 0.004598325387263095), (3095, 0.00459494852449755), (2254, 0.004592804961602912), (3451, 0.004587411908801168), (4703, 0.004587211955173438), (3774, 0.00458305746913782), (1140, 0.004582656171138519), (1575, 0.004582614309818449), (1537, 0.004582255721018308), (992, 0.004578789751377816), (21, 0.00457692610568047), (4038, 0.004575635391881658), (1732, 0.004574380607856771), (3850, 0.004573922527605255), (4005, 0.004573265466585441), (1812, 0.004572026938414092), (2104, 0.004570861117736128), (3780, 0.004569809887960587), (1071, 0.004567374695415012), (4231, 0.0045655734047349815), (1659, 0.004561938696375804), (2096, 0.004561879712807231), (2522, 0.004561462048493095), (2283, 0.00456104486797692), (1280, 0.004557496169434692), (1779, 0.004556723516632779), (1791, 0.004556423472282653), (3997, 0.004556412663322917), (3710, 0.00455008933169922), (622, 0.004547819647503999), (2044, 0.0045461949738764456), (493, 0.0045442068865409755), (208, 0.004543873345177725), (930, 0.004542799964987377), (4510, 0.0045427486588356806), (68, 0.0045391156262702), (1099, 0.004538359861055367), (1687, 0.0045379006206514895), (3897, 0.004537812243067177), (3618, 0.004536699470227584), (2208, 0.004536235388174056), (2819, 0.004533934470111492), (4384, 0.004533199738979324), (3483, 0.0045315673764112635), (1853, 0.004530278145125195), (2714, 0.0045296325283706584), (4265, 0.0045295331725792596), (1436, 0.004528492688542375), (1484, 0.004527338210496377), (418, 0.004527140472050833), (2196, 0.00452604098150587), (2330, 0.004525190078817748), (765, 0.004523323362925811), (3777, 0.004522063496154934), (1918, 0.00452083210796263), (3747, 0.004520430777501427), (1502, 0.004519695198160797), (4123, 0.0045190845696677475), (1225, 0.004515111187720509), (470, 0.004514003781160259), (1380, 0.004513785328436841), (1400, 0.004511550211665638), (976, 0.004511073504162053), (654, 0.004510938305571598), (1185, 0.0045091401185060566), (891, 0.004508377333488921), (4474, 0.0045064515645080756), (51, 0.004503018663338112), (2790, 0.004500027067043494), (667, 0.0044997563569953445), (523, 0.004499093771720121), (1902, 0.004498680273771765), (4757, 0.0044945819146961895), (4178, 0.004494040234973146), (1188, 0.004492252497317067), (2413, 0.004489436243207175), (716, 0.004488122132447758), (4624, 0.004488030188254727), (320, 0.004486913507135762), (429, 0.004485511618829406), (3513, 0.004484224085489255), (2088, 0.004484140510171078), (255, 0.004481826528638453), (845, 0.004480720690307832), (502, 0.004480640089487401), (1396, 0.004475889118402735), (660, 0.004470758717295325), (3862, 0.0044699682580571325), (2015, 0.004469107161152857), (1229, 0.004468254525936957), (3514, 0.00446813141671525), (1224, 0.004467714937818328), (482, 0.004467295620598111), (3134, 0.00446704862609116), (201, 0.004465414322611181), (879, 0.004465212544740813), (4629, 0.004464812621921133), (1047, 0.004459224347852494), (1432, 0.004458222982469737), (1024, 0.004457714161281243), (543, 0.004457633615846452), (1983, 0.004457502752480156), (4466, 0.004456679672665311), (4586, 0.004456675276204364), (4089, 0.004456388595185288), (1083, 0.0044531186221359), (27, 0.004445909960328246), (3849, 0.004445354741540052), (793, 0.004444889908635249), (447, 0.004444183633871999), (3907, 0.004440434507907398), (3349, 0.004440375514596653), (4275, 0.004437657786646233), (3507, 0.004436800060859535), (637, 0.0044320846281599244), (189, 0.0044320733535243365), (2780, 0.004431557392824976), (2944, 0.004430041228107824), (918, 0.004429209907285769), (584, 0.004428567250687275), (980, 0.004423447876434198), (2919, 0.004421421576184849), (606, 0.004419585551460036), (2053, 0.004418714530668468), (1629, 0.0044179745724723446), (4249, 0.0044160242528686515), (1443, 0.004415739591493735), (3623, 0.004415137575420006), (2988, 0.004414287144840126), (4470, 0.004412592424823899), (3153, 0.004407238316212441), (137, 0.004406449210004754), (2334, 0.004405243303216359), (2668, 0.0044037600644585805), (3233, 0.004403046556015769), (95, 0.00440262131345711), (743, 0.004398048625058422), (2235, 0.0043979315357094775), (685, 0.004396619611821936), (2276, 0.004396316754173965), (809, 0.004393941843914807), (118, 0.004391514245264187), (902, 0.004390394312407924), (4098, 0.0043871472796651835), (2947, 0.004386739228312674), (4088, 0.004386092903735475), (4533, 0.004380303014911653), (4189, 0.004377918962371757), (3571, 0.004376508160431434), (1435, 0.004375680402031638), (1174, 0.004375403224777437), (4678, 0.004374388453431846), (1761, 0.0043737645592568045), (1931, 0.004372907524121617), (3699, 0.0043715300640729884), (1832, 0.004371166878857805), (3486, 0.004369958520509473), (1958, 0.004368644248190946), (1337, 0.00436772349802859), (4684, 0.004367640338420855), (406, 0.0043666973495303085), (1266, 0.004366490301246871), (1740, 0.0043659917357425975), (238, 0.004365255297408426), (2960, 0.004365254207133333), (145, 0.004363113507653042), (3653, 0.004362845945466041), (4283, 0.004362750264892853), (2421, 0.004360769174451318), (750, 0.004360316255508396), (2788, 0.004357264099927605), (1587, 0.004356631893545723), (4380, 0.004355618540538667), (3303, 0.004355447312176392), (3404, 0.004354532451185178), (1942, 0.004354406761256498), (832, 0.004351791198741901), (2210, 0.004351557220366831), (3501, 0.0043505439392523635), (2045, 0.0043496317268761275), (919, 0.00434943070615723), (4068, 0.004348125242164871), (1413, 0.004343641646390985), (1991, 0.0043417900822588385), (1302, 0.004340903681032695), (4004, 0.0043404661832697885), (2091, 0.004339529265081719), (2374, 0.004337578893908691), (83, 0.004337111860067259), (3908, 0.004336273897362867), (2061, 0.00433495637157715), (2647, 0.004334863268137149), (3520, 0.004332710035222885), (1472, 0.004329717963539981), (1138, 0.004329476953180945), (2130, 0.0043263803206635325), (4677, 0.004325885343632446), (1335, 0.004322574563261947), (636, 0.004322417426435386), (3210, 0.004317146032519561), (4503, 0.004316462013153157), (3227, 0.0043154269468536665), (628, 0.004315150116588354), (1232, 0.004312974113874133), (30, 0.004312842367124742), (2606, 0.0043095173217957495), (696, 0.004308017117663274), (3436, 0.004307476167017778), (1876, 0.004304545397130946), (4103, 0.004303118704787094), (3125, 0.00430109879532392), (2501, 0.004300543469910565), (4383, 0.0042949069478821844), (347, 0.0042944505179141265), (2506, 0.004293855567141934), (315, 0.004293121751501535), (1074, 0.004293104859541677), (560, 0.0042929021237811185), (4715, 0.004291000091634814), (1488, 0.004290719298808605), (2344, 0.004288854614193433), (3367, 0.004286690402017615), (1385, 0.004285341131576469), (2695, 0.004285238049320288), (1419, 0.004285058261380244), (4310, 0.0042842944077528524), (1566, 0.004283394913584581), (1129, 0.004281574259333414), (761, 0.00428059402830059), (2558, 0.004280521988150541), (1179, 0.0042793648479838835), (849, 0.004277135277122637), (986, 0.004276691326971421), (135, 0.004276277416278601), (305, 0.004275804671716598), (370, 0.004273025593712522), (241, 0.004269444129156514), (1262, 0.00426855028203179), (4148, 0.004263210936767347), (389, 0.004260942206707016), (2336, 0.004255935556011699), (1678, 0.004255505630019448), (4248, 0.004254612961595173), (988, 0.004251100634287973), (3432, 0.0042486062933829935), (3374, 0.004247521808147607), (1811, 0.004245540073142812), (4000, 0.004245269116446194), (3727, 0.004243540458847094), (2174, 0.004242362102501709), (1252, 0.004240424736927044), (3624, 0.004240298390217173), (2280, 0.0042397285804556695), (3435, 0.004238359029850199), (1442, 0.0042372170659527855), (1226, 0.0042368675718102025), (375, 0.004229793750207666), (534, 0.004227157917391036), (2847, 0.004225666799044701), (769, 0.004223929390057317), (3161, 0.0042222509761032445), (3443, 0.004221515573816316), (1621, 0.004219277399338158), (467, 0.004218996089800378), (880, 0.004218499153508899), (4264, 0.00421766806729113), (1257, 0.0042175083353582915), (322, 0.004214529938425459), (530, 0.0042130966933621354), (2961, 0.00421284336886485), (1127, 0.004212533246413902), (1314, 0.00421026927161398), (989, 0.004209661004574611), (1292, 0.0042087986598929915), (727, 0.0042049776505143945), (3499, 0.0042045779326401285), (1937, 0.004204023309136503), (4211, 0.004201317459009854), (927, 0.0041981863280784685), (1696, 0.0041969215903524025), (2216, 0.004194588996813395), (4362, 0.004190738422483081), (84, 0.004190597330140069), (2910, 0.004187588501749952), (244, 0.0041869479195072905), (90, 0.004185245550501481), (870, 0.004185022499661627), (1406, 0.0041829672147363686), (2232, 0.004181381992659257), (2632, 0.004179355686284432), (4309, 0.004177366225675716), (1653, 0.004173683738029198), (4387, 0.004173277109738168), (500, 0.0041732130610160414), (799, 0.004172306802599772), (4039, 0.004172148253954998), (1846, 0.00416933754612502), (2008, 0.004162235340455995), (1017, 0.004160034844733198), (1035, 0.0041578735482122155), (152, 0.004156359488146301), (3370, 0.0041544210761987384), (321, 0.004154160053161816), (825, 0.004150988721147589), (72, 0.004150835198260454), (676, 0.004149319814328444), (790, 0.0041482732506654), (3555, 0.004148119586385129), (643, 0.004147394365950551), (1044, 0.004146086551765917), (4673, 0.004145339662082727), (1030, 0.004142961136944991), (1481, 0.004142413100579781), (1063, 0.004135298348520003), (3011, 0.004132917422208892), (261, 0.004129340136590593), (3696, 0.004127492143521996), (3660, 0.004127312526992187), (1421, 0.004126026067053574), (2918, 0.0041234070150351), (2716, 0.004122542889918981), (4543, 0.004122465844415181), (112, 0.004120462584584139), (915, 0.004118413527066348), (1248, 0.004112132303799374), (310, 0.004112105446472503), (138, 0.0041095038310649664), (1230, 0.0041080594131318055), (18, 0.004104000383986064), (4438, 0.004103283296466738), (4670, 0.004099783997487117), (3504, 0.004099440137800768), (93, 0.004099299252109492), (1478, 0.004098472843474094), (2024, 0.004098467705599656), (4523, 0.004094240422161421), (52, 0.004092259717254312), (2206, 0.004090960866645885), (3498, 0.0040893233477664855), (4481, 0.00408927069528398), (3085, 0.004088700289655015), (356, 0.004082464329055662), (3978, 0.004082313256296969), (284, 0.004081708934838532), (2540, 0.0040791313355710256), (4587, 0.004079129257002723), (3035, 0.004074486704307298), (1412, 0.0040737353843062745), (2711, 0.0040724586785563545), (2787, 0.004069739523569257), (1375, 0.0040678662580809054), (1123, 0.004067631920937238), (1132, 0.004067522031883709), (144, 0.004067308964611626), (644, 0.004065777306292698), (3465, 0.004065275363742502), (4374, 0.0040627014699603685), (2224, 0.0040612840268692265), (360, 0.004061139079363961), (827, 0.004060277498921593), (260, 0.004059502248242473), (911, 0.004054762547897404), (3794, 0.0040537975336403485), (3361, 0.0040515009328697844), (4071, 0.004049595446538328), (2598, 0.004049307787419491), (878, 0.004042475835814772), (1054, 0.004041417659769599), (3819, 0.00404108689642234), (116, 0.0040394415920395966), (3723, 0.004039157375676439), (276, 0.0040355247758939155), (4292, 0.004032488593835073), (2348, 0.004031370863666174), (1181, 0.0040295275922883796), (3466, 0.004029186569455041), (31, 0.004025177226365787), (1788, 0.004024631973379633), (742, 0.0040231503952441365), (3133, 0.004022887890726433), (661, 0.004014987448854384), (1749, 0.0040142335897190825), (1665, 0.004007362512815422), (974, 0.004006586442633566), (468, 0.004005029386735337), (426, 0.00400321167885919), (900, 0.004001695860494087), (4328, 0.003998290607917558), (3100, 0.003997936730375975), (3136, 0.0039918060182119715), (3966, 0.003991649360039772), (3452, 0.003990973808520233), (2992, 0.003990666013724351), (3426, 0.003981390288391584), (866, 0.003978831305529602), (417, 0.003975526729280505), (3143, 0.003974989430741929), (3342, 0.003974296655958114), (532, 0.003974296019197353), (868, 0.003973774831588742), (2742, 0.003973745735520974), (1183, 0.00397265426655712), (3775, 0.0039717973484166055), (2119, 0.00397036544950281), (4325, 0.003969805491492647), (2429, 0.003967407288937371), (316, 0.003966645401278605), (463, 0.003966541502896577), (916, 0.003965797193946455), (2093, 0.0039583355810747615), (1068, 0.0039581038937318595), (3854, 0.003957880605273052), (1519, 0.003957806590805145), (4402, 0.003957544204763224), (1448, 0.003954712003773571), (3993, 0.003954379194258564), (540, 0.003950119119582688), (590, 0.003944681959589457), (3079, 0.003944427480373208), (306, 0.003943367924155), (3711, 0.0039433464867954324), (695, 0.003942117221079359), (4282, 0.003939734823236177), (669, 0.0039380435681857714), (604, 0.003936239230806717), (3460, 0.003935645020904137), (829, 0.003931692812193537), (94, 0.003930387500010783), (3876, 0.00392872145346123), (1462, 0.003925666742021451), (2791, 0.00392517012644548), (4274, 0.003924487042763816), (80, 0.003921596236989312), (4235, 0.0039215297898193375), (801, 0.003920532536718136), (3284, 0.003919867736697274), (4322, 0.003918766315147324), (910, 0.003917862811440431), (397, 0.003913265725285666), (863, 0.003912237918990396), (1259, 0.003911889064424698), (1065, 0.003911862537701093), (4339, 0.003909594039175634), (4164, 0.003908664462385699), (1281, 0.00390642614776979), (4689, 0.0039053858859945914), (1796, 0.0039050646366759704), (199, 0.0039025316439328184), (1675, 0.0038990293209832383), (2803, 0.003894938095623218), (1236, 0.0038923209627767957), (1680, 0.0038870430242330394), (1892, 0.0038863981012913188), (1237, 0.0038851691918782016), (1865, 0.0038827474053463383), (67, 0.003881033353219256), (3860, 0.0038805182743241367), (608, 0.0038796621924970056), (170, 0.003877893451540388), (1173, 0.003873208279158018), (3247, 0.003870885243940608), (1809, 0.003868005102022069), (4154, 0.003867425436758152), (563, 0.003859328446819204), (3318, 0.0038573836146556803), (581, 0.0038569278290046887), (981, 0.0038531480435697197), (1061, 0.003853108725086299), (3974, 0.0038522137163900703), (936, 0.0038509731814526608), (1000, 0.0038495641552327518), (804, 0.00384948861062229), (997, 0.003849249732956439), (4475, 0.0038487461921467335), (1739, 0.0038483215885167445), (800, 0.0038469664779035035), (501, 0.0038432926515122585), (3108, 0.0038413601863782755), (327, 0.0038393681229397882), (2191, 0.00383836001890465), (3841, 0.0038381985304816488), (2607, 0.0038363209485565526), (3801, 0.0038345454395420577), (4590, 0.0038324557117827692), (323, 0.00382844554726359), (3556, 0.003826843399735694), (803, 0.0038253069158787553), (3070, 0.003823184155892071), (1934, 0.0038215749299149696), (732, 0.003820718259588418), (1414, 0.0038182505016808323), (1154, 0.0038148549127136515), (1384, 0.0038092105077585114), (333, 0.0038069398925990746), (3099, 0.0038069170557949125), (2724, 0.003803160850490447), (1694, 0.0038000163559854506), (47, 0.0037989251136224937), (1009, 0.0037968634590816964), (4450, 0.0037939871199945924), (4661, 0.0037938188119771344), (200, 0.003781797924565331), (519, 0.003778976674103925), (1608, 0.0037778472960452534), (808, 0.0037731348984304724), (4365, 0.0037698078144534786), (4679, 0.003762761754472251), (187, 0.0037541556798373894), (3403, 0.0037497235227812514), (4432, 0.003746133323269678), (2820, 0.0037435361736229272), (3637, 0.0037429004752367596), (4553, 0.0037423927139818547), (4468, 0.0037369096082963725), (1018, 0.0037322378256726186), (1348, 0.003728051632555953), (653, 0.0037237924839376366), (2621, 0.0037236291005426727), (2692, 0.0037165667421229062), (2412, 0.0037163046379524293), (3684, 0.00371440035009374), (1772, 0.0037139932344312423), (762, 0.0037097779305397794), (4096, 0.0037079162965650094), (733, 0.0037031361262099137), (642, 0.0036968731976700286), (629, 0.0036958051506970845), (861, 0.0036855799818817626), (3339, 0.003683255554518172), (625, 0.0036831543071334572), (1546, 0.0036819524818664873), (2447, 0.0036708091836154836), (3776, 0.003665525895098638), (1215, 0.003663487685543831), (2070, 0.0036608457147188165), (2981, 0.0036561345875250604), (190, 0.003652351609738422), (1781, 0.003641663498367681), (3065, 0.0036353754981691046), (3344, 0.0036348081553804245), (288, 0.0036347082427566385), (4095, 0.0036322172171693143), (2771, 0.0036316704344968847), (2622, 0.0036311724878524687), (1356, 0.0036225061479113487), (1458, 0.0036224436384542755), (621, 0.0036212168123422673), (2197, 0.0036199122177731874), (1845, 0.003619330001218959), (1300, 0.003619019813061959), (1910, 0.0036157089230426814), (3674, 0.003612822966798478), (3806, 0.003610676548900196), (78, 0.0035976693097431105), (314, 0.0035877718126338023), (3213, 0.0035876760663787546), (640, 0.003582986224393042), (3215, 0.003579391466186287), (4733, 0.0035711432678175357), (3713, 0.003568403827808253), (2355, 0.003568182001689008), (3331, 0.003567733574002791), (1092, 0.003567359327157199), (16, 0.0035672920527485795), (44, 0.0035627579783123527), (2789, 0.0035575705473169417), (2602, 0.0035512934513477106), (442, 0.003548825745038981), (469, 0.0035370155248506383), (3045, 0.0035344229750442313), (149, 0.003534330766630906), (2318, 0.0035338396347865376), (88, 0.003530075925053512), (3957, 0.003527750771547646), (738, 0.0035258246165340477), (3317, 0.00350551585095816), (1530, 0.003505043964507832), (1369, 0.00350301875186593), (433, 0.0035009799082726498), (3756, 0.0035009233766093158), (438, 0.0034988995045667427), (290, 0.0034925165906941097), (76, 0.0034922146989876317), (295, 0.0034903630094273073), (1164, 0.0034801403690510792), (942, 0.0034794628797890884), (435, 0.0034704988991601515), (1377, 0.003452511441244673), (1303, 0.0034507514643729725), (2524, 0.0034487705758201007), (2908, 0.003439396466936989), (1115, 0.0034390317482433613), (719, 0.003438427257382658), (1989, 0.0034376060448115314), (2925, 0.0034363617490205255), (289, 0.0034350938175961108), (1576, 0.003428134883128655), (2013, 0.0034100390817880556), (294, 0.0034077971234209425), (2078, 0.0034038804973376075), (668, 0.0033860395478203854), (1701, 0.003379650381693027), (2917, 0.003371140581293058), (2326, 0.003360750648559586), (1417, 0.0033409135070415477), (3946, 0.003319063472132727), (853, 0.003309165467173589), (571, 0.003299914486924718), (271, 0.003280071939177926), (775, 0.003274316888031679), (1774, 0.0032679308518878823), (562, 0.0032469903122552264), (296, 0.0032077374526071024), (332, 0.003204690325675429), (1276, 0.003192334715378146), (1471, 0.0031738496396150092), (831, 0.0030214686025401595), (243, 0.003013221201391009), (542, 0.0030013045462039083), (1506, 0.002930971291296856), (2544, 0.0027376962087020625), (1, 0.0), (2, 0.0), (4, 0.0), (5, 0.0), (7, 0.0), (8, 0.0), (9, 0.0), (10, 0.0), (11, 0.0), (12, 0.0), (13, 0.0), (14, 0.0), (15, 0.0), (20, 0.0), (22, 0.0), (23, 0.0), (24, 0.0), (26, 0.0), (29, 0.0), (32, 0.0), (33, 0.0), (35, 0.0), (36, 0.0), (37, 0.0), (38, 0.0), (40, 0.0), (41, 0.0), (42, 0.0), (45, 0.0), (49, 0.0), (53, 0.0), (54, 0.0), (55, 0.0), (56, 0.0), (57, 0.0), (59, 0.0), (60, 0.0), (61, 0.0), (62, 0.0), (63, 0.0), (64, 0.0), (65, 0.0), (66, 0.0), (71, 0.0), (75, 0.0), (79, 0.0), (85, 0.0), (86, 0.0), (92, 0.0), (96, 0.0), (97, 0.0), (98, 0.0), (101, 0.0), (103, 0.0), (105, 0.0), (109, 0.0), (110, 0.0), (111, 0.0), (113, 0.0), (114, 0.0), (115, 0.0), (117, 0.0), (119, 0.0), (120, 0.0), (121, 0.0), (122, 0.0), (123, 0.0), (126, 0.0), (130, 0.0), (131, 0.0), (132, 0.0), (134, 0.0), (136, 0.0), (139, 0.0), (140, 0.0), (142, 0.0), (143, 0.0), (146, 0.0), (153, 0.0), (154, 0.0), (155, 0.0), (157, 0.0), (158, 0.0), (159, 0.0), (161, 0.0), (162, 0.0), (164, 0.0), (165, 0.0), (167, 0.0), (168, 0.0), (169, 0.0), (172, 0.0), (173, 0.0), (174, 0.0), (176, 0.0), (178, 0.0), (181, 0.0), (182, 0.0), (183, 0.0), (184, 0.0), (185, 0.0), (186, 0.0), (188, 0.0), (192, 0.0), (194, 0.0), (196, 0.0), (197, 0.0), (198, 0.0), (202, 0.0), (203, 0.0), (205, 0.0), (206, 0.0), (211, 0.0), (212, 0.0), (213, 0.0), (214, 0.0), (215, 0.0), (216, 0.0), (217, 0.0), (219, 0.0), (221, 0.0), (224, 0.0), (225, 0.0), (226, 0.0), (227, 0.0), (228, 0.0), (229, 0.0), (230, 0.0), (231, 0.0), (232, 0.0), (237, 0.0), (246, 0.0), (249, 0.0), (251, 0.0), (252, 0.0), (254, 0.0), (256, 0.0), (257, 0.0), (262, 0.0), (263, 0.0), (264, 0.0), (267, 0.0), (269, 0.0), (270, 0.0), (274, 0.0), (278, 0.0), (280, 0.0), (281, 0.0), (282, 0.0), (283, 0.0), (285, 0.0), (286, 0.0), (287, 0.0), (292, 0.0), (293, 0.0), (302, 0.0), (308, 0.0), (309, 0.0), (312, 0.0), (317, 0.0), (318, 0.0), (319, 0.0), (325, 0.0), (326, 0.0), (328, 0.0), (330, 0.0), (335, 0.0), (336, 0.0), (342, 0.0), (343, 0.0), (346, 0.0), (348, 0.0), (349, 0.0), (351, 0.0), (353, 0.0), (357, 0.0), (358, 0.0), (361, 0.0), (362, 0.0), (363, 0.0), (365, 0.0), (366, 0.0), (367, 0.0), (369, 0.0), (372, 0.0), (373, 0.0), (374, 0.0), (377, 0.0), (381, 0.0), (382, 0.0), (383, 0.0), (384, 0.0), (385, 0.0), (386, 0.0), (387, 0.0), (390, 0.0), (391, 0.0), (392, 0.0), (393, 0.0), (394, 0.0), (395, 0.0), (396, 0.0), (398, 0.0), (399, 0.0), (400, 0.0), (401, 0.0), (403, 0.0), (404, 0.0), (405, 0.0), (407, 0.0), (408, 0.0), (409, 0.0), (410, 0.0), (412, 0.0), (413, 0.0), (416, 0.0), (419, 0.0), (421, 0.0), (422, 0.0), (423, 0.0), (427, 0.0), (428, 0.0), (431, 0.0), (432, 0.0), (434, 0.0), (437, 0.0), (440, 0.0), (441, 0.0), (444, 0.0), (445, 0.0), (446, 0.0), (448, 0.0), (449, 0.0), (452, 0.0), (454, 0.0), (455, 0.0), (456, 0.0), (457, 0.0), (459, 0.0), (461, 0.0), (462, 0.0), (464, 0.0), (465, 0.0), (466, 0.0), (471, 0.0), (472, 0.0), (473, 0.0), (474, 0.0), (475, 0.0), (476, 0.0), (478, 0.0), (479, 0.0), (480, 0.0), (483, 0.0), (484, 0.0), (485, 0.0), (486, 0.0), (487, 0.0), (489, 0.0), (490, 0.0), (491, 0.0), (492, 0.0), (494, 0.0), (495, 0.0), (496, 0.0), (497, 0.0), (498, 0.0), (499, 0.0), (503, 0.0), (504, 0.0), (505, 0.0), (507, 0.0), (508, 0.0), (510, 0.0), (518, 0.0), (521, 0.0), (522, 0.0), (524, 0.0), (525, 0.0), (526, 0.0), (527, 0.0), (528, 0.0), (529, 0.0), (531, 0.0), (535, 0.0), (536, 0.0), (538, 0.0), (541, 0.0), (544, 0.0), (545, 0.0), (546, 0.0), (547, 0.0), (548, 0.0), (549, 0.0), (551, 0.0), (553, 0.0), (554, 0.0), (555, 0.0), (561, 0.0), (564, 0.0), (565, 0.0), (566, 0.0), (569, 0.0), (572, 0.0), (573, 0.0), (574, 0.0), (575, 0.0), (576, 0.0), (577, 0.0), (578, 0.0), (582, 0.0), (585, 0.0), (586, 0.0), (587, 0.0), (588, 0.0), (589, 0.0), (591, 0.0), (593, 0.0), (594, 0.0), (596, 0.0), (597, 0.0), (599, 0.0), (600, 0.0), (601, 0.0), (602, 0.0), (603, 0.0), (605, 0.0), (609, 0.0), (611, 0.0), (612, 0.0), (613, 0.0), (614, 0.0), (615, 0.0), (616, 0.0), (618, 0.0), (620, 0.0), (623, 0.0), (624, 0.0), (626, 0.0), (627, 0.0), (631, 0.0), (632, 0.0), (638, 0.0), (641, 0.0), (646, 0.0), (647, 0.0), (648, 0.0), (649, 0.0), (650, 0.0), (651, 0.0), (657, 0.0), (658, 0.0), (659, 0.0), (662, 0.0), (663, 0.0), (671, 0.0), (672, 0.0), (674, 0.0), (677, 0.0), (679, 0.0), (680, 0.0), (681, 0.0), (683, 0.0), (684, 0.0), (686, 0.0), (691, 0.0), (693, 0.0), (697, 0.0), (698, 0.0), (702, 0.0), (703, 0.0), (704, 0.0), (705, 0.0), (706, 0.0), (707, 0.0), (709, 0.0), (712, 0.0), (714, 0.0), (715, 0.0), (717, 0.0), (718, 0.0), (720, 0.0), (721, 0.0), (722, 0.0), (724, 0.0), (725, 0.0), (731, 0.0), (734, 0.0), (735, 0.0), (736, 0.0), (737, 0.0), (741, 0.0), (745, 0.0), (747, 0.0), (752, 0.0), (754, 0.0), (755, 0.0), (757, 0.0), (758, 0.0), (759, 0.0), (763, 0.0), (764, 0.0), (766, 0.0), (767, 0.0), (768, 0.0), (771, 0.0), (772, 0.0), (773, 0.0), (774, 0.0), (777, 0.0), (778, 0.0), (780, 0.0), (781, 0.0), (782, 0.0), (783, 0.0), (784, 0.0), (785, 0.0), (786, 0.0), (787, 0.0), (788, 0.0), (789, 0.0), (791, 0.0), (794, 0.0), (796, 0.0), (805, 0.0), (806, 0.0), (812, 0.0), (815, 0.0), (816, 0.0), (817, 0.0), (818, 0.0), (820, 0.0), (821, 0.0), (822, 0.0), (823, 0.0), (824, 0.0), (826, 0.0), (828, 0.0), (830, 0.0), (838, 0.0), (840, 0.0), (841, 0.0), (843, 0.0), (844, 0.0), (846, 0.0), (847, 0.0), (851, 0.0), (852, 0.0), (854, 0.0), (856, 0.0), (857, 0.0), (858, 0.0), (859, 0.0), (862, 0.0), (864, 0.0), (865, 0.0), (867, 0.0), (869, 0.0), (871, 0.0), (872, 0.0), (873, 0.0), (874, 0.0), (881, 0.0), (883, 0.0), (884, 0.0), (885, 0.0), (889, 0.0), (890, 0.0), (892, 0.0), (894, 0.0), (895, 0.0), (897, 0.0), (899, 0.0), (901, 0.0), (903, 0.0), (906, 0.0), (907, 0.0), (908, 0.0), (909, 0.0), (912, 0.0), (913, 0.0), (914, 0.0), (917, 0.0), (920, 0.0), (921, 0.0), (922, 0.0), (924, 0.0), (926, 0.0), (929, 0.0), (933, 0.0), (934, 0.0), (935, 0.0), (938, 0.0), (939, 0.0), (940, 0.0), (941, 0.0), (943, 0.0), (944, 0.0), (945, 0.0), (946, 0.0), (948, 0.0), (949, 0.0), (951, 0.0), (955, 0.0), (956, 0.0), (959, 0.0), (961, 0.0), (962, 0.0), (965, 0.0), (966, 0.0), (972, 0.0), (973, 0.0), (975, 0.0), (978, 0.0), (982, 0.0), (983, 0.0), (984, 0.0), (985, 0.0), (987, 0.0), (990, 0.0), (994, 0.0), (995, 0.0), (998, 0.0), (999, 0.0), (1002, 0.0), (1005, 0.0), (1007, 0.0), (1008, 0.0), (1010, 0.0), (1011, 0.0), (1013, 0.0), (1014, 0.0), (1016, 0.0), (1019, 0.0), (1020, 0.0), (1021, 0.0), (1022, 0.0), (1023, 0.0), (1026, 0.0), (1027, 0.0), (1028, 0.0), (1033, 0.0), (1036, 0.0), (1037, 0.0), (1038, 0.0), (1039, 0.0), (1040, 0.0), (1042, 0.0), (1043, 0.0), (1045, 0.0), (1046, 0.0), (1048, 0.0), (1049, 0.0), (1050, 0.0), (1051, 0.0), (1052, 0.0), (1053, 0.0), (1055, 0.0), (1059, 0.0), (1062, 0.0), (1066, 0.0), (1067, 0.0), (1069, 0.0), (1070, 0.0), (1072, 0.0), (1073, 0.0), (1075, 0.0), (1076, 0.0), (1077, 0.0), (1078, 0.0), (1079, 0.0), (1080, 0.0), (1084, 0.0), (1085, 0.0), (1086, 0.0), (1087, 0.0), (1088, 0.0), (1089, 0.0), (1090, 0.0), (1091, 0.0), (1094, 0.0), (1096, 0.0), (1098, 0.0), (1101, 0.0), (1103, 0.0), (1106, 0.0), (1108, 0.0), (1109, 0.0), (1110, 0.0), (1111, 0.0), (1112, 0.0), (1113, 0.0), (1114, 0.0), (1117, 0.0), (1118, 0.0), (1121, 0.0), (1122, 0.0), (1124, 0.0), (1125, 0.0), (1126, 0.0), (1128, 0.0), (1130, 0.0), (1131, 0.0), (1133, 0.0), (1136, 0.0), (1139, 0.0), (1142, 0.0), (1144, 0.0), (1147, 0.0), (1149, 0.0), (1151, 0.0), (1152, 0.0), (1155, 0.0), (1157, 0.0), (1159, 0.0), (1160, 0.0), (1161, 0.0), (1165, 0.0), (1166, 0.0), (1168, 0.0), (1170, 0.0), (1171, 0.0), (1172, 0.0), (1175, 0.0), (1176, 0.0), (1178, 0.0), (1180, 0.0), (1182, 0.0), (1186, 0.0), (1187, 0.0), (1190, 0.0), (1194, 0.0), (1195, 0.0), (1196, 0.0), (1199, 0.0), (1200, 0.0), (1201, 0.0), (1203, 0.0), (1204, 0.0), (1208, 0.0), (1209, 0.0), (1212, 0.0), (1213, 0.0), (1214, 0.0), (1219, 0.0), (1221, 0.0), (1222, 0.0), (1227, 0.0), (1228, 0.0), (1231, 0.0), (1234, 0.0), (1235, 0.0), (1241, 0.0), (1242, 0.0), (1243, 0.0), (1245, 0.0), (1246, 0.0), (1249, 0.0), (1251, 0.0), (1253, 0.0), (1254, 0.0), (1256, 0.0), (1258, 0.0), (1260, 0.0), (1261, 0.0), (1263, 0.0), (1264, 0.0), (1268, 0.0), (1277, 0.0), (1283, 0.0), (1284, 0.0), (1286, 0.0), (1288, 0.0), (1289, 0.0), (1290, 0.0), (1293, 0.0), (1294, 0.0), (1296, 0.0), (1297, 0.0), (1298, 0.0), (1299, 0.0), (1301, 0.0), (1304, 0.0), (1305, 0.0), (1306, 0.0), (1308, 0.0), (1310, 0.0), (1311, 0.0), (1312, 0.0), (1313, 0.0), (1316, 0.0), (1317, 0.0), (1319, 0.0), (1320, 0.0), (1321, 0.0), (1322, 0.0), (1323, 0.0), (1324, 0.0), (1326, 0.0), (1327, 0.0), (1328, 0.0), (1330, 0.0), (1331, 0.0), (1333, 0.0), (1334, 0.0), (1336, 0.0), (1338, 0.0), (1341, 0.0), (1344, 0.0), (1345, 0.0), (1346, 0.0), (1349, 0.0), (1350, 0.0), (1352, 0.0), (1353, 0.0), (1354, 0.0), (1355, 0.0), (1358, 0.0), (1359, 0.0), (1361, 0.0), (1362, 0.0), (1363, 0.0), (1364, 0.0), (1365, 0.0), (1366, 0.0), (1367, 0.0), (1368, 0.0), (1370, 0.0), (1371, 0.0), (1372, 0.0), (1373, 0.0), (1374, 0.0), (1376, 0.0), (1379, 0.0), (1386, 0.0), (1387, 0.0), (1388, 0.0), (1389, 0.0), (1390, 0.0), (1392, 0.0), (1393, 0.0), (1394, 0.0), (1397, 0.0), (1398, 0.0), (1399, 0.0), (1401, 0.0), (1402, 0.0), (1403, 0.0), (1404, 0.0), (1408, 0.0), (1410, 0.0), (1411, 0.0), (1415, 0.0), (1416, 0.0), (1418, 0.0), (1423, 0.0), (1424, 0.0), (1425, 0.0), (1427, 0.0), (1434, 0.0), (1438, 0.0), (1439, 0.0), (1440, 0.0), (1441, 0.0), (1444, 0.0), (1445, 0.0), (1446, 0.0), (1447, 0.0), (1453, 0.0), (1456, 0.0), (1457, 0.0), (1459, 0.0), (1460, 0.0), (1461, 0.0), (1463, 0.0), (1464, 0.0), (1465, 0.0), (1466, 0.0), (1467, 0.0), (1470, 0.0), (1473, 0.0), (1474, 0.0), (1475, 0.0), (1479, 0.0), (1482, 0.0), (1486, 0.0), (1487, 0.0), (1490, 0.0), (1491, 0.0), (1492, 0.0), (1494, 0.0), (1496, 0.0), (1497, 0.0), (1499, 0.0), (1500, 0.0), (1501, 0.0), (1503, 0.0), (1504, 0.0), (1505, 0.0), (1507, 0.0), (1508, 0.0), (1513, 0.0), (1514, 0.0), (1516, 0.0), (1518, 0.0), (1521, 0.0), (1522, 0.0), (1523, 0.0), (1524, 0.0), (1525, 0.0), (1526, 0.0), (1527, 0.0), (1528, 0.0), (1529, 0.0), (1533, 0.0), (1538, 0.0), (1539, 0.0), (1540, 0.0), (1541, 0.0), (1543, 0.0), (1544, 0.0), (1545, 0.0), (1547, 0.0), (1550, 0.0), (1552, 0.0), (1553, 0.0), (1557, 0.0), (1558, 0.0), (1561, 0.0), (1563, 0.0), (1564, 0.0), (1567, 0.0), (1570, 0.0), (1572, 0.0), (1574, 0.0), (1577, 0.0), (1579, 0.0), (1580, 0.0), (1581, 0.0), (1582, 0.0), (1583, 0.0), (1584, 0.0), (1585, 0.0), (1586, 0.0), (1589, 0.0), (1592, 0.0), (1593, 0.0), (1594, 0.0), (1596, 0.0), (1597, 0.0), (1598, 0.0), (1599, 0.0), (1600, 0.0), (1601, 0.0), (1602, 0.0), (1603, 0.0), (1604, 0.0), (1606, 0.0), (1607, 0.0), (1609, 0.0), (1610, 0.0), (1611, 0.0), (1612, 0.0), (1613, 0.0), (1615, 0.0), (1616, 0.0), (1617, 0.0), (1618, 0.0), (1619, 0.0), (1624, 0.0), (1625, 0.0), (1626, 0.0), (1628, 0.0), (1637, 0.0), (1639, 0.0), (1640, 0.0), (1641, 0.0), (1642, 0.0), (1644, 0.0), (1645, 0.0), (1646, 0.0), (1648, 0.0), (1650, 0.0), (1651, 0.0), (1652, 0.0), (1654, 0.0), (1655, 0.0), (1656, 0.0), (1657, 0.0), (1658, 0.0), (1660, 0.0), (1664, 0.0), (1666, 0.0), (1668, 0.0), (1669, 0.0), (1670, 0.0), (1672, 0.0), (1674, 0.0), (1676, 0.0), (1677, 0.0), (1679, 0.0), (1683, 0.0), (1685, 0.0), (1686, 0.0), (1688, 0.0), (1689, 0.0), (1690, 0.0), (1691, 0.0), (1692, 0.0), (1693, 0.0), (1695, 0.0), (1698, 0.0), (1700, 0.0), (1702, 0.0), (1703, 0.0), (1704, 0.0), (1705, 0.0), (1706, 0.0), (1707, 0.0), (1709, 0.0), (1711, 0.0), (1712, 0.0), (1714, 0.0), (1715, 0.0), (1717, 0.0), (1718, 0.0), (1719, 0.0), (1720, 0.0), (1721, 0.0), (1722, 0.0), (1725, 0.0), (1726, 0.0), (1727, 0.0), (1728, 0.0), (1729, 0.0), (1731, 0.0), (1733, 0.0), (1734, 0.0), (1735, 0.0), (1736, 0.0), (1737, 0.0), (1738, 0.0), (1741, 0.0), (1742, 0.0), (1743, 0.0), (1744, 0.0), (1746, 0.0), (1747, 0.0), (1750, 0.0), (1751, 0.0), (1752, 0.0), (1754, 0.0), (1755, 0.0), (1757, 0.0), (1759, 0.0), (1763, 0.0), (1764, 0.0), (1767, 0.0), (1768, 0.0), (1770, 0.0), (1775, 0.0), (1776, 0.0), (1777, 0.0), (1780, 0.0), (1782, 0.0), (1783, 0.0), (1785, 0.0), (1786, 0.0), (1787, 0.0), (1790, 0.0), (1792, 0.0), (1793, 0.0), (1797, 0.0), (1798, 0.0), (1800, 0.0), (1801, 0.0), (1802, 0.0), (1803, 0.0), (1804, 0.0), (1805, 0.0), (1806, 0.0), (1807, 0.0), (1808, 0.0), (1814, 0.0), (1816, 0.0), (1818, 0.0), (1820, 0.0), (1821, 0.0), (1822, 0.0), (1823, 0.0), (1826, 0.0), (1827, 0.0), (1828, 0.0), (1830, 0.0), (1834, 0.0), (1836, 0.0), (1837, 0.0), (1839, 0.0), (1841, 0.0), (1847, 0.0), (1848, 0.0), (1850, 0.0), (1851, 0.0), (1854, 0.0), (1855, 0.0), (1856, 0.0), (1858, 0.0), (1860, 0.0), (1861, 0.0), (1862, 0.0), (1867, 0.0), (1868, 0.0), (1869, 0.0), (1871, 0.0), (1872, 0.0), (1874, 0.0), (1875, 0.0), (1877, 0.0), (1878, 0.0), (1879, 0.0), (1880, 0.0), (1883, 0.0), (1884, 0.0), (1885, 0.0), (1886, 0.0), (1888, 0.0), (1889, 0.0), (1890, 0.0), (1893, 0.0), (1894, 0.0), (1895, 0.0), (1896, 0.0), (1898, 0.0), (1906, 0.0), (1908, 0.0), (1909, 0.0), (1911, 0.0), (1912, 0.0), (1913, 0.0), (1915, 0.0), (1917, 0.0), (1920, 0.0), (1921, 0.0), (1922, 0.0), (1923, 0.0), (1928, 0.0), (1929, 0.0), (1932, 0.0), (1935, 0.0), (1938, 0.0), (1943, 0.0), (1945, 0.0), (1946, 0.0), (1947, 0.0), (1948, 0.0), (1950, 0.0), (1951, 0.0), (1954, 0.0), (1955, 0.0), (1956, 0.0), (1959, 0.0), (1961, 0.0), (1963, 0.0), (1965, 0.0), (1971, 0.0), (1972, 0.0), (1973, 0.0), (1974, 0.0), (1977, 0.0), (1978, 0.0), (1979, 0.0), (1980, 0.0), (1982, 0.0), (1984, 0.0), (1986, 0.0), (1987, 0.0), (1988, 0.0), (1994, 0.0), (1999, 0.0), (2000, 0.0), (2001, 0.0), (2002, 0.0), (2003, 0.0), (2004, 0.0), (2006, 0.0), (2007, 0.0), (2009, 0.0), (2010, 0.0), (2011, 0.0), (2014, 0.0), (2016, 0.0), (2018, 0.0), (2019, 0.0), (2020, 0.0), (2022, 0.0), (2023, 0.0), (2025, 0.0), (2026, 0.0), (2027, 0.0), (2028, 0.0), (2029, 0.0), (2032, 0.0), (2033, 0.0), (2034, 0.0), (2035, 0.0), (2036, 0.0), (2038, 0.0), (2039, 0.0), (2041, 0.0), (2042, 0.0), (2043, 0.0), (2046, 0.0), (2047, 0.0), (2048, 0.0), (2049, 0.0), (2050, 0.0), (2051, 0.0), (2052, 0.0), (2054, 0.0), (2055, 0.0), (2058, 0.0), (2060, 0.0), (2063, 0.0), (2064, 0.0), (2067, 0.0), (2068, 0.0), (2071, 0.0), (2072, 0.0), (2076, 0.0), (2077, 0.0), (2079, 0.0), (2080, 0.0), (2082, 0.0), (2083, 0.0), (2085, 0.0), (2086, 0.0), (2087, 0.0), (2090, 0.0), (2092, 0.0), (2095, 0.0), (2097, 0.0), (2098, 0.0), (2099, 0.0), (2100, 0.0), (2102, 0.0), (2103, 0.0), (2105, 0.0), (2106, 0.0), (2107, 0.0), (2108, 0.0), (2109, 0.0), (2111, 0.0), (2113, 0.0), (2117, 0.0), (2118, 0.0), (2120, 0.0), (2122, 0.0), (2123, 0.0), (2124, 0.0), (2125, 0.0), (2126, 0.0), (2127, 0.0), (2128, 0.0), (2131, 0.0), (2132, 0.0), (2133, 0.0), (2134, 0.0), (2135, 0.0), (2137, 0.0), (2140, 0.0), (2141, 0.0), (2142, 0.0), (2143, 0.0), (2144, 0.0), (2145, 0.0), (2146, 0.0), (2147, 0.0), (2148, 0.0), (2149, 0.0), (2150, 0.0), (2151, 0.0), (2153, 0.0), (2155, 0.0), (2156, 0.0), (2157, 0.0), (2159, 0.0), (2160, 0.0), (2161, 0.0), (2162, 0.0), (2163, 0.0), (2164, 0.0), (2169, 0.0), (2170, 0.0), (2171, 0.0), (2172, 0.0), (2173, 0.0), (2175, 0.0), (2176, 0.0), (2179, 0.0), (2182, 0.0), (2183, 0.0), (2184, 0.0), (2189, 0.0), (2190, 0.0), (2192, 0.0), (2193, 0.0), (2195, 0.0), (2198, 0.0), (2199, 0.0), (2201, 0.0), (2203, 0.0), (2204, 0.0), (2207, 0.0), (2209, 0.0), (2211, 0.0), (2212, 0.0), (2213, 0.0), (2215, 0.0), (2217, 0.0), (2219, 0.0), (2220, 0.0), (2221, 0.0), (2222, 0.0), (2223, 0.0), (2226, 0.0), (2228, 0.0), (2230, 0.0), (2234, 0.0), (2236, 0.0), (2237, 0.0), (2238, 0.0), (2239, 0.0), (2240, 0.0), (2241, 0.0), (2242, 0.0), (2243, 0.0), (2244, 0.0), (2247, 0.0), (2248, 0.0), (2249, 0.0), (2250, 0.0), (2251, 0.0), (2253, 0.0), (2257, 0.0), (2258, 0.0), (2259, 0.0), (2260, 0.0), (2261, 0.0), (2262, 0.0), (2263, 0.0), (2264, 0.0), (2265, 0.0), (2266, 0.0), (2267, 0.0), (2268, 0.0), (2269, 0.0), (2271, 0.0), (2272, 0.0), (2274, 0.0), (2277, 0.0), (2279, 0.0), (2282, 0.0), (2285, 0.0), (2286, 0.0), (2287, 0.0), (2288, 0.0), (2289, 0.0), (2290, 0.0), (2291, 0.0), (2292, 0.0), (2293, 0.0), (2296, 0.0), (2297, 0.0), (2298, 0.0), (2299, 0.0), (2300, 0.0), (2301, 0.0), (2302, 0.0), (2303, 0.0), (2304, 0.0), (2305, 0.0), (2306, 0.0), (2307, 0.0), (2308, 0.0), (2309, 0.0), (2310, 0.0), (2311, 0.0), (2313, 0.0), (2315, 0.0), (2316, 0.0), (2317, 0.0), (2319, 0.0), (2320, 0.0), (2321, 0.0), (2322, 0.0), (2324, 0.0), (2325, 0.0), (2327, 0.0), (2329, 0.0), (2331, 0.0), (2332, 0.0), (2333, 0.0), (2335, 0.0), (2337, 0.0), (2338, 0.0), (2339, 0.0), (2340, 0.0), (2341, 0.0), (2342, 0.0), (2343, 0.0), (2346, 0.0), (2347, 0.0), (2349, 0.0), (2350, 0.0), (2351, 0.0), (2352, 0.0), (2353, 0.0), (2356, 0.0), (2358, 0.0), (2359, 0.0), (2360, 0.0), (2361, 0.0), (2362, 0.0), (2363, 0.0), (2364, 0.0), (2365, 0.0), (2366, 0.0), (2367, 0.0), (2368, 0.0), (2370, 0.0), (2371, 0.0), (2372, 0.0), (2375, 0.0), (2377, 0.0), (2379, 0.0), (2380, 0.0), (2381, 0.0), (2382, 0.0), (2384, 0.0), (2385, 0.0), (2386, 0.0), (2387, 0.0), (2388, 0.0), (2389, 0.0), (2390, 0.0), (2391, 0.0), (2392, 0.0), (2393, 0.0), (2394, 0.0), (2395, 0.0), (2396, 0.0), (2397, 0.0), (2398, 0.0), (2399, 0.0), (2401, 0.0), (2402, 0.0), (2403, 0.0), (2404, 0.0), (2405, 0.0), (2407, 0.0), (2408, 0.0), (2409, 0.0), (2411, 0.0), (2414, 0.0), (2415, 0.0), (2416, 0.0), (2417, 0.0), (2418, 0.0), (2419, 0.0), (2420, 0.0), (2422, 0.0), (2423, 0.0), (2424, 0.0), (2425, 0.0), (2430, 0.0), (2434, 0.0), (2436, 0.0), (2437, 0.0), (2438, 0.0), (2440, 0.0), (2441, 0.0), (2444, 0.0), (2445, 0.0), (2446, 0.0), (2448, 0.0), (2449, 0.0), (2450, 0.0), (2451, 0.0), (2452, 0.0), (2454, 0.0), (2455, 0.0), (2456, 0.0), (2457, 0.0), (2458, 0.0), (2460, 0.0), (2461, 0.0), (2462, 0.0), (2463, 0.0), (2464, 0.0), (2465, 0.0), (2466, 0.0), (2467, 0.0), (2469, 0.0), (2470, 0.0), (2471, 0.0), (2472, 0.0), (2473, 0.0), (2475, 0.0), (2478, 0.0), (2479, 0.0), (2481, 0.0), (2483, 0.0), (2484, 0.0), (2485, 0.0), (2487, 0.0), (2488, 0.0), (2489, 0.0), (2490, 0.0), (2491, 0.0), (2492, 0.0), (2494, 0.0), (2495, 0.0), (2500, 0.0), (2502, 0.0), (2504, 0.0), (2505, 0.0), (2507, 0.0), (2508, 0.0), (2512, 0.0), (2513, 0.0), (2514, 0.0), (2515, 0.0), (2517, 0.0), (2518, 0.0), (2519, 0.0), (2520, 0.0), (2521, 0.0), (2523, 0.0), (2525, 0.0), (2527, 0.0), (2528, 0.0), (2529, 0.0), (2530, 0.0), (2533, 0.0), (2535, 0.0), (2536, 0.0), (2538, 0.0), (2539, 0.0), (2542, 0.0), (2543, 0.0), (2545, 0.0), (2546, 0.0), (2547, 0.0), (2548, 0.0), (2549, 0.0), (2550, 0.0), (2551, 0.0), (2553, 0.0), (2554, 0.0), (2556, 0.0), (2557, 0.0), (2559, 0.0), (2563, 0.0), (2565, 0.0), (2566, 0.0), (2568, 0.0), (2570, 0.0), (2575, 0.0), (2577, 0.0), (2578, 0.0), (2579, 0.0), (2582, 0.0), (2583, 0.0), (2584, 0.0), (2585, 0.0), (2586, 0.0), (2587, 0.0), (2589, 0.0), (2590, 0.0), (2592, 0.0), (2593, 0.0), (2594, 0.0), (2595, 0.0), (2597, 0.0), (2600, 0.0), (2603, 0.0), (2604, 0.0), (2605, 0.0), (2610, 0.0), (2612, 0.0), (2613, 0.0), (2614, 0.0), (2615, 0.0), (2616, 0.0), (2619, 0.0), (2620, 0.0), (2624, 0.0), (2625, 0.0), (2627, 0.0), (2628, 0.0), (2629, 0.0), (2631, 0.0), (2633, 0.0), (2634, 0.0), (2635, 0.0), (2637, 0.0), (2640, 0.0), (2641, 0.0), (2643, 0.0), (2646, 0.0), (2648, 0.0), (2649, 0.0), (2650, 0.0), (2651, 0.0), (2652, 0.0), (2653, 0.0), (2654, 0.0), (2656, 0.0), (2657, 0.0), (2658, 0.0), (2662, 0.0), (2663, 0.0), (2664, 0.0), (2665, 0.0), (2666, 0.0), (2669, 0.0), (2670, 0.0), (2671, 0.0), (2672, 0.0), (2673, 0.0), (2674, 0.0), (2675, 0.0), (2676, 0.0), (2677, 0.0), (2678, 0.0), (2681, 0.0), (2684, 0.0), (2687, 0.0), (2688, 0.0), (2691, 0.0), (2693, 0.0), (2694, 0.0), (2696, 0.0), (2699, 0.0), (2701, 0.0), (2702, 0.0), (2703, 0.0), (2704, 0.0), (2705, 0.0), (2706, 0.0), (2708, 0.0), (2709, 0.0), (2710, 0.0), (2712, 0.0), (2715, 0.0), (2717, 0.0), (2718, 0.0), (2719, 0.0), (2720, 0.0), (2721, 0.0), (2722, 0.0), (2723, 0.0), (2725, 0.0), (2726, 0.0), (2728, 0.0), (2729, 0.0), (2730, 0.0), (2731, 0.0), (2732, 0.0), (2734, 0.0), (2735, 0.0), (2737, 0.0), (2738, 0.0), (2741, 0.0), (2743, 0.0), (2744, 0.0), (2745, 0.0), (2746, 0.0), (2747, 0.0), (2748, 0.0), (2749, 0.0), (2750, 0.0), (2752, 0.0), (2753, 0.0), (2754, 0.0), (2755, 0.0), (2756, 0.0), (2757, 0.0), (2758, 0.0), (2760, 0.0), (2761, 0.0), (2762, 0.0), (2764, 0.0), (2765, 0.0), (2766, 0.0), (2767, 0.0), (2769, 0.0), (2770, 0.0), (2772, 0.0), (2774, 0.0), (2775, 0.0), (2776, 0.0), (2779, 0.0), (2781, 0.0), (2782, 0.0), (2783, 0.0), (2786, 0.0), (2792, 0.0), (2794, 0.0), (2796, 0.0), (2798, 0.0), (2799, 0.0), (2800, 0.0), (2802, 0.0), (2805, 0.0), (2806, 0.0), (2807, 0.0), (2809, 0.0), (2810, 0.0), (2811, 0.0), (2812, 0.0), (2813, 0.0), (2815, 0.0), (2816, 0.0), (2817, 0.0), (2821, 0.0), (2822, 0.0), (2823, 0.0), (2826, 0.0), (2830, 0.0), (2831, 0.0), (2832, 0.0), (2833, 0.0), (2834, 0.0), (2836, 0.0), (2838, 0.0), (2841, 0.0), (2842, 0.0), (2843, 0.0), (2846, 0.0), (2848, 0.0), (2849, 0.0), (2850, 0.0), (2853, 0.0), (2855, 0.0), (2856, 0.0), (2858, 0.0), (2860, 0.0), (2861, 0.0), (2862, 0.0), (2863, 0.0), (2864, 0.0), (2866, 0.0), (2867, 0.0), (2868, 0.0), (2869, 0.0), (2870, 0.0), (2872, 0.0), (2873, 0.0), (2874, 0.0), (2875, 0.0), (2877, 0.0), (2880, 0.0), (2882, 0.0), (2883, 0.0), (2885, 0.0), (2886, 0.0), (2887, 0.0), (2888, 0.0), (2891, 0.0), (2892, 0.0), (2893, 0.0), (2896, 0.0), (2897, 0.0), (2898, 0.0), (2900, 0.0), (2901, 0.0), (2902, 0.0), (2904, 0.0), (2905, 0.0), (2907, 0.0), (2909, 0.0), (2911, 0.0), (2912, 0.0), (2913, 0.0), (2914, 0.0), (2915, 0.0), (2916, 0.0), (2920, 0.0), (2924, 0.0), (2926, 0.0), (2928, 0.0), (2930, 0.0), (2931, 0.0), (2933, 0.0), (2934, 0.0), (2935, 0.0), (2936, 0.0), (2937, 0.0), (2938, 0.0), (2941, 0.0), (2942, 0.0), (2943, 0.0), (2945, 0.0), (2946, 0.0), (2948, 0.0), (2950, 0.0), (2951, 0.0), (2953, 0.0), (2954, 0.0), (2955, 0.0), (2956, 0.0), (2957, 0.0), (2958, 0.0), (2962, 0.0), (2964, 0.0), (2965, 0.0), (2967, 0.0), (2968, 0.0), (2969, 0.0), (2970, 0.0), (2971, 0.0), (2972, 0.0), (2973, 0.0), (2974, 0.0), (2976, 0.0), (2980, 0.0), (2983, 0.0), (2985, 0.0), (2986, 0.0), (2987, 0.0), (2989, 0.0), (2993, 0.0), (2994, 0.0), (2995, 0.0), (2997, 0.0), (2998, 0.0), (2999, 0.0), (3000, 0.0), (3003, 0.0), (3004, 0.0), (3006, 0.0), (3007, 0.0), (3008, 0.0), (3009, 0.0), (3010, 0.0), (3013, 0.0), (3014, 0.0), (3015, 0.0), (3016, 0.0), (3017, 0.0), (3018, 0.0), (3020, 0.0), (3024, 0.0), (3025, 0.0), (3027, 0.0), (3029, 0.0), (3030, 0.0), (3031, 0.0), (3033, 0.0), (3034, 0.0), (3036, 0.0), (3037, 0.0), (3038, 0.0), (3039, 0.0), (3040, 0.0), (3041, 0.0), (3042, 0.0), (3044, 0.0), (3047, 0.0), (3050, 0.0), (3051, 0.0), (3052, 0.0), (3053, 0.0), (3054, 0.0), (3055, 0.0), (3056, 0.0), (3057, 0.0), (3058, 0.0), (3059, 0.0), (3060, 0.0), (3061, 0.0), (3062, 0.0), (3063, 0.0), (3064, 0.0), (3066, 0.0), (3067, 0.0), (3069, 0.0), (3071, 0.0), (3072, 0.0), (3073, 0.0), (3074, 0.0), (3076, 0.0), (3077, 0.0), (3078, 0.0), (3080, 0.0), (3081, 0.0), (3082, 0.0), (3084, 0.0), (3087, 0.0), (3088, 0.0), (3089, 0.0), (3090, 0.0), (3091, 0.0), (3093, 0.0), (3094, 0.0), (3096, 0.0), (3097, 0.0), (3098, 0.0), (3101, 0.0), (3102, 0.0), (3104, 0.0), (3107, 0.0), (3109, 0.0), (3111, 0.0), (3113, 0.0), (3115, 0.0), (3116, 0.0), (3119, 0.0), (3120, 0.0), (3121, 0.0), (3127, 0.0), (3128, 0.0), (3132, 0.0), (3137, 0.0), (3138, 0.0), (3139, 0.0), (3140, 0.0), (3142, 0.0), (3144, 0.0), (3145, 0.0), (3146, 0.0), (3147, 0.0), (3148, 0.0), (3149, 0.0), (3150, 0.0), (3151, 0.0), (3152, 0.0), (3157, 0.0), (3164, 0.0), (3165, 0.0), (3166, 0.0), (3167, 0.0), (3169, 0.0), (3170, 0.0), (3171, 0.0), (3172, 0.0), (3173, 0.0), (3174, 0.0), (3175, 0.0), (3176, 0.0), (3177, 0.0), (3178, 0.0), (3181, 0.0), (3182, 0.0), (3183, 0.0), (3186, 0.0), (3187, 0.0), (3188, 0.0), (3189, 0.0), (3190, 0.0), (3192, 0.0), (3197, 0.0), (3198, 0.0), (3199, 0.0), (3200, 0.0), (3201, 0.0), (3202, 0.0), (3203, 0.0), (3204, 0.0), (3205, 0.0), (3208, 0.0), (3209, 0.0), (3211, 0.0), (3212, 0.0), (3214, 0.0), (3216, 0.0), (3217, 0.0), (3218, 0.0), (3219, 0.0), (3220, 0.0), (3221, 0.0), (3222, 0.0), (3223, 0.0), (3224, 0.0), (3225, 0.0), (3226, 0.0), (3229, 0.0), (3230, 0.0), (3231, 0.0), (3234, 0.0), (3236, 0.0), (3237, 0.0), (3238, 0.0), (3239, 0.0), (3240, 0.0), (3241, 0.0), (3242, 0.0), (3243, 0.0), (3245, 0.0), (3246, 0.0), (3248, 0.0), (3249, 0.0), (3252, 0.0), (3253, 0.0), (3254, 0.0), (3255, 0.0), (3256, 0.0), (3257, 0.0), (3258, 0.0), (3259, 0.0), (3260, 0.0), (3261, 0.0), (3262, 0.0), (3264, 0.0), (3265, 0.0), (3266, 0.0), (3267, 0.0), (3268, 0.0), (3269, 0.0), (3270, 0.0), (3272, 0.0), (3273, 0.0), (3274, 0.0), (3276, 0.0), (3277, 0.0), (3282, 0.0), (3283, 0.0), (3285, 0.0), (3287, 0.0), (3288, 0.0), (3289, 0.0), (3291, 0.0), (3292, 0.0), (3293, 0.0), (3294, 0.0), (3295, 0.0), (3296, 0.0), (3297, 0.0), (3298, 0.0), (3299, 0.0), (3300, 0.0), (3301, 0.0), (3302, 0.0), (3304, 0.0), (3306, 0.0), (3307, 0.0), (3308, 0.0), (3309, 0.0), (3310, 0.0), (3313, 0.0), (3314, 0.0), (3315, 0.0), (3316, 0.0), (3319, 0.0), (3321, 0.0), (3323, 0.0), (3324, 0.0), (3326, 0.0), (3327, 0.0), (3329, 0.0), (3336, 0.0), (3337, 0.0), (3340, 0.0), (3341, 0.0), (3343, 0.0), (3345, 0.0), (3347, 0.0), (3350, 0.0), (3351, 0.0), (3353, 0.0), (3354, 0.0), (3355, 0.0), (3356, 0.0), (3357, 0.0), (3358, 0.0), (3359, 0.0), (3360, 0.0), (3362, 0.0), (3363, 0.0), (3364, 0.0), (3365, 0.0), (3366, 0.0), (3368, 0.0), (3369, 0.0), (3371, 0.0), (3372, 0.0), (3373, 0.0), (3375, 0.0), (3376, 0.0), (3379, 0.0), (3382, 0.0), (3383, 0.0), (3388, 0.0), (3389, 0.0), (3390, 0.0), (3391, 0.0), (3393, 0.0), (3395, 0.0), (3396, 0.0), (3397, 0.0), (3399, 0.0), (3400, 0.0), (3402, 0.0), (3406, 0.0), (3407, 0.0), (3408, 0.0), (3409, 0.0), (3410, 0.0), (3412, 0.0), (3413, 0.0), (3414, 0.0), (3415, 0.0), (3417, 0.0), (3418, 0.0), (3419, 0.0), (3420, 0.0), (3421, 0.0), (3422, 0.0), (3423, 0.0), (3424, 0.0), (3425, 0.0), (3428, 0.0), (3430, 0.0), (3431, 0.0), (3441, 0.0), (3442, 0.0), (3444, 0.0), (3447, 0.0), (3449, 0.0), (3453, 0.0), (3454, 0.0), (3455, 0.0), (3457, 0.0), (3458, 0.0), (3459, 0.0), (3461, 0.0), (3462, 0.0), (3463, 0.0), (3467, 0.0), (3469, 0.0), (3472, 0.0), (3473, 0.0), (3475, 0.0), (3476, 0.0), (3477, 0.0), (3478, 0.0), (3479, 0.0), (3481, 0.0), (3482, 0.0), (3485, 0.0), (3489, 0.0), (3490, 0.0), (3491, 0.0), (3492, 0.0), (3493, 0.0), (3494, 0.0), (3496, 0.0), (3500, 0.0), (3503, 0.0), (3505, 0.0), (3506, 0.0), (3508, 0.0), (3509, 0.0), (3510, 0.0), (3511, 0.0), (3512, 0.0), (3515, 0.0), (3517, 0.0), (3519, 0.0), (3523, 0.0), (3524, 0.0), (3525, 0.0), (3526, 0.0), (3527, 0.0), (3529, 0.0), (3532, 0.0), (3533, 0.0), (3534, 0.0), (3536, 0.0), (3537, 0.0), (3538, 0.0), (3539, 0.0), (3540, 0.0), (3541, 0.0), (3542, 0.0), (3543, 0.0), (3544, 0.0), (3545, 0.0), (3546, 0.0), (3548, 0.0), (3549, 0.0), (3551, 0.0), (3552, 0.0), (3554, 0.0), (3557, 0.0), (3558, 0.0), (3559, 0.0), (3560, 0.0), (3561, 0.0), (3563, 0.0), (3565, 0.0), (3566, 0.0), (3567, 0.0), (3568, 0.0), (3569, 0.0), (3572, 0.0), (3573, 0.0), (3574, 0.0), (3577, 0.0), (3578, 0.0), (3579, 0.0), (3581, 0.0), (3585, 0.0), (3586, 0.0), (3587, 0.0), (3590, 0.0), (3591, 0.0), (3592, 0.0), (3593, 0.0), (3594, 0.0), (3595, 0.0), (3596, 0.0), (3598, 0.0), (3599, 0.0), (3603, 0.0), (3606, 0.0), (3607, 0.0), (3608, 0.0), (3610, 0.0), (3611, 0.0), (3612, 0.0), (3614, 0.0), (3615, 0.0), (3616, 0.0), (3617, 0.0), (3620, 0.0), (3621, 0.0), (3622, 0.0), (3625, 0.0), (3626, 0.0), (3627, 0.0), (3628, 0.0), (3629, 0.0), (3630, 0.0), (3631, 0.0), (3633, 0.0), (3634, 0.0), (3636, 0.0), (3639, 0.0), (3641, 0.0), (3643, 0.0), (3644, 0.0), (3645, 0.0), (3646, 0.0), (3647, 0.0), (3648, 0.0), (3649, 0.0), (3650, 0.0), (3651, 0.0), (3654, 0.0), (3655, 0.0), (3656, 0.0), (3657, 0.0), (3658, 0.0), (3662, 0.0), (3663, 0.0), (3665, 0.0), (3667, 0.0), (3668, 0.0), (3669, 0.0), (3671, 0.0), (3672, 0.0), (3676, 0.0), (3677, 0.0), (3678, 0.0), (3681, 0.0), (3682, 0.0), (3683, 0.0), (3686, 0.0), (3687, 0.0), (3689, 0.0), (3690, 0.0), (3691, 0.0), (3701, 0.0), (3706, 0.0), (3707, 0.0), (3709, 0.0), (3712, 0.0), (3714, 0.0), (3716, 0.0), (3717, 0.0), (3718, 0.0), (3719, 0.0), (3722, 0.0), (3725, 0.0), (3726, 0.0), (3728, 0.0), (3729, 0.0), (3730, 0.0), (3732, 0.0), (3735, 0.0), (3736, 0.0), (3737, 0.0), (3739, 0.0), (3740, 0.0), (3742, 0.0), (3743, 0.0), (3745, 0.0), (3748, 0.0), (3749, 0.0), (3750, 0.0), (3752, 0.0), (3753, 0.0), (3754, 0.0), (3755, 0.0), (3757, 0.0), (3759, 0.0), (3760, 0.0), (3761, 0.0), (3762, 0.0), (3763, 0.0), (3764, 0.0), (3765, 0.0), (3767, 0.0), (3770, 0.0), (3772, 0.0), (3773, 0.0), (3778, 0.0), (3779, 0.0), (3781, 0.0), (3783, 0.0), (3784, 0.0), (3785, 0.0), (3786, 0.0), (3789, 0.0), (3791, 0.0), (3792, 0.0), (3795, 0.0), (3796, 0.0), (3798, 0.0), (3799, 0.0), (3800, 0.0), (3803, 0.0), (3804, 0.0), (3805, 0.0), (3808, 0.0), (3809, 0.0), (3811, 0.0), (3812, 0.0), (3813, 0.0), (3816, 0.0), (3817, 0.0), (3818, 0.0), (3820, 0.0), (3822, 0.0), (3825, 0.0), (3826, 0.0), (3827, 0.0), (3829, 0.0), (3830, 0.0), (3832, 0.0), (3834, 0.0), (3836, 0.0), (3837, 0.0), (3838, 0.0), (3839, 0.0), (3840, 0.0), (3842, 0.0), (3843, 0.0), (3845, 0.0), (3846, 0.0), (3847, 0.0), (3848, 0.0), (3851, 0.0), (3856, 0.0), (3858, 0.0), (3861, 0.0), (3863, 0.0), (3864, 0.0), (3865, 0.0), (3866, 0.0), (3867, 0.0), (3868, 0.0), (3869, 0.0), (3870, 0.0), (3873, 0.0), (3874, 0.0), (3877, 0.0), (3878, 0.0), (3879, 0.0), (3880, 0.0), (3882, 0.0), (3884, 0.0), (3885, 0.0), (3887, 0.0), (3888, 0.0), (3889, 0.0), (3890, 0.0), (3891, 0.0), (3894, 0.0), (3895, 0.0), (3896, 0.0), (3898, 0.0), (3900, 0.0), (3902, 0.0), (3903, 0.0), (3904, 0.0), (3905, 0.0), (3906, 0.0), (3909, 0.0), (3912, 0.0), (3913, 0.0), (3914, 0.0), (3915, 0.0), (3916, 0.0), (3917, 0.0), (3918, 0.0), (3920, 0.0), (3921, 0.0), (3922, 0.0), (3923, 0.0), (3924, 0.0), (3925, 0.0), (3926, 0.0), (3927, 0.0), (3928, 0.0), (3929, 0.0), (3930, 0.0), (3931, 0.0), (3932, 0.0), (3933, 0.0), (3934, 0.0), (3935, 0.0), (3936, 0.0), (3937, 0.0), (3941, 0.0), (3943, 0.0), (3945, 0.0), (3948, 0.0), (3949, 0.0), (3950, 0.0), (3951, 0.0), (3952, 0.0), (3954, 0.0), (3956, 0.0), (3958, 0.0), (3962, 0.0), (3963, 0.0), (3964, 0.0), (3967, 0.0), (3968, 0.0), (3973, 0.0), (3976, 0.0), (3977, 0.0), (3979, 0.0), (3980, 0.0), (3981, 0.0), (3982, 0.0), (3983, 0.0), (3984, 0.0), (3986, 0.0), (3988, 0.0), (3990, 0.0), (3991, 0.0), (3996, 0.0), (3998, 0.0), (3999, 0.0), (4001, 0.0), (4002, 0.0), (4007, 0.0), (4008, 0.0), (4009, 0.0), (4010, 0.0), (4011, 0.0), (4012, 0.0), (4014, 0.0), (4015, 0.0), (4016, 0.0), (4017, 0.0), (4018, 0.0), (4019, 0.0), (4020, 0.0), (4021, 0.0), (4022, 0.0), (4023, 0.0), (4024, 0.0), (4026, 0.0), (4027, 0.0), (4030, 0.0), (4031, 0.0), (4032, 0.0), (4033, 0.0), (4034, 0.0), (4035, 0.0), (4036, 0.0), (4037, 0.0), (4041, 0.0), (4042, 0.0), (4045, 0.0), (4048, 0.0), (4049, 0.0), (4051, 0.0), (4052, 0.0), (4053, 0.0), (4054, 0.0), (4055, 0.0), (4057, 0.0), (4058, 0.0), (4060, 0.0), (4061, 0.0), (4062, 0.0), (4064, 0.0), (4065, 0.0), (4066, 0.0), (4067, 0.0), (4069, 0.0), (4070, 0.0), (4072, 0.0), (4073, 0.0), (4075, 0.0), (4077, 0.0), (4079, 0.0), (4080, 0.0), (4081, 0.0), (4082, 0.0), (4083, 0.0), (4084, 0.0), (4087, 0.0), (4093, 0.0), (4097, 0.0), (4099, 0.0), (4100, 0.0), (4101, 0.0), (4102, 0.0), (4104, 0.0), (4105, 0.0), (4107, 0.0), (4110, 0.0), (4112, 0.0), (4113, 0.0), (4114, 0.0), (4115, 0.0), (4117, 0.0), (4118, 0.0), (4125, 0.0), (4126, 0.0), (4127, 0.0), (4129, 0.0), (4130, 0.0), (4131, 0.0), (4135, 0.0), (4136, 0.0), (4137, 0.0), (4138, 0.0), (4139, 0.0), (4140, 0.0), (4141, 0.0), (4142, 0.0), (4143, 0.0), (4144, 0.0), (4145, 0.0), (4146, 0.0), (4147, 0.0), (4151, 0.0), (4152, 0.0), (4153, 0.0), (4155, 0.0), (4156, 0.0), (4161, 0.0), (4166, 0.0), (4168, 0.0), (4169, 0.0), (4171, 0.0), (4172, 0.0), (4175, 0.0), (4177, 0.0), (4179, 0.0), (4181, 0.0), (4182, 0.0), (4183, 0.0), (4184, 0.0), (4185, 0.0), (4187, 0.0), (4190, 0.0), (4191, 0.0), (4192, 0.0), (4194, 0.0), (4195, 0.0), (4196, 0.0), (4197, 0.0), (4198, 0.0), (4199, 0.0), (4200, 0.0), (4201, 0.0), (4202, 0.0), (4203, 0.0), (4204, 0.0), (4205, 0.0), (4206, 0.0), (4207, 0.0), (4209, 0.0), (4212, 0.0), (4213, 0.0), (4214, 0.0), (4215, 0.0), (4217, 0.0), (4218, 0.0), (4220, 0.0), (4221, 0.0), (4222, 0.0), (4223, 0.0), (4224, 0.0), (4225, 0.0), (4228, 0.0), (4229, 0.0), (4230, 0.0), (4232, 0.0), (4233, 0.0), (4234, 0.0), (4236, 0.0), (4237, 0.0), (4238, 0.0), (4241, 0.0), (4243, 0.0), (4245, 0.0), (4246, 0.0), (4247, 0.0), (4250, 0.0), (4252, 0.0), (4253, 0.0), (4254, 0.0), (4257, 0.0), (4258, 0.0), (4260, 0.0), (4261, 0.0), (4262, 0.0), (4263, 0.0), (4269, 0.0), (4270, 0.0), (4272, 0.0), (4273, 0.0), (4276, 0.0), (4277, 0.0), (4279, 0.0), (4280, 0.0), (4286, 0.0), (4287, 0.0), (4293, 0.0), (4294, 0.0), (4295, 0.0), (4296, 0.0), (4297, 0.0), (4298, 0.0), (4300, 0.0), (4301, 0.0), (4303, 0.0), (4305, 0.0), (4306, 0.0), (4308, 0.0), (4311, 0.0), (4313, 0.0), (4314, 0.0), (4315, 0.0), (4317, 0.0), (4318, 0.0), (4319, 0.0), (4320, 0.0), (4321, 0.0), (4326, 0.0), (4327, 0.0), (4330, 0.0), (4332, 0.0), (4333, 0.0), (4335, 0.0), (4336, 0.0), (4338, 0.0), (4340, 0.0), (4341, 0.0), (4342, 0.0), (4343, 0.0), (4345, 0.0), (4346, 0.0), (4347, 0.0), (4348, 0.0), (4349, 0.0), (4350, 0.0), (4351, 0.0), (4353, 0.0), (4354, 0.0), (4355, 0.0), (4356, 0.0), (4357, 0.0), (4358, 0.0), (4359, 0.0), (4361, 0.0), (4363, 0.0), (4364, 0.0), (4367, 0.0), (4368, 0.0), (4369, 0.0), (4370, 0.0), (4371, 0.0), (4372, 0.0), (4373, 0.0), (4378, 0.0), (4381, 0.0), (4382, 0.0), (4386, 0.0), (4390, 0.0), (4391, 0.0), (4393, 0.0), (4394, 0.0), (4395, 0.0), (4396, 0.0), (4397, 0.0), (4398, 0.0), (4399, 0.0), (4400, 0.0), (4405, 0.0), (4406, 0.0), (4407, 0.0), (4408, 0.0), (4409, 0.0), (4410, 0.0), (4411, 0.0), (4413, 0.0), (4416, 0.0), (4417, 0.0), (4419, 0.0), (4420, 0.0), (4421, 0.0), (4423, 0.0), (4424, 0.0), (4425, 0.0), (4427, 0.0), (4428, 0.0), (4429, 0.0), (4435, 0.0), (4437, 0.0), (4439, 0.0), (4440, 0.0), (4442, 0.0), (4445, 0.0), (4446, 0.0), (4447, 0.0), (4448, 0.0), (4451, 0.0), (4452, 0.0), (4453, 0.0), (4455, 0.0), (4456, 0.0), (4457, 0.0), (4458, 0.0), (4460, 0.0), (4461, 0.0), (4463, 0.0), (4465, 0.0), (4467, 0.0), (4469, 0.0), (4471, 0.0), (4472, 0.0), (4473, 0.0), (4476, 0.0), (4477, 0.0), (4478, 0.0), (4479, 0.0), (4480, 0.0), (4482, 0.0), (4483, 0.0), (4484, 0.0), (4485, 0.0), (4486, 0.0), (4487, 0.0), (4489, 0.0), (4491, 0.0), (4492, 0.0), (4495, 0.0), (4497, 0.0), (4498, 0.0), (4499, 0.0), (4500, 0.0), (4501, 0.0), (4502, 0.0), (4504, 0.0), (4505, 0.0), (4506, 0.0), (4507, 0.0), (4508, 0.0), (4511, 0.0), (4516, 0.0), (4519, 0.0), (4520, 0.0), (4521, 0.0), (4528, 0.0), (4529, 0.0), (4530, 0.0), (4536, 0.0), (4541, 0.0), (4544, 0.0), (4545, 0.0), (4547, 0.0), (4551, 0.0), (4555, 0.0), (4556, 0.0), (4557, 0.0), (4558, 0.0), (4559, 0.0), (4560, 0.0), (4561, 0.0), (4562, 0.0), (4564, 0.0), (4566, 0.0), (4568, 0.0), (4569, 0.0), (4570, 0.0), (4571, 0.0), (4572, 0.0), (4573, 0.0), (4574, 0.0), (4575, 0.0), (4577, 0.0), (4578, 0.0), (4580, 0.0), (4581, 0.0), (4588, 0.0), (4592, 0.0), (4594, 0.0), (4596, 0.0), (4597, 0.0), (4599, 0.0), (4600, 0.0), (4602, 0.0), (4603, 0.0), (4604, 0.0), (4605, 0.0), (4606, 0.0), (4608, 0.0), (4609, 0.0), (4610, 0.0), (4611, 0.0), (4616, 0.0), (4617, 0.0), (4619, 0.0), (4620, 0.0), (4625, 0.0), (4627, 0.0), (4628, 0.0), (4631, 0.0), (4632, 0.0), (4633, 0.0), (4634, 0.0), (4635, 0.0), (4638, 0.0), (4641, 0.0), (4643, 0.0), (4644, 0.0), (4647, 0.0), (4648, 0.0), (4649, 0.0), (4650, 0.0), (4651, 0.0), (4652, 0.0), (4655, 0.0), (4656, 0.0), (4657, 0.0), (4659, 0.0), (4662, 0.0), (4663, 0.0), (4667, 0.0), (4671, 0.0), (4675, 0.0), (4676, 0.0), (4680, 0.0), (4681, 0.0), (4682, 0.0), (4685, 0.0), (4687, 0.0), (4688, 0.0), (4690, 0.0), (4692, 0.0), (4693, 0.0), (4694, 0.0), (4696, 0.0), (4700, 0.0), (4702, 0.0), (4704, 0.0), (4705, 0.0), (4706, 0.0), (4707, 0.0), (4711, 0.0), (4713, 0.0), (4714, 0.0), (4717, 0.0), (4718, 0.0), (4719, 0.0), (4722, 0.0), (4723, 0.0), (4725, 0.0), (4726, 0.0), (4727, 0.0), (4728, 0.0), (4729, 0.0), (4730, 0.0), (4734, 0.0), (4736, 0.0), (4737, 0.0), (4738, 0.0), (4739, 0.0), (4740, 0.0), (4741, 0.0), (4742, 0.0), (4744, 0.0), (4745, 0.0), (4748, 0.0), (4749, 0.0), (4752, 0.0), (4753, 0.0), (4754, 0.0), (4756, 0.0), (4758, 0.0), (4759, 0.0)]\n"
          ]
        }
      ]
    },
    {
      "cell_type": "code",
      "source": [
        "# Print the name of similar movies based on the index\n",
        "print('Top 30 Movies Suggested for You : \\n')\n",
        "\n",
        "i = 1\n",
        "\n",
        "for movie in Sorted_Similar_Movies:\n",
        "  index = movie[0]\n",
        "  title_from_index = MR[MR.index==index]['Movie_Title'].values[0]\n",
        "  if(i<31):\n",
        "    print(i, '.', title_from_index)\n",
        "    i+=1"
      ],
      "metadata": {
        "colab": {
          "base_uri": "https://localhost:8080/"
        },
        "id": "HSNUHkiiO_pF",
        "outputId": "5eb0063d-c997-4448-ab10-e6d8e4eeef0c"
      },
      "execution_count": 31,
      "outputs": [
        {
          "output_type": "stream",
          "name": "stdout",
          "text": [
            "Top 30 Movies Suggested for You : \n",
            "\n",
            "1 . The Lords of Salem\n",
            "2 . Halloween II\n",
            "3 . House of 1000 Corpses\n",
            "4 . The Devil's Rejects\n",
            "5 . Re-Kill\n",
            "6 . The Happening\n",
            "7 . Apollo 18\n",
            "8 . The Way Way Back\n",
            "9 . The Bad News Bears\n",
            "10 . Silent Hill\n",
            "11 . Warm Bodies\n",
            "12 . Transformers: Dark of the Moon\n",
            "13 . Land of the Dead\n",
            "14 . Cleopatra\n",
            "15 . Very Bad Things\n",
            "16 . Friday the 13th: The Final Chapter\n",
            "17 . The Sisterhood of Night\n",
            "18 . Bruce Almighty\n",
            "19 . Epic Movie\n",
            "20 . Home for the Holidays\n",
            "21 . Twixt\n",
            "22 . Stargate: The Ark of Truth\n",
            "23 . Country Strong\n",
            "24 . RoboCop\n",
            "25 . Monsters, Inc.\n",
            "26 . The Wizard of Oz\n",
            "27 . The Open Road\n",
            "28 . Up Close & Personal\n",
            "29 . Poultrygeist: Night of the Chicken Dead\n",
            "30 . Tiger Orange\n"
          ]
        }
      ]
    },
    {
      "cell_type": "markdown",
      "source": [
        "### **Top 10 Movie Recommendation System**"
      ],
      "metadata": {
        "id": "if-gmIORQLE9"
      }
    },
    {
      "cell_type": "code",
      "source": [
        "Movie_Name = input(' Enter your favourite movies name : ')\n",
        "list_of_all_titles = MR['Movie_Title'].tolist()\n",
        "Find_Close_Match = difflib.get_close_matches(Movie_Name, list_of_all_titles)\n",
        "Close_Match = Find_Close_Match[0]\n",
        "Index_of_Movie = MR[MR.Movie_Title == Close_Match]['Movie_ID'].values[0]\n",
        "Recommendation_Score = list(enumerate(Similarity_Score[Index_of_Movie]))\n",
        "sorted_similar_movies = sorted(Recommendation_Score, key = lambda x:x[1], reverse=True)\n",
        "print('Top 10 Movie suggested for you : \\n')\n",
        "\n",
        "i = 1\n",
        "\n",
        "for movie in sorted_similar_movies:\n",
        "  index = movie[0]\n",
        "  title_from_index = MR[MR.Movie_ID==index]['Movie_Title'].values\n",
        "  if(i<11):\n",
        "    print(i, '.', title_from_index)\n",
        "    i+=1\n"
      ],
      "metadata": {
        "colab": {
          "base_uri": "https://localhost:8080/"
        },
        "id": "ugVSil8fQTaP",
        "outputId": "3558b42c-baec-4b19-9179-e47f3ff1a76f"
      },
      "execution_count": 33,
      "outputs": [
        {
          "output_type": "stream",
          "name": "stdout",
          "text": [
            " Enter your favourite movies name : jobs\n",
            "Top 10 Movie suggested for you : \n",
            "\n",
            "1 . ['Robots']\n",
            "2 . ['Thirteen Days']\n",
            "3 . ['Hook']\n",
            "4 . ['Sheena']\n",
            "5 . []\n",
            "6 . ['The Fast and the Furious']\n",
            "7 . ['Travellers and Magicians']\n",
            "8 . ['Darkness Falls']\n",
            "9 . ['Shutter']\n",
            "10 . ['The Prince & Me']\n"
          ]
        }
      ]
    }
  ]
}